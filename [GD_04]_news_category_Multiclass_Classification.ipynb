{
  "cells": [
    {
      "cell_type": "markdown",
      "metadata": {
        "id": "view-in-github",
        "colab_type": "text"
      },
      "source": [
        "<a href=\"https://colab.research.google.com/github/sgr1118/GD-NLP/blob/main/%5BGD_04%5D_news_category_Multiclass_Classification.ipynb\" target=\"_parent\"><img src=\"https://colab.research.google.com/assets/colab-badge.svg\" alt=\"Open In Colab\"/></a>"
      ]
    },
    {
      "cell_type": "markdown",
      "metadata": {
        "id": "Q5xq0-h9LZSi"
      },
      "source": [
        "# 4-9. 프로젝트: Vocabulary Size를 변경해서 시도해보기\n",
        "\n",
        "단어의 수를 어떻게 결정하느냐에 따라서 성능에 영향을 주는지 알아보도록 하자.\n",
        "\n",
        "사용할 ML모델\n",
        "- 나이브 베이즈 분류기, CNB, 로지스틱 회귀, 서포트 벡터 머신, 결정 트리, 랜덤 포레스트, 그래디언트 부스팅 트리, 보팅\n",
        "\n",
        "사용할 deepL모델\n",
        "- LSTM\n",
        "\n",
        "1. 모든 단어 사용\n",
        "\n",
        "2. 상위 5000단어 사용\n",
        "\n",
        "3. 직접 단어 개수를 설정해서 사용\n",
        "\n",
        "4. 1 ~ 3에서 최적의 모델과 단어 수 조건에서 내가 선택한 RNN모델을 적용하여 비교해보기\n",
        "\n"
      ]
    },
    {
      "cell_type": "markdown",
      "metadata": {
        "id": "WFyzr2b-Oin6"
      },
      "source": [
        "# 1. 데이터 불러오기"
      ]
    },
    {
      "cell_type": "code",
      "execution_count": null,
      "metadata": {
        "id": "eG5jpgJ0KF_R"
      },
      "outputs": [],
      "source": [
        "# 데이터 및 라이브러리 불러오기\n",
        "\n",
        "from tensorflow.keras.datasets import reuters\n",
        "import matplotlib.pyplot as plt\n",
        "import seaborn as sns\n",
        "import numpy as np\n",
        "import pandas as pd\n",
        "\n",
        "# vecotrize\n",
        "from sklearn.feature_extraction.text import CountVectorizer\n",
        "from sklearn.feature_extraction.text import TfidfTransformer\n",
        "\n",
        "# ML모델\n",
        "from sklearn.naive_bayes import MultinomialNB # 다항분포 나이브 베이즈 모델\n",
        "from sklearn.linear_model import LogisticRegression, SGDClassifier\n",
        "from sklearn.naive_bayes import ComplementNB\n",
        "from sklearn.tree import DecisionTreeClassifier\n",
        "from sklearn.ensemble import RandomForestClassifier\n",
        "from sklearn.ensemble import GradientBoostingClassifier\n",
        "from sklearn.ensemble import VotingClassifier\n",
        "from sklearn.svm import LinearSVC\n",
        "from sklearn.metrics import accuracy_score # 정확도 계산\n",
        "from sklearn.metrics import f1_score # f1-score 계산\n",
        "\n",
        "# matrix\n",
        "from sklearn.metrics import classification_report\n",
        "from sklearn.metrics import confusion_matrix\n",
        "\n",
        "import warnings\n",
        "warnings.filterwarnings(action='ignore')"
      ]
    },
    {
      "cell_type": "markdown",
      "metadata": {
        "id": "lOnS6NbNQTC_"
      },
      "source": [
        "2-1. 모든 단어를 사용한 경우"
      ]
    },
    {
      "cell_type": "code",
      "execution_count": null,
      "metadata": {
        "id": "Z3FvR0wRQrYg",
        "colab": {
          "base_uri": "https://localhost:8080/"
        },
        "outputId": "3fc4ff34-c1e0-4f6c-eb65-23717d977e7e"
      },
      "outputs": [
        {
          "output_type": "stream",
          "name": "stdout",
          "text": [
            "Downloading data from https://storage.googleapis.com/tensorflow/tf-keras-datasets/reuters.npz\n",
            "2113536/2110848 [==============================] - 0s 0us/step\n",
            "2121728/2110848 [==============================] - 0s 0us/step\n"
          ]
        }
      ],
      "source": [
        "# 데이터 불러오기\n",
        "\n",
        "(x_train, y_train), (x_test, y_test) = reuters.load_data(num_words=None, test_split=0.2)\n",
        "\n",
        "# num_words =  None으로 설정하여 모든 단어를 사용한다."
      ]
    },
    {
      "cell_type": "code",
      "execution_count": null,
      "metadata": {
        "colab": {
          "base_uri": "https://localhost:8080/"
        },
        "id": "lPM0Oh1wUDAa",
        "outputId": "2909ed4a-ccf3-423c-b392-805ed7265d4b"
      },
      "outputs": [
        {
          "name": "stdout",
          "output_type": "stream",
          "text": [
            "훈련 샘플의 수: 8982\n",
            "테스트 샘플의 수: 2246\n"
          ]
        }
      ],
      "source": [
        "print('훈련 샘플의 수: {}'.format(len(x_train)))\n",
        "print('테스트 샘플의 수: {}'.format(len(x_test)))"
      ]
    },
    {
      "cell_type": "code",
      "execution_count": null,
      "metadata": {
        "colab": {
          "base_uri": "https://localhost:8080/"
        },
        "id": "7cY8YVQ_Vdsa",
        "outputId": "a4725c42-6323-4546-8414-02c3f124e5d5"
      },
      "outputs": [
        {
          "name": "stdout",
          "output_type": "stream",
          "text": [
            "[1, 27595, 28842, 8, 43, 10, 447, 5, 25, 207, 270, 5, 3095, 111, 16, 369, 186, 90, 67, 7, 89, 5, 19, 102, 6, 19, 124, 15, 90, 67, 84, 22, 482, 26, 7, 48, 4, 49, 8, 864, 39, 209, 154, 6, 151, 6, 83, 11, 15, 22, 155, 11, 15, 7, 48, 9, 4579, 1005, 504, 6, 258, 6, 272, 11, 15, 22, 134, 44, 11, 15, 16, 8, 197, 1245, 90, 67, 52, 29, 209, 30, 32, 132, 6, 109, 15, 17, 12]\n",
            "[1, 4, 1378, 2025, 9, 697, 4622, 111, 8, 25, 109, 29, 3650, 11, 150, 244, 364, 33, 30, 30, 1398, 333, 6, 18292, 159, 9, 1084, 363, 13, 19231, 71, 9, 16273, 71, 117, 4, 225, 78, 206, 10, 9, 1214, 8, 4, 270, 5, 16273, 7, 748, 48, 9, 19231, 7, 207, 1451, 966, 1864, 793, 97, 133, 336, 7, 4, 493, 98, 273, 104, 284, 25, 39, 338, 22, 905, 220, 3465, 644, 59, 20, 6, 119, 61, 11, 15, 58, 579, 26, 10, 67, 7, 4, 738, 98, 43, 88, 333, 722, 12, 20, 6, 19, 746, 35, 15, 10, 9, 1214, 855, 129, 783, 21, 4, 2280, 244, 364, 51, 16, 299, 452, 16, 515, 4, 99, 29, 5, 4, 364, 281, 48, 10, 9, 1214, 23, 644, 47, 20, 324, 27, 56, 23406, 28185, 5, 192, 510, 17, 12]\n",
            "3\n",
            "3\n"
          ]
        }
      ],
      "source": [
        "# 맵핑된 정수 출력하기\n",
        "\n",
        "print(x_train[0])\n",
        "print(x_test[0])\n",
        "print(y_train[0])\n",
        "print(y_test[0])"
      ]
    },
    {
      "cell_type": "code",
      "execution_count": null,
      "metadata": {
        "colab": {
          "base_uri": "https://localhost:8080/"
        },
        "id": "hkH6KUVSW76m",
        "outputId": "477d0cf5-6185-4fa8-e32b-fb575baa3243"
      },
      "outputs": [
        {
          "output_type": "stream",
          "name": "stdout",
          "text": [
            "클래스의 수 : 46\n"
          ]
        }
      ],
      "source": [
        "# 클래스의 수 확인\n",
        "\n",
        "num_classes = max(y_train) + 1\n",
        "print('클래스의 수 : {}'.format(num_classes))"
      ]
    },
    {
      "cell_type": "markdown",
      "metadata": {
        "id": "mXjSs4JNXEqA"
      },
      "source": [
        "데이터 분포 확인하기"
      ]
    },
    {
      "cell_type": "code",
      "execution_count": null,
      "metadata": {
        "colab": {
          "base_uri": "https://localhost:8080/",
          "height": 316
        },
        "id": "ndmKNWWlXIFF",
        "outputId": "8edef19f-8d1a-42a8-fa68-0e7f18dc8e44"
      },
      "outputs": [
        {
          "name": "stdout",
          "output_type": "stream",
          "text": [
            "훈련용 뉴스의 최대 길이 : 2376\n",
            "훈련용 뉴스의 평군 길이 : 145.5398574927633\n"
          ]
        },
        {
          "data": {
            "image/png": "[encoded data removed]",
            "text/plain": [
              "<Figure size 432x288 with 1 Axes>"
            ]
          },
          "metadata": {},
          "output_type": "display_data"
        }
      ],
      "source": [
        "print('훈련용 뉴스의 최대 길이 : {}'.format(max(len(l) for l in x_train)))\n",
        "print('훈련용 뉴스의 평군 길이 : {}'.format(sum(map(len, x_train)) / len(x_train)))\n",
        "\n",
        "plt.hist([len(s) for s in x_train], bins=50)\n",
        "plt.xlabel('length of samples')\n",
        "plt.ylabel('number of samples')\n",
        "plt.show()\n",
        "\n",
        "# 최대 길이에 비하여 평균길이는 많이 짧다.\n",
        "# 클래스의 분포도 확인해봐야겠다.\n",
        "# num_words 수를 바꿔도 이 분포는 변하지않으면"
      ]
    },
    {
      "cell_type": "code",
      "execution_count": null,
      "metadata": {
        "colab": {
          "base_uri": "https://localhost:8080/"
        },
        "id": "5kCVkZlTzXo7",
        "outputId": "fdd2e5c1-cbdc-4b1e-8410-9318e5d63baa"
      },
      "outputs": [
        {
          "name": "stdout",
          "output_type": "stream",
          "text": [
            "각 클래스 빈도수:\n",
            "[[   0    1    2    3    4    5    6    7    8    9   10   11   12   13\n",
            "    14   15   16   17   18   19   20   21   22   23   24   25   26   27\n",
            "    28   29   30   31   32   33   34   35   36   37   38   39   40   41\n",
            "    42   43   44   45]\n",
            " [  55  432   74 3159 1949   17   48   16  139  101  124  390   49  172\n",
            "    26   20  444   39   66  549  269  100   15   41   62   92   24   15\n",
            "    48   19   45   39   32   11   50   10   49   19   19   24   36   30\n",
            "    13   21   12   18]]\n"
          ]
        }
      ],
      "source": [
        "# 각 클래수 빈도 수 확인하기\n",
        "\n",
        "unique_elements, counts_elements = np.unique(y_train, return_counts = True)\n",
        "print(\"각 클래스 빈도수:\")\n",
        "print(np.asarray((unique_elements, counts_elements)))"
      ]
    },
    {
      "cell_type": "markdown",
      "metadata": {
        "id": "T7OuYGfYzlIS"
      },
      "source": [
        "# 2. 뉴스 데이터 복원하기 (정수 > 텍스트)\n",
        "\n",
        "로이터 뉴스 데이터는 '단어'를 key값으로, 고유한 '정수'를 value로 가지는 dictionary를 제공합니다. 이를 word_index로 저장해보겠습니다."
      ]
    },
    {
      "cell_type": "code",
      "execution_count": null,
      "metadata": {
        "id": "cbModenlzz5X",
        "colab": {
          "base_uri": "https://localhost:8080/"
        },
        "outputId": "4648944d-46f3-4f1d-c4b4-a8a272ea67f7"
      },
      "outputs": [
        {
          "output_type": "stream",
          "name": "stdout",
          "text": [
            "Downloading data from https://storage.googleapis.com/tensorflow/tf-keras-datasets/reuters_word_index.json\n",
            "557056/550378 [==============================] - 0s 0us/step\n",
            "565248/550378 [==============================] - 0s 0us/step\n"
          ]
        }
      ],
      "source": [
        "word_index = reuters.get_word_index(path='reuters_word_index.json')"
      ]
    },
    {
      "cell_type": "code",
      "execution_count": null,
      "metadata": {
        "colab": {
          "base_uri": "https://localhost:8080/"
        },
        "id": "1k4c1YeMz2dC",
        "outputId": "1448db1b-502f-4d9e-bc00-f4c1edc71399"
      },
      "outputs": [
        {
          "name": "stdout",
          "output_type": "stream",
          "text": [
            "1 13\n"
          ]
        }
      ],
      "source": [
        "# 단어와 정수 맵핑 확인해보기\n",
        "print(word_index['the'], word_index['it'])"
      ]
    },
    {
      "cell_type": "markdown",
      "metadata": {
        "id": "jguIpS7Xz7ZC"
      },
      "source": [
        "사실 the는 1번이 아니라 4번 단어이다. 다른 단어들도 만찬가지로 word_index에 입력으로 했을 때, 얻는 숫자보다는 +3을 한 숫자가 고유 숫자이다. 이런 이유는 로이터 뉴스데이터가 정의한 일종의 약속이다."
      ]
    },
    {
      "cell_type": "code",
      "execution_count": null,
      "metadata": {
        "id": "xkm0eFABz2X_"
      },
      "outputs": [],
      "source": [
        "# word_index + 3 적용\n",
        "\n",
        "index_to_word = {index+3 : word for word, index in word_index.items()}"
      ]
    },
    {
      "cell_type": "code",
      "execution_count": null,
      "metadata": {
        "colab": {
          "base_uri": "https://localhost:8080/"
        },
        "id": "evWOTYQ40t4w",
        "outputId": "7686876e-8ae7-4a12-caa8-3ec278ed4ba8"
      },
      "outputs": [
        {
          "name": "stdout",
          "output_type": "stream",
          "text": [
            "the\n",
            "it\n"
          ]
        }
      ],
      "source": [
        "print(index_to_word[4])\n",
        "print(index_to_word[16])"
      ]
    },
    {
      "cell_type": "markdown",
      "metadata": {
        "id": "aHNcNQFX0wns"
      },
      "source": [
        "0번, 1번, 2번은 사실 각각 <pad>, <sos>, <unk>라는 자연어 처리를 위한 특별한 토큰들을 위해 맵핑된 번호입니다. 그래서 만들어진 index_to_word에 추가적으로 이 작업을 해주어야 진짜 index_to_word가 완성됩니다."
      ]
    },
    {
      "cell_type": "code",
      "execution_count": null,
      "metadata": {
        "id": "r92ijbMl0ylp"
      },
      "outputs": [],
      "source": [
        "# index_to_word에 숫자 0은 <pad>, 숫자 1은 <sos>, 숫자 2는 <unk>를 넣어줍니다.\n",
        "for index, token in enumerate((\"<pad>\", \"<sos>\", \"<unk>\")):\n",
        "  index_to_word[index]=token"
      ]
    },
    {
      "cell_type": "code",
      "execution_count": null,
      "metadata": {
        "colab": {
          "base_uri": "https://localhost:8080/"
        },
        "id": "jA9Exn2Y001e",
        "outputId": "b865f071-314d-4d4f-ba48-cc298d3ede21"
      },
      "outputs": [
        {
          "output_type": "stream",
          "name": "stdout",
          "text": [
            "<sos> mcgrath rentcorp said as a result of its december acquisition of space co it expects earnings per share in 1987 of 1 15 to 1 30 dlrs per share up from 70 cts in 1986 the company said pretax net should rise to nine to 10 mln dlrs from six mln dlrs in 1986 and rental operation revenues to 19 to 22 mln dlrs from 12 5 mln dlrs it said cash flow per share this year should be 2 50 to three dlrs reuter 3\n"
          ]
        }
      ],
      "source": [
        "# 뉴스 기사 텍스트 복원\n",
        "\n",
        "print(' '.join([index_to_word[index] for index in x_train[0]]))"
      ]
    },
    {
      "cell_type": "markdown",
      "metadata": {
        "id": "vIDX00QR1Eaw"
      },
      "source": [
        "데이터를 불러오기 할 때 num_words = None으로 설정하였기 때문에 정수 번호가 어떻든 <UNK>는 출력되지 않을 것이다.\n",
        "\n",
        "실제로 그러한지 확인해 보자"
      ]
    },
    {
      "cell_type": "code",
      "execution_count": null,
      "metadata": {
        "colab": {
          "base_uri": "https://localhost:8080/"
        },
        "id": "WaRT1kCY17Py",
        "outputId": "d0670f20-feac-4bbf-b7ba-708971496bf4"
      },
      "outputs": [
        {
          "output_type": "stream",
          "name": "stdout",
          "text": [
            "8982\n"
          ]
        }
      ],
      "source": [
        "# 훈련용 뉴스 데이터 정수 > 텍스트 데이터 변환\n",
        "\n",
        "decoded = []\n",
        "for i in range(len(x_train)):\n",
        "  t = ' '.join([index_to_word[index] for index in x_train[i]])\n",
        "  decoded.append(t)\n",
        "\n",
        "x_train = decoded\n",
        "print(len(x_train))"
      ]
    },
    {
      "cell_type": "code",
      "execution_count": null,
      "metadata": {
        "colab": {
          "base_uri": "https://localhost:8080/"
        },
        "id": "Za1ReR3A1_5R",
        "outputId": "2dab53f5-dc7c-4af7-a13a-cfe936640af3"
      },
      "outputs": [
        {
          "output_type": "stream",
          "name": "stdout",
          "text": [
            "2246\n"
          ]
        }
      ],
      "source": [
        "# 테스트용 뉴스 데이터 정수 > 텍스트 데이터 변환\n",
        "\n",
        "decoded = []\n",
        "for i in range(len(x_test)):\n",
        "    t = ' '.join([index_to_word[index] for index in x_test[i]])\n",
        "    decoded.append(t)\n",
        "\n",
        "x_test = decoded\n",
        "print(len(x_test))"
      ]
    },
    {
      "cell_type": "code",
      "execution_count": null,
      "metadata": {
        "colab": {
          "base_uri": "https://localhost:8080/"
        },
        "id": "7K_m0MxP2CcW",
        "outputId": "8a3195f7-d3d9-44c1-b8c9-c6d6d82a33ef"
      },
      "outputs": [
        {
          "name": "stdout",
          "output_type": "stream",
          "text": [
            "False False\n"
          ]
        }
      ],
      "source": [
        "# element in List를 사용하여 <unk>가 있는지 확인해보기\n",
        "print('<unk>' in x_train, '<unk>' in x_test)"
      ]
    },
    {
      "cell_type": "code",
      "execution_count": null,
      "metadata": {
        "colab": {
          "base_uri": "https://localhost:8080/"
        },
        "id": "Ox0d2rFw3O7w",
        "outputId": "2182b551-7120-476e-c152-ce9c484ac58b"
      },
      "outputs": [
        {
          "name": "stdout",
          "output_type": "stream",
          "text": [
            "<sos> mcgrath rentcorp said as a result of its december acquisition of space co it expects earnings per share in 1987 of 1 15 to 1 30 dlrs per share up from 70 cts in 1986 the company said pretax net should rise to nine to 10 mln dlrs from six mln dlrs in 1986 and rental operation revenues to 19 to 22 mln dlrs from 12 5 mln dlrs it said cash flow per share this year should be 2 50 to three dlrs reuter 3\n",
            "<sos> the great atlantic and pacific tea co said its three year 345 mln dlr capital program will be be substantially increased to accommodate growth and expansion plans for waldbaum inc and shopwell inc over the next two years a and p said the acquisition of shopwell in august 1986 and waldbaum in december helped us achieve better than expected results in the fourth quarter ended february 28 its net income from continuing operations jumped 52 6 pct to 20 7 mln dlrs or 55 cts a share in the latest quarter as sales increased 48 3 pct to 1 58 billion dlrs a and p gave no details on the expanded capital program but it did say it completed the first year of the program during 1986 a and p is 52 4 pct owned by lt tengelmann warenhandelsgesellschaft of west germany reuter 3\n"
          ]
        }
      ],
      "source": [
        "# 일정 문자 출력해보기\n",
        "\n",
        "print(x_train[0])\n",
        "print(x_test[0])"
      ]
    },
    {
      "cell_type": "markdown",
      "metadata": {
        "id": "HsK4HSjw3VsS"
      },
      "source": [
        "# 3. 벡터화하기\n",
        "\n",
        "사용하는 벡터화\n",
        "- CountVectorizer\n",
        "- TfidfTransformer\n",
        "\n",
        "이번 과정에서는 신경망이 아닌 머신러닝 모델을 사용하므로 BOG 가설을 기반으로하는 DTM, TF-IDF를 사용한다."
      ]
    },
    {
      "cell_type": "code",
      "execution_count": null,
      "metadata": {
        "colab": {
          "base_uri": "https://localhost:8080/"
        },
        "id": "znRxOP9r3djx",
        "outputId": "d4871dc3-f596-440a-bea8-428027a6a1e9"
      },
      "outputs": [
        {
          "output_type": "stream",
          "name": "stdout",
          "text": [
            "(8982, 26506)\n"
          ]
        }
      ],
      "source": [
        "# DTM 생성\n",
        "dtmvector = CountVectorizer()\n",
        "x_train_dtm = dtmvector.fit_transform(x_train)\n",
        "print(x_train_dtm.shape)"
      ]
    },
    {
      "cell_type": "code",
      "execution_count": null,
      "metadata": {
        "colab": {
          "base_uri": "https://localhost:8080/"
        },
        "id": "NU42K1tA4EtV",
        "outputId": "e26b0dbc-c456-4509-948d-3fa871ac4cd6"
      },
      "outputs": [
        {
          "output_type": "stream",
          "name": "stdout",
          "text": [
            "(8982, 26506)\n"
          ]
        }
      ],
      "source": [
        "# TF-IDF 벡터화\n",
        "tfidf_transformer = TfidfTransformer()\n",
        "tfidfv = tfidf_transformer.fit_transform(x_train_dtm)\n",
        "print(tfidfv.shape)"
      ]
    },
    {
      "cell_type": "code",
      "execution_count": null,
      "metadata": {
        "id": "7kWpCmvEIwsl"
      },
      "outputs": [],
      "source": [
        "# 정확한 정확도 측정을 위하여 테스트 데이터도 TF-IDF 행렬로 변환해야한다.\n",
        "\n",
        "x_test_dtm = dtmvector.transform(x_test) #테스트 데이터를 DTM으로 변환\n",
        "tfidfv_test = tfidf_transformer.transform(x_test_dtm) #DTM을 TF-IDF 행렬로 변환"
      ]
    },
    {
      "cell_type": "markdown",
      "metadata": {
        "id": "AkDEx85D4Iew"
      },
      "source": [
        "# 4. 8가지 머신러닝 모델 구현하기\n",
        "\n",
        "- 8가지 머신러닝을 전부 구동할 수 있는 함수를 작성하고 각 모델에 대한 f1-score를 출력한다.\n",
        "\n",
        "- 한번 학습할 때 긴 시간이 걸릴것으로 예측이됨.\n",
        "\n",
        "- 사용하는 ML 모델 : 나이브 베이즈 분류기, CNB, 로지스틱 회귀, 서포트 벡터 머신, 결정 트리, 랜덤 포레스트, 그래디언트 부스팅 트리, 보팅\n",
        "\n",
        "[f1-score 오류 해결](https://aimb.tistory.com/152)"
      ]
    },
    {
      "cell_type": "code",
      "execution_count": null,
      "metadata": {
        "id": "L-e7IVX4BKCl"
      },
      "outputs": [],
      "source": [
        "# 모델 score 출력 함수\n",
        "\n",
        "def get_score(model, tfidfv, y_train, tfidfv_test, y_test):\n",
        "  A = model.score(tfidfv, y_train)\n",
        "  pred = model.predict(tfidfv)\n",
        "  B = f1_score(y_train, pred, average='weighted')\n",
        "  predicted = model.predict(tfidfv_test)\n",
        "  C = model.score(tfidfv_test, y_test)\n",
        "  D = f1_score(y_test, predicted, average='weighted') # 예측값과 실제값 비교 (f1-score)\n",
        "  # average = None 매개변수가 다중 클래스인 경우 지정\n",
        "  return 'train_acc : {:.4f}, train_f1 : {:.4f}, test_acc : {:.4f}, test_f1 : {:.4f}'.format(A, B, C, D)"
      ]
    },
    {
      "cell_type": "code",
      "execution_count": null,
      "metadata": {
        "id": "od4yZZv2Mjz9"
      },
      "outputs": [],
      "source": [
        "# 머신러닝 모델 함수\n",
        "\n",
        "def make_model(tfidfv, y_train, tfidfv_test, y_test):\n",
        "  # 나이브 베이즈 분류기\n",
        "  NB = MultinomialNB().fit(tfidfv, y_train)\n",
        "  print('NB', get_score(NB, tfidfv, y_train, tfidfv_test, y_test))\n",
        "\n",
        "  # 컴플리먼트 나이브 베이즈 분류기\n",
        "  CB = ComplementNB().fit(tfidfv, y_train)\n",
        "  print('CB', get_score(CB, tfidfv, y_train, tfidfv_test, y_test))\n",
        "\n",
        "  # 로지스틱 회귀\n",
        "  lr = LogisticRegression(C=10000, penalty='l2', max_iter=3000).fit(tfidfv, y_train)\n",
        "  print('lr', get_score(lr, tfidfv, y_train, tfidfv_test, y_test))\n",
        "\n",
        "  # 선형 서포트 벡터 머신\n",
        "  lsvc = LinearSVC(C=1000, penalty='l1', max_iter=3000, dual=False).fit(tfidfv, y_train)\n",
        "  print('lsvc', get_score(lsvc, tfidfv, y_train, tfidfv_test, y_test))\n",
        "\n",
        "  # 결정 트리\n",
        "  tree = DecisionTreeClassifier(max_depth=10, random_state=0).fit(tfidfv, y_train)\n",
        "  print('tree', get_score(tree, tfidfv, y_train, tfidfv_test, y_test))\n",
        "\n",
        "  # 랜덤 포레스트\n",
        "  forest = RandomForestClassifier(n_estimators=5, random_state=0).fit(tfidfv, y_train)\n",
        "  print('forest', get_score(forest, tfidfv, y_train, tfidfv_test, y_test))\n",
        "\n",
        "  # 그레디언트 부스트 트리\n",
        "  grbt = GradientBoostingClassifier(random_state=0).fit(tfidfv, y_train)\n",
        "  print('grbt', get_score(grbt, tfidfv, y_train, tfidfv_test, y_test))\n",
        "\n",
        "  # 보팅\n",
        "  voting_classifier = VotingClassifier(estimators=[\n",
        "      ('lr', LogisticRegression(C=10000, max_iter=3000, penalty='l2')),\n",
        "      ('cb', ComplementNB()),\n",
        "      ('grbt', GradientBoostingClassifier(random_state=0))], voting='soft').fit(tfidfv, y_train)\n",
        "  print('voting_classifier', get_score(voting_classifier, tfidfv, y_train, tfidfv_test, y_test))"
      ]
    },
    {
      "cell_type": "code",
      "execution_count": null,
      "metadata": {
        "colab": {
          "background_save": true,
          "base_uri": "https://localhost:8080/"
        },
        "id": "nZc2D_zUBna4",
        "outputId": "9519be4b-6ecf-45c4-c2e2-74e766d7e089"
      },
      "outputs": [
        {
          "name": "stdout",
          "output_type": "stream",
          "text": [
            "NB  train_acc : 0.6346, train_f1 : 0.5460, test_acc : 0.5997, test_f1 : 0.5046\n",
            "CB  train_acc : 0.8403, train_f1 : 0.8264, test_acc : 0.7649, test_f1 : 0.7347\n",
            "lr train_acc : 0.9684, train_f1 : 0.9683, test_acc : 0.8170, test_f1 : 0.8119\n",
            "lsvc train_acc : 0.9684, train_f1 : 0.9683, test_acc : 0.7916, test_f1 : 0.7880\n",
            "tree train_acc : 0.6807, train_f1 : 0.6434, test_acc : 0.6211, test_f1 : 0.5769\n",
            "forest train_acc : 0.9423, train_f1 : 0.9419, test_acc : 0.6545, test_f1 : 0.6226\n",
            "grbt train_acc : 0.9482, train_f1 : 0.9480, test_acc : 0.7703, test_f1 : 0.7642\n",
            "voting_classifier train_acc : 0.9670, train_f1 : 0.9669, test_acc : 0.8157, test_f1 : 0.8118\n"
          ]
        }
      ],
      "source": [
        "make_model(tfidfv, y_train, tfidfv_test, y_test)"
      ]
    },
    {
      "cell_type": "markdown",
      "metadata": {
        "id": "Y1IbG36VQWrk"
      },
      "source": [
        "2-2. 빈도수 상위 5,000개의 단어만 사용\n",
        "\n",
        "2-1에서 초반에 진행한 (1) 레이블 출력, (2) 클래스의 수 확인, (3) 분포 확인은 넘어가도록 한다. 왜냐하면 num_words를 바꿔도 이 내용들은 변하지 않기 때문이다."
      ]
    },
    {
      "cell_type": "code",
      "execution_count": null,
      "metadata": {
        "id": "7LK1r3zuQWrz"
      },
      "outputs": [],
      "source": [
        "# 데이터 불러오기\n",
        "\n",
        "(x_train, y_train), (x_test, y_test) = reuters.load_data(num_words=5000, test_split=0.2)\n",
        "\n",
        "# num_words = 5000으로 설정하여 5000개 사용한다."
      ]
    },
    {
      "cell_type": "code",
      "execution_count": null,
      "metadata": {
        "colab": {
          "base_uri": "https://localhost:8080/"
        },
        "id": "0PMxwE0SQWr0",
        "outputId": "f368217c-eebf-4cc3-ff91-3069bc2f90e0"
      },
      "outputs": [
        {
          "name": "stdout",
          "output_type": "stream",
          "text": [
            "훈련 샘플의 수: 8982\n",
            "테스트 샘플의 수: 2246\n"
          ]
        }
      ],
      "source": [
        "print('훈련 샘플의 수: {}'.format(len(x_train)))\n",
        "print('테스트 샘플의 수: {}'.format(len(x_test)))"
      ]
    },
    {
      "cell_type": "markdown",
      "metadata": {
        "id": "kQLcIdSYRJxQ"
      },
      "source": [
        "# 2. 뉴스 데이터 복원하기 (정수 > 텍스트)\n",
        "\n",
        "로이터 뉴스 데이터는 '단어'를 key값으로, 고유한 '정수'를 value로 가지는 dictionary를 제공합니다. 이를 word_index로 저장해보겠습니다."
      ]
    },
    {
      "cell_type": "code",
      "execution_count": null,
      "metadata": {
        "id": "mad4LvctRJxf"
      },
      "outputs": [],
      "source": [
        "word_index = reuters.get_word_index(path='reuters_word_index.json')"
      ]
    },
    {
      "cell_type": "code",
      "execution_count": null,
      "metadata": {
        "colab": {
          "base_uri": "https://localhost:8080/"
        },
        "id": "Jtz8j0afRJxg",
        "outputId": "ac19b193-d1f8-4042-a10c-4a30952e40d3"
      },
      "outputs": [
        {
          "output_type": "stream",
          "name": "stdout",
          "text": [
            "1 13\n"
          ]
        }
      ],
      "source": [
        "# 단어와 정수 맵핑 확인해보기\n",
        "print(word_index['the'], word_index['it'])"
      ]
    },
    {
      "cell_type": "markdown",
      "metadata": {
        "id": "cY7XravZRJxh"
      },
      "source": [
        "사실 the는 1번이 아니라 4번 단어이다. 다른 단어들도 만찬가지로 word_index에 입력으로 했을 때, 얻는 숫자보다는 +3을 한 숫자가 고유 숫자이다. 이런 이유는 로이터 뉴스데이터가 정의한 일종의 약속이다."
      ]
    },
    {
      "cell_type": "code",
      "execution_count": null,
      "metadata": {
        "id": "TJEZX63ARJxh"
      },
      "outputs": [],
      "source": [
        "# word_index + 3 적용\n",
        "\n",
        "index_to_word = {index+3 : word for word, index in word_index.items()}"
      ]
    },
    {
      "cell_type": "code",
      "execution_count": null,
      "metadata": {
        "colab": {
          "base_uri": "https://localhost:8080/"
        },
        "id": "i4bNj3S9RJxi",
        "outputId": "6a19f020-f39e-4647-b7a2-454197ef0cff"
      },
      "outputs": [
        {
          "name": "stdout",
          "output_type": "stream",
          "text": [
            "the\n",
            "it\n"
          ]
        }
      ],
      "source": [
        "print(index_to_word[4])\n",
        "print(index_to_word[16])"
      ]
    },
    {
      "cell_type": "markdown",
      "metadata": {
        "id": "CPaH3QIbRJxi"
      },
      "source": [
        "0번, 1번, 2번은 사실 각각 <pad>, <sos>, <unk>라는 자연어 처리를 위한 특별한 토큰들을 위해 맵핑된 번호입니다. 그래서 만들어진 index_to_word에 추가적으로 이 작업을 해주어야 진짜 index_to_word가 완성됩니다."
      ]
    },
    {
      "cell_type": "code",
      "execution_count": null,
      "metadata": {
        "id": "D3WmID08RJxi"
      },
      "outputs": [],
      "source": [
        "# index_to_word에 숫자 0은 <pad>, 숫자 1은 <sos>, 숫자 2는 <unk>를 넣어줍니다.\n",
        "for index, token in enumerate((\"<pad>\", \"<sos>\", \"<unk>\")):\n",
        "  index_to_word[index]=token"
      ]
    },
    {
      "cell_type": "code",
      "execution_count": null,
      "metadata": {
        "colab": {
          "base_uri": "https://localhost:8080/"
        },
        "id": "nsCPVdSLRJxi",
        "outputId": "27f56646-34c4-41de-bc8a-c8c58085ed32"
      },
      "outputs": [
        {
          "output_type": "stream",
          "name": "stdout",
          "text": [
            "<sos> <unk> <unk> said as a result of its december acquisition of space co it expects earnings per share in 1987 of 1 15 to 1 30 dlrs per share up from 70 cts in 1986 the company said pretax net should rise to nine to 10 mln dlrs from six mln dlrs in 1986 and rental operation revenues to 19 to 22 mln dlrs from 12 5 mln dlrs it said cash flow per share this year should be 2 50 to three dlrs reuter 3\n"
          ]
        }
      ],
      "source": [
        "# 뉴스 기사 텍스트 복원\n",
        "\n",
        "print(' '.join([index_to_word[index] for index in x_train[0]]))"
      ]
    },
    {
      "cell_type": "code",
      "execution_count": null,
      "metadata": {
        "colab": {
          "base_uri": "https://localhost:8080/"
        },
        "id": "_kBEVVRCRJxj",
        "outputId": "461506ed-fd72-4862-9384-f96dbbb0fc58"
      },
      "outputs": [
        {
          "output_type": "stream",
          "name": "stdout",
          "text": [
            "8982\n"
          ]
        }
      ],
      "source": [
        "# 훈련용 뉴스 데이터 정수 > 텍스트 데이터 변환\n",
        "\n",
        "decoded = []\n",
        "for i in range(len(x_train)):\n",
        "  t = ' '.join([index_to_word[index] for index in x_train[i]])\n",
        "  decoded.append(t)\n",
        "\n",
        "x_train = decoded\n",
        "print(len(x_train))"
      ]
    },
    {
      "cell_type": "code",
      "execution_count": null,
      "metadata": {
        "colab": {
          "base_uri": "https://localhost:8080/"
        },
        "id": "Bv-Svqk0RJxj",
        "outputId": "26f4f3d9-0298-477f-d3a9-2df0e9ff5970"
      },
      "outputs": [
        {
          "output_type": "stream",
          "name": "stdout",
          "text": [
            "2246\n"
          ]
        }
      ],
      "source": [
        "# 테스트용 뉴스 데이터 정수 > 텍스트 데이터 변환\n",
        "\n",
        "decoded = []\n",
        "for i in range(len(x_test)):\n",
        "    t = ' '.join([index_to_word[index] for index in x_test[i]])\n",
        "    decoded.append(t)\n",
        "\n",
        "x_test = decoded\n",
        "print(len(x_test))"
      ]
    },
    {
      "cell_type": "code",
      "execution_count": null,
      "metadata": {
        "colab": {
          "base_uri": "https://localhost:8080/"
        },
        "id": "jw7GYA0BRJxk",
        "outputId": "1967bd7b-6303-4fa8-a880-996d8521b6cb"
      },
      "outputs": [
        {
          "name": "stdout",
          "output_type": "stream",
          "text": [
            "<sos> <unk> <unk> said as a result of its december acquisition of space co it expects earnings per share in 1987 of 1 15 to 1 30 dlrs per share up from 70 cts in 1986 the company said pretax net should rise to nine to 10 mln dlrs from six mln dlrs in 1986 and rental operation revenues to 19 to 22 mln dlrs from 12 5 mln dlrs it said cash flow per share this year should be 2 50 to three dlrs reuter 3\n",
            "<sos> the great atlantic and pacific tea co said its three year 345 mln dlr capital program will be be substantially increased to <unk> growth and expansion plans for <unk> inc and <unk> inc over the next two years a and p said the acquisition of <unk> in august 1986 and <unk> in december helped us achieve better than expected results in the fourth quarter ended february 28 its net income from continuing operations jumped 52 6 pct to 20 7 mln dlrs or 55 cts a share in the latest quarter as sales increased 48 3 pct to 1 58 billion dlrs a and p gave no details on the expanded capital program but it did say it completed the first year of the program during 1986 a and p is 52 4 pct owned by lt <unk> <unk> of west germany reuter 3\n"
          ]
        }
      ],
      "source": [
        "# 일정 문자 출력해보기\n",
        "\n",
        "print(x_train[0])\n",
        "print(x_test[0])"
      ]
    },
    {
      "cell_type": "markdown",
      "metadata": {
        "id": "MMxgSPnQRJxl"
      },
      "source": [
        "# 3. 벡터화하기\n",
        "\n",
        "사용하는 벡터화\n",
        "- CountVectorizer\n",
        "- TfidfTransformer\n",
        "\n",
        "이번 과정에서는 신경망이 아닌 머신러닝 모델을 사용하므로 BOG 가설을 기반으로하는 DTM, TF-IDF를 사용한다."
      ]
    },
    {
      "cell_type": "code",
      "execution_count": null,
      "metadata": {
        "colab": {
          "base_uri": "https://localhost:8080/"
        },
        "id": "SiSH_-MIRJxl",
        "outputId": "667f1db9-2878-4f06-9104-c9da02e1a1d7"
      },
      "outputs": [
        {
          "output_type": "stream",
          "name": "stdout",
          "text": [
            "(8982, 4867)\n"
          ]
        }
      ],
      "source": [
        "# DTM 생성\n",
        "dtmvector = CountVectorizer()\n",
        "x_train_dtm = dtmvector.fit_transform(x_train)\n",
        "print(x_train_dtm.shape)"
      ]
    },
    {
      "cell_type": "code",
      "execution_count": null,
      "metadata": {
        "colab": {
          "base_uri": "https://localhost:8080/"
        },
        "id": "iJyAkFoPRJxm",
        "outputId": "3f04e97b-a5a1-40b3-9e0a-334273ef3e38"
      },
      "outputs": [
        {
          "output_type": "stream",
          "name": "stdout",
          "text": [
            "(8982, 4867)\n"
          ]
        }
      ],
      "source": [
        "tfidf_transformer = TfidfTransformer()\n",
        "tfidfv = tfidf_transformer.fit_transform(x_train_dtm)\n",
        "print(tfidfv.shape)"
      ]
    },
    {
      "cell_type": "code",
      "execution_count": null,
      "metadata": {
        "id": "4k4hn8rORJxm"
      },
      "outputs": [],
      "source": [
        "# 정확한 정확도 측정을 위하여 테스트 데이터도 TF-IDF 행렬로 변환해야한다.\n",
        "\n",
        "x_test_dtm = dtmvector.transform(x_test) #테스트 데이터를 DTM으로 변환\n",
        "tfidfv_test = tfidf_transformer.transform(x_test_dtm) #DTM을 TF-IDF 행렬로 변환"
      ]
    },
    {
      "cell_type": "markdown",
      "metadata": {
        "id": "lyPBwPm9RJxm"
      },
      "source": [
        "# 4. 8가지 머신러닝 모델 구현하기\n",
        "\n",
        "- 8가지 머신러닝을 전부 구동할 수 있는 함수를 작성하고 각 모델에 대한 f1-score를 출력한다.\n",
        "\n",
        "- 한번 학습할 때 긴 시간이 걸릴것으로 예측이됨.\n",
        "\n",
        "- 사용하는 ML 모델 : 나이브 베이즈 분류기, CNB, 로지스틱 회귀, 서포트 벡터 머신, 결정 트리, 랜덤 포레스트, 그래디언트 부스팅 트리, 보팅"
      ]
    },
    {
      "cell_type": "code",
      "execution_count": null,
      "metadata": {
        "id": "vT4a8VDGRJxm"
      },
      "outputs": [],
      "source": [
        "# 모델 score 출력 함수\n",
        "\n",
        "def get_score(model, tfidfv, y_train, tfidfv_test, y_test):\n",
        "  A = model.score(tfidfv, y_train)\n",
        "  pred = model.predict(tfidfv)\n",
        "  B = f1_score(y_train, pred, average='weighted')\n",
        "  predicted = model.predict(tfidfv_test)\n",
        "  C = model.score(tfidfv_test, y_test)\n",
        "  D = f1_score(y_test, predicted, average='weighted') # 예측값과 실제값 비교 (f1-score)\n",
        "  # average = None 매개변수가 다중 클래스인 경우 지정\n",
        "  return 'train_acc : {:.4f}, train_f1 : {:.4f}, test_acc : {:.4f}, test_f1 : {:.4f}'.format(A, B, C, D)"
      ]
    },
    {
      "cell_type": "code",
      "execution_count": null,
      "metadata": {
        "id": "TaW5PP5ARJxn"
      },
      "outputs": [],
      "source": [
        "# 머신러닝 모델 함수\n",
        "\n",
        "def make_model(tfidfv, y_train, tfidfv_test, y_test):\n",
        "  # 나이브 베이즈 분류기\n",
        "  NB = MultinomialNB().fit(tfidfv, y_train)\n",
        "  print('NB', get_score(NB, tfidfv, y_train, tfidfv_test, y_test))\n",
        "\n",
        "  # 컴플리먼트 나이브 베이즈 분류기\n",
        "  CB = ComplementNB().fit(tfidfv, y_train)\n",
        "  print('CB', get_score(CB, tfidfv, y_train, tfidfv_test, y_test))\n",
        "\n",
        "  # 로지스틱 회귀\n",
        "  lr = LogisticRegression(C=10000, penalty='l2', max_iter=3000).fit(tfidfv, y_train)\n",
        "  print('lr', get_score(lr, tfidfv, y_train, tfidfv_test, y_test))\n",
        "\n",
        "  # 선형 서포트 벡터 머신\n",
        "  lsvc = LinearSVC(C=1000, penalty='l1', max_iter=3000, dual=False).fit(tfidfv, y_train)\n",
        "  print('lsvc', get_score(lsvc, tfidfv, y_train, tfidfv_test, y_test))\n",
        "\n",
        "  # 결정 트리\n",
        "  tree = DecisionTreeClassifier(max_depth=10, random_state=0).fit(tfidfv, y_train)\n",
        "  print('tree', get_score(tree, tfidfv, y_train, tfidfv_test, y_test))\n",
        "\n",
        "  # 랜덤 포레스트\n",
        "  forest = RandomForestClassifier(n_estimators=5, random_state=0).fit(tfidfv, y_train)\n",
        "  print('forest', get_score(forest, tfidfv, y_train, tfidfv_test, y_test))\n",
        "\n",
        "  # 그레디언트 부스트 트리\n",
        "  grbt = GradientBoostingClassifier(random_state=0).fit(tfidfv, y_train)\n",
        "  print('grbt', get_score(grbt, tfidfv, y_train, tfidfv_test, y_test))\n",
        "\n",
        "  # 보팅\n",
        "  voting_classifier = VotingClassifier(estimators=[\n",
        "      ('lr', LogisticRegression(C=10000, max_iter=3000, penalty='l2')),\n",
        "      ('cb', ComplementNB()),\n",
        "      ('grbt', GradientBoostingClassifier(random_state=0))], voting='soft').fit(tfidfv, y_train)\n",
        "  print('voting_classifier', get_score(voting_classifier, tfidfv, y_train, tfidfv_test, y_test))"
      ]
    },
    {
      "cell_type": "code",
      "execution_count": null,
      "metadata": {
        "colab": {
          "base_uri": "https://localhost:8080/"
        },
        "id": "70wTXhRkRJxn",
        "outputId": "0255e35b-0df3-4c3c-8cec-07d39d61776d"
      },
      "outputs": [
        {
          "output_type": "stream",
          "name": "stdout",
          "text": [
            "NB  train_acc : 0.7011, train_f1 : 0.6360, test_acc : 0.6732, test_f1 : 0.6013\n",
            "CB  train_acc : 0.8111, train_f1 : 0.7960, test_acc : 0.7707, test_f1 : 0.7459\n",
            "lr train_acc : 0.9684, train_f1 : 0.9683, test_acc : 0.8037, test_f1 : 0.7985\n",
            "lsvc train_acc : 0.9684, train_f1 : 0.9683, test_acc : 0.7703, test_f1 : 0.7667\n",
            "tree train_acc : 0.6774, train_f1 : 0.6396, test_acc : 0.6180, test_f1 : 0.5730\n",
            "forest train_acc : 0.9453, train_f1 : 0.9450, test_acc : 0.7012, test_f1 : 0.6770\n",
            "grbt train_acc : 0.9410, train_f1 : 0.9409, test_acc : 0.7676, test_f1 : 0.7662\n",
            "voting_classifier train_acc : 0.9658, train_f1 : 0.9657, test_acc : 0.8103, test_f1 : 0.8076\n"
          ]
        }
      ],
      "source": [
        "make_model(tfidfv, y_train, tfidfv_test, y_test)"
      ]
    },
    {
      "cell_type": "markdown",
      "metadata": {
        "id": "Na10cShzROlA"
      },
      "source": [
        "2-3. 직접 단어 개수를 지정해보디\n",
        "\n",
        "2-1에서 초반에 진행한 (1) 레이블 출력, (2) 클래스의 수 확인, (3) 분포 확인은 넘어가도록 한다. 왜냐하면 num_words를 바꿔도 이 내용들은 변하지 않기 때문이다.\n",
        "\n",
        "기존에 모든 단어를 사용할 때 만든 DTM에서 (8982, 26506)이었으므로 num_words = 3000으로 결정하였다."
      ]
    },
    {
      "cell_type": "code",
      "execution_count": null,
      "metadata": {
        "id": "4ArP7UXMROlB"
      },
      "outputs": [],
      "source": [
        "# 데이터 불러오기\n",
        "\n",
        "(x_train, y_train), (x_test, y_test) = reuters.load_data(num_words=3000, test_split=0.2)\n",
        "\n",
        "# num_words = 3000으로 설정하여 3000개 단어를 사용한다."
      ]
    },
    {
      "cell_type": "code",
      "execution_count": null,
      "metadata": {
        "colab": {
          "base_uri": "https://localhost:8080/"
        },
        "id": "k-B3nYYAROlC",
        "outputId": "2909ed4a-ccf3-423c-b392-805ed7265d4b"
      },
      "outputs": [
        {
          "name": "stdout",
          "output_type": "stream",
          "text": [
            "훈련 샘플의 수: 8982\n",
            "테스트 샘플의 수: 2246\n"
          ]
        }
      ],
      "source": [
        "print('훈련 샘플의 수: {}'.format(len(x_train)))\n",
        "print('테스트 샘플의 수: {}'.format(len(x_test)))"
      ]
    },
    {
      "cell_type": "markdown",
      "metadata": {
        "id": "RB4sUANMROlC"
      },
      "source": [
        "# 2. 뉴스 데이터 복원하기 (정수 > 텍스트)\n",
        "\n",
        "로이터 뉴스 데이터는 '단어'를 key값으로, 고유한 '정수'를 value로 가지는 dictionary를 제공합니다. 이를 word_index로 저장해보겠습니다."
      ]
    },
    {
      "cell_type": "code",
      "execution_count": null,
      "metadata": {
        "id": "2gSg_f96ROlC"
      },
      "outputs": [],
      "source": [
        "word_index = reuters.get_word_index(path='reuters_word_index.json')"
      ]
    },
    {
      "cell_type": "code",
      "execution_count": null,
      "metadata": {
        "colab": {
          "base_uri": "https://localhost:8080/"
        },
        "id": "xk64LON-ROlD",
        "outputId": "1448db1b-502f-4d9e-bc00-f4c1edc71399"
      },
      "outputs": [
        {
          "name": "stdout",
          "output_type": "stream",
          "text": [
            "1 13\n"
          ]
        }
      ],
      "source": [
        "# 단어와 정수 맵핑 확인해보기\n",
        "print(word_index['the'], word_index['it'])"
      ]
    },
    {
      "cell_type": "markdown",
      "metadata": {
        "id": "bhiWQozbROlD"
      },
      "source": [
        "사실 the는 1번이 아니라 4번 단어이다. 다른 단어들도 만찬가지로 word_index에 입력으로 했을 때, 얻는 숫자보다는 +3을 한 숫자가 고유 숫자이다. 이런 이유는 로이터 뉴스데이터가 정의한 일종의 약속이다."
      ]
    },
    {
      "cell_type": "code",
      "execution_count": null,
      "metadata": {
        "id": "mM47aPe7ROlD"
      },
      "outputs": [],
      "source": [
        "# word_index + 3 적용\n",
        "\n",
        "index_to_word = {index+3 : word for word, index in word_index.items()}"
      ]
    },
    {
      "cell_type": "code",
      "execution_count": null,
      "metadata": {
        "colab": {
          "base_uri": "https://localhost:8080/"
        },
        "id": "7q7ngvgwROlE",
        "outputId": "7686876e-8ae7-4a12-caa8-3ec278ed4ba8"
      },
      "outputs": [
        {
          "name": "stdout",
          "output_type": "stream",
          "text": [
            "the\n",
            "it\n"
          ]
        }
      ],
      "source": [
        "print(index_to_word[4])\n",
        "print(index_to_word[16])"
      ]
    },
    {
      "cell_type": "markdown",
      "metadata": {
        "id": "2yShOTfLROlE"
      },
      "source": [
        "0번, 1번, 2번은 사실 각각 <pad>, <sos>, <unk>라는 자연어 처리를 위한 특별한 토큰들을 위해 맵핑된 번호입니다. 그래서 만들어진 index_to_word에 추가적으로 이 작업을 해주어야 진짜 index_to_word가 완성됩니다."
      ]
    },
    {
      "cell_type": "code",
      "execution_count": null,
      "metadata": {
        "id": "aNIoZsK8ROlE"
      },
      "outputs": [],
      "source": [
        "# index_to_word에 숫자 0은 <pad>, 숫자 1은 <sos>, 숫자 2는 <unk>를 넣어줍니다.\n",
        "for index, token in enumerate((\"<pad>\", \"<sos>\", \"<unk>\")):\n",
        "  index_to_word[index]=token"
      ]
    },
    {
      "cell_type": "code",
      "execution_count": null,
      "metadata": {
        "colab": {
          "base_uri": "https://localhost:8080/"
        },
        "id": "JU1vcGIWROlE",
        "outputId": "2799b768-aa48-48ce-bef2-4c059936dcdc"
      },
      "outputs": [
        {
          "output_type": "stream",
          "name": "stdout",
          "text": [
            "<sos> <unk> <unk> said as a result of its december acquisition of <unk> co it expects earnings per share in 1987 of 1 15 to 1 30 dlrs per share up from 70 cts in 1986 the company said pretax net should rise to nine to 10 mln dlrs from six mln dlrs in 1986 and <unk> operation revenues to 19 to 22 mln dlrs from 12 5 mln dlrs it said cash flow per share this year should be 2 50 to three dlrs reuter 3\n"
          ]
        }
      ],
      "source": [
        "# 뉴스 기사 텍스트 복원\n",
        "\n",
        "print(' '.join([index_to_word[index] for index in x_train[0]]))"
      ]
    },
    {
      "cell_type": "code",
      "execution_count": null,
      "metadata": {
        "colab": {
          "base_uri": "https://localhost:8080/"
        },
        "id": "saMlBeK6ROlF",
        "outputId": "73d78029-6d5b-4e1c-f98f-e48042e18ee2"
      },
      "outputs": [
        {
          "output_type": "stream",
          "name": "stdout",
          "text": [
            "8982\n"
          ]
        }
      ],
      "source": [
        "# 훈련용 뉴스 데이터 정수 > 텍스트 데이터 변환\n",
        "\n",
        "decoded = []\n",
        "for i in range(len(x_train)):\n",
        "  t = ' '.join([index_to_word[index] for index in x_train[i]])\n",
        "  decoded.append(t)\n",
        "\n",
        "x_train = decoded\n",
        "print(len(x_train))"
      ]
    },
    {
      "cell_type": "code",
      "execution_count": null,
      "metadata": {
        "colab": {
          "base_uri": "https://localhost:8080/"
        },
        "id": "UFiq1ZyGROlF",
        "outputId": "d7580d65-5a47-4364-e900-fd82e953cf3e"
      },
      "outputs": [
        {
          "output_type": "stream",
          "name": "stdout",
          "text": [
            "2246\n"
          ]
        }
      ],
      "source": [
        "# 테스트용 뉴스 데이터 정수 > 텍스트 데이터 변환\n",
        "\n",
        "decoded = []\n",
        "for i in range(len(x_test)):\n",
        "    t = ' '.join([index_to_word[index] for index in x_test[i]])\n",
        "    decoded.append(t)\n",
        "\n",
        "x_test = decoded\n",
        "print(len(x_test))"
      ]
    },
    {
      "cell_type": "code",
      "execution_count": null,
      "metadata": {
        "colab": {
          "base_uri": "https://localhost:8080/"
        },
        "id": "hqWfX1etROlF",
        "outputId": "a2d062f1-b9f6-419b-8295-1f8b7722add5"
      },
      "outputs": [
        {
          "output_type": "stream",
          "name": "stdout",
          "text": [
            "False False\n"
          ]
        }
      ],
      "source": [
        "# element in List를 사용하여 <unk>가 있는지 확인해보기\n",
        "print('<unk>' in x_train, '<unk>' in x_test)"
      ]
    },
    {
      "cell_type": "code",
      "execution_count": null,
      "metadata": {
        "colab": {
          "base_uri": "https://localhost:8080/"
        },
        "id": "-7gWM2PAROlG",
        "outputId": "797fec92-381d-4a75-a28e-186eb21894e4"
      },
      "outputs": [
        {
          "output_type": "stream",
          "name": "stdout",
          "text": [
            "<sos> <unk> <unk> said as a result of its december acquisition of <unk> co it expects earnings per share in 1987 of 1 15 to 1 30 dlrs per share up from 70 cts in 1986 the company said pretax net should rise to nine to 10 mln dlrs from six mln dlrs in 1986 and <unk> operation revenues to 19 to 22 mln dlrs from 12 5 mln dlrs it said cash flow per share this year should be 2 50 to three dlrs reuter 3\n",
            "<sos> the great atlantic and pacific <unk> co said its three year <unk> mln dlr capital program will be be substantially increased to <unk> growth and expansion plans for <unk> inc and <unk> inc over the next two years a and p said the acquisition of <unk> in august 1986 and <unk> in december helped us achieve better than expected results in the fourth quarter ended february 28 its net income from continuing operations <unk> 52 6 pct to 20 7 mln dlrs or 55 cts a share in the latest quarter as sales increased 48 3 pct to 1 58 billion dlrs a and p gave no details on the expanded capital program but it did say it completed the first year of the program during 1986 a and p is 52 4 pct owned by lt <unk> <unk> of west germany reuter 3\n"
          ]
        }
      ],
      "source": [
        "# 일정 문자 출력해보기\n",
        "\n",
        "print(x_train[0])\n",
        "print(x_test[0])"
      ]
    },
    {
      "cell_type": "markdown",
      "metadata": {
        "id": "7ZyZEvNVROlG"
      },
      "source": [
        "# 3. 벡터화하기\n",
        "\n",
        "사용하는 벡터화\n",
        "- CountVectorizer\n",
        "- TfidfTransformer\n",
        "\n",
        "이번 과정에서는 신경망이 아닌 머신러닝 모델을 사용하므로 BOG 가설을 기반으로하는 DTM, TF-IDF를 사용한다."
      ]
    },
    {
      "cell_type": "code",
      "execution_count": null,
      "metadata": {
        "colab": {
          "base_uri": "https://localhost:8080/"
        },
        "id": "onYCJr9OROlG",
        "outputId": "e1749a53-83ee-4c3a-8591-b95e4a8a1584"
      },
      "outputs": [
        {
          "output_type": "stream",
          "name": "stdout",
          "text": [
            "(8982, 2919)\n"
          ]
        }
      ],
      "source": [
        "# DTM 생성\n",
        "dtmvector = CountVectorizer()\n",
        "x_train_dtm = dtmvector.fit_transform(x_train)\n",
        "print(x_train_dtm.shape)"
      ]
    },
    {
      "cell_type": "code",
      "execution_count": null,
      "metadata": {
        "colab": {
          "base_uri": "https://localhost:8080/"
        },
        "id": "hdW0p07nROlH",
        "outputId": "91236712-39a9-4262-df85-73b763e5e453"
      },
      "outputs": [
        {
          "output_type": "stream",
          "name": "stdout",
          "text": [
            "(8982, 2919)\n"
          ]
        }
      ],
      "source": [
        "tfidf_transformer = TfidfTransformer()\n",
        "tfidfv = tfidf_transformer.fit_transform(x_train_dtm)\n",
        "print(tfidfv.shape)"
      ]
    },
    {
      "cell_type": "markdown",
      "metadata": {
        "id": "iIZbAulpROlH"
      },
      "source": [
        "# 4. 8가지 머신러닝 모델 구현하기\n",
        "\n",
        "- 8가지 머신러닝을 전부 구동할 수 있는 함수를 작성하고 각 모델에 대한 f1-score를 출력한다.\n",
        "\n",
        "- 한번 학습할 때 긴 시간이 걸릴것으로 예측이됨.\n",
        "\n",
        "- 사용하는 ML 모델 : 나이브 베이즈 분류기, CNB, 로지스틱 회귀, 서포트 벡터 머신, 결정 트리, 랜덤 포레스트, 그래디언트 부스팅 트리, 보팅"
      ]
    },
    {
      "cell_type": "code",
      "execution_count": null,
      "metadata": {
        "id": "d-3mE3Z8ROlH"
      },
      "outputs": [],
      "source": [
        "# 정확한 정확도 측정을 위하여 테스트 데이터도 TF-IDF 행렬로 변환해야한다.\n",
        "\n",
        "x_test_dtm = dtmvector.transform(x_test) #테스트 데이터를 DTM으로 변환\n",
        "tfidfv_test = tfidf_transformer.transform(x_test_dtm) #DTM을 TF-IDF 행렬로 변환"
      ]
    },
    {
      "cell_type": "code",
      "execution_count": null,
      "metadata": {
        "id": "m3Qbad0MROlH"
      },
      "outputs": [],
      "source": [
        "# 모델 score 출력 함수\n",
        "\n",
        "def get_score(model, tfidfv, y_train, tfidfv_test, y_test):\n",
        "  A = model.score(tfidfv, y_train)\n",
        "  pred = model.predict(tfidfv)\n",
        "  B = f1_score(y_train, pred, average='weighted')\n",
        "  predicted = model.predict(tfidfv_test)\n",
        "  C = model.score(tfidfv_test, y_test)\n",
        "  D = f1_score(y_test, predicted, average='weighted') # 예측값과 실제값 비교 (f1-score)\n",
        "  # average = None 매개변수가 다중 클래스인 경우 지정\n",
        "  return 'train_acc : {:.4f}, train_f1 : {:.4f}, test_acc : {:.4f}, test_f1 : {:.4f}'.format(A, B, C, D)"
      ]
    },
    {
      "cell_type": "code",
      "execution_count": null,
      "metadata": {
        "id": "qfLe3m7bROlI"
      },
      "outputs": [],
      "source": [
        "# 머신러닝 모델 함수\n",
        "\n",
        "def make_model(tfidfv, y_train, tfidfv_test, y_test):\n",
        "  # 나이브 베이즈 분류기\n",
        "  NB = MultinomialNB().fit(tfidfv, y_train)\n",
        "  print('NB', get_score(NB, tfidfv, y_train, tfidfv_test, y_test))\n",
        "\n",
        "  # 컴플리먼트 나이브 베이즈 분류기\n",
        "  CB = ComplementNB().fit(tfidfv, y_train)\n",
        "  print('CB', get_score(CB, tfidfv, y_train, tfidfv_test, y_test))\n",
        "\n",
        "  # 로지스틱 회귀\n",
        "  lr = LogisticRegression(C=10000, penalty='l2', max_iter=3000).fit(tfidfv, y_train)\n",
        "  print('lr', get_score(lr, tfidfv, y_train, tfidfv_test, y_test))\n",
        "\n",
        "  # 선형 서포트 벡터 머신\n",
        "  lsvc = LinearSVC(C=1000, penalty='l1', max_iter=3000, dual=False).fit(tfidfv, y_train)\n",
        "  print('lsvc', get_score(lsvc, tfidfv, y_train, tfidfv_test, y_test))\n",
        "\n",
        "  # 결정 트리\n",
        "  tree = DecisionTreeClassifier(max_depth=10, random_state=0).fit(tfidfv, y_train)\n",
        "  print('tree', get_score(tree, tfidfv, y_train, tfidfv_test, y_test))\n",
        "\n",
        "  # 랜덤 포레스트\n",
        "  forest = RandomForestClassifier(n_estimators=5, random_state=0).fit(tfidfv, y_train)\n",
        "  print('forest', get_score(forest, tfidfv, y_train, tfidfv_test, y_test))\n",
        "\n",
        "  # 그레디언트 부스트 트리\n",
        "  grbt = GradientBoostingClassifier(random_state=0).fit(tfidfv, y_train)\n",
        "  print('grbt', get_score(grbt, tfidfv, y_train, tfidfv_test, y_test))\n",
        "\n",
        "  # 보팅\n",
        "  voting_classifier = VotingClassifier(estimators=[\n",
        "      ('lr', LogisticRegression(C=10000, max_iter=3000, penalty='l2')),\n",
        "      ('cb', ComplementNB()),\n",
        "      ('grbt', GradientBoostingClassifier(random_state=0))], voting='soft').fit(tfidfv, y_train)\n",
        "  print('voting_classifier', get_score(voting_classifier, tfidfv, y_train, tfidfv_test, y_test))"
      ]
    },
    {
      "cell_type": "code",
      "execution_count": null,
      "metadata": {
        "id": "zTLcteNkROlI",
        "colab": {
          "base_uri": "https://localhost:8080/"
        },
        "outputId": "71520e8c-d8e9-4d32-bebe-46db62b27cd8"
      },
      "outputs": [
        {
          "output_type": "stream",
          "name": "stdout",
          "text": [
            "NB  train_acc : 0.7154, train_f1 : 0.6617, test_acc : 0.6874, test_f1 : 0.6266\n",
            "CB  train_acc : 0.8000, train_f1 : 0.7815, test_acc : 0.7645, test_f1 : 0.7370\n",
            "lr train_acc : 0.9684, train_f1 : 0.9683, test_acc : 0.7881, test_f1 : 0.7837\n",
            "lsvc train_acc : 0.9684, train_f1 : 0.9683, test_acc : 0.7529, test_f1 : 0.7510\n",
            "tree train_acc : 0.6788, train_f1 : 0.6404, test_acc : 0.6260, test_f1 : 0.5800\n",
            "forest train_acc : 0.9478, train_f1 : 0.9475, test_acc : 0.6857, test_f1 : 0.6592\n",
            "grbt train_acc : 0.9403, train_f1 : 0.9401, test_acc : 0.7756, test_f1 : 0.7721\n",
            "voting_classifier train_acc : 0.9662, train_f1 : 0.9661, test_acc : 0.8019, test_f1 : 0.7977\n"
          ]
        }
      ],
      "source": [
        "make_model(tfidfv, y_train, tfidfv_test, y_test)"
      ]
    },
    {
      "cell_type": "markdown",
      "source": [
        "# 모든 단어 사용한 경우\n",
        "\n",
        "- NB  train_acc : 0.6346, train_f1 : 0.5460, test_acc : 0.5997, test_f1 : 0.5046\n",
        "- CB  train_acc : 0.8403, train_f1 : 0.8264, test_acc : 0.7649, test_f1 : 0.7347\n",
        "- lr train_acc : 0.9684, train_f1 : 0.9683, test_acc : 0.8170, test_f1 : 0.8119\n",
        "- lsvc train_acc : 0.9684, train_f1 : 0.9683, test_acc : 0.7916, test_f1 : 0.7880\n",
        "- tree train_acc : 0.6807, train_f1 : 0.6434, test_acc : 0.6211, test_f1 : 0.5769\n",
        "- forest train_acc : 0.9423, train_f1 : 0.9419, test_acc : 0.6545, test_f1 : 0.6226\n",
        "- grbt train_acc : 0.9482, train_f1 : 0.9480, test_acc : 0.7703, test_f1 : 0.7642\n",
        "- voting_classifier train_acc : 0.9670, train_f1 : 0.9669, test_acc : 0.8157, test_f1 : 0.8118\n",
        "\n",
        "# 5000개 사용한 경우\n",
        "\n",
        "- NB  train_acc : 0.7011, train_f1 : 0.6360, test_acc : 0.6732, test_f1 : 0.6013\n",
        "- CB  train_acc : 0.8111, train_f1 : 0.7960, test_acc : 0.7707, test_f1 : 0.7459\n",
        "- lr train_acc : 0.9684, train_f1 : 0.9683, test_acc : 0.8037, test_f1 : 0.7985\n",
        "- lsvc train_acc : 0.9684, train_f1 : 0.9683, test_acc : 0.7703, test_f1 : 0.7667\n",
        "- tree train_acc : 0.6774, train_f1 : 0.6396, test_acc : 0.6180, test_f1 : 0.5730\n",
        "- forest train_acc : 0.9453, train_f1 : 0.9450, test_acc : 0.7012, test_f1 : 0.6770\n",
        "- grbt train_acc : 0.9410, train_f1 : 0.9409, test_acc : 0.7676, test_f1 : 0.7662\n",
        "- voting_classifier train_acc : 0.9658, train_f1 : 0.9657, test_acc : 0.8103, test_f1 : 0.8076\n",
        "\n",
        "# 3000개 사용한 경우\n",
        "\n",
        "- NB  train_acc : 0.7154, train_f1 : 0.6617, test_acc : 0.6874, test_f1 : 0.6266\n",
        "- CB  train_acc : 0.8000, train_f1 : 0.7815, test_acc : 0.7645, test_f1 : 0.7370\n",
        "- lr train_acc : 0.9684, train_f1 : 0.9683, test_acc : 0.7881, test_f1 : 0.7837\n",
        "- lsvc train_acc : 0.9684, train_f1 : 0.9683, test_acc : 0.7529, test_f1 : 0.7510\n",
        "- tree train_acc : 0.6788, train_f1 : 0.6404, test_acc : 0.6260, test_f1 : 0.5800\n",
        "- forest train_acc : 0.9478, train_f1 : 0.9475, test_acc : 0.6857, test_f1 : 0.6592\n",
        "- grbt train_acc : 0.9403, train_f1 : 0.9401, test_acc : 0.7756, test_f1 : 0.7721\n",
        "- voting_classifier train_acc : 0.9662, train_f1 : 0.9661, test_acc : 0.8019, test_f1 : 0.7977\n",
        "\n",
        "num_words를 바꿨을 때 각 점수를 보면 유의미한 큰 차이를 보여주지는 않는다. RNN 모델에서는 단어크기를 5000으로 지정하여 사용하겠다."
      ],
      "metadata": {
        "id": "Aher3d329AJK"
      }
    },
    {
      "cell_type": "markdown",
      "source": [
        "RNN 모델을 사용하여 정확도 비교해보기"
      ],
      "metadata": {
        "id": "fFvn94Lc9uNk"
      }
    },
    {
      "cell_type": "code",
      "execution_count": null,
      "metadata": {
        "id": "r7EtXeJ9IJ34",
        "colab": {
          "base_uri": "https://localhost:8080/"
        },
        "outputId": "9b7278a9-2745-4313-d0ca-22566d824580"
      },
      "outputs": [
        {
          "output_type": "stream",
          "name": "stdout",
          "text": [
            "Downloading data from https://storage.googleapis.com/tensorflow/tf-keras-datasets/reuters.npz\n",
            "2113536/2110848 [==============================] - 0s 0us/step\n",
            "2121728/2110848 [==============================] - 0s 0us/step\n"
          ]
        }
      ],
      "source": [
        "# 데이터 불러오기\n",
        "\n",
        "(x_train, y_train), (x_test, y_test) = reuters.load_data(num_words=15000, test_split=0.2)\n",
        "\n",
        "# num_words = 15000으로 설정하여 15000으로 단어를 사용한다."
      ]
    },
    {
      "cell_type": "code",
      "execution_count": null,
      "metadata": {
        "colab": {
          "base_uri": "https://localhost:8080/"
        },
        "outputId": "2909ed4a-ccf3-423c-b392-805ed7265d4b",
        "id": "RX5I5Hb4IJ34"
      },
      "outputs": [
        {
          "name": "stdout",
          "output_type": "stream",
          "text": [
            "훈련 샘플의 수: 8982\n",
            "테스트 샘플의 수: 2246\n"
          ]
        }
      ],
      "source": [
        "print('훈련 샘플의 수: {}'.format(len(x_train)))\n",
        "print('테스트 샘플의 수: {}'.format(len(x_test)))"
      ]
    },
    {
      "cell_type": "code",
      "source": [
        "# 클래스의 수 확인\n",
        "\n",
        "num_classes = max(y_train) + 1\n",
        "print('클래스의 수 : {}'.format(num_classes))"
      ],
      "metadata": {
        "colab": {
          "base_uri": "https://localhost:8080/"
        },
        "id": "6p7yU5WrK8LU",
        "outputId": "aa2e4797-2851-457b-9ede-f1699c08ed16"
      },
      "execution_count": null,
      "outputs": [
        {
          "output_type": "stream",
          "name": "stdout",
          "text": [
            "클래스의 수 : 46\n"
          ]
        }
      ]
    },
    {
      "cell_type": "markdown",
      "metadata": {
        "id": "NUOhF8cdIJ35"
      },
      "source": [
        "# 2. 뉴스 데이터 복원하기 (정수 > 텍스트)\n",
        "\n",
        "로이터 뉴스 데이터는 '단어'를 key값으로, 고유한 '정수'를 value로 가지는 dictionary를 제공합니다. 이를 word_index로 저장해보겠습니다."
      ]
    },
    {
      "cell_type": "code",
      "execution_count": null,
      "metadata": {
        "id": "vhY4svJqIJ35",
        "colab": {
          "base_uri": "https://localhost:8080/"
        },
        "outputId": "313224e9-595f-4564-d716-c77cf43beb9d"
      },
      "outputs": [
        {
          "output_type": "stream",
          "name": "stdout",
          "text": [
            "Downloading data from https://storage.googleapis.com/tensorflow/tf-keras-datasets/reuters_word_index.json\n",
            "557056/550378 [==============================] - 0s 0us/step\n",
            "565248/550378 [==============================] - 0s 0us/step\n"
          ]
        }
      ],
      "source": [
        "word_index = reuters.get_word_index(path='reuters_word_index.json')"
      ]
    },
    {
      "cell_type": "code",
      "execution_count": null,
      "metadata": {
        "colab": {
          "base_uri": "https://localhost:8080/"
        },
        "outputId": "7123f187-6989-438e-923c-b858f1d83e03",
        "id": "-LJJN3r2IJ35"
      },
      "outputs": [
        {
          "output_type": "stream",
          "name": "stdout",
          "text": [
            "1 13\n"
          ]
        }
      ],
      "source": [
        "# 단어와 정수 맵핑 확인해보기\n",
        "print(word_index['the'], word_index['it'])"
      ]
    },
    {
      "cell_type": "markdown",
      "metadata": {
        "id": "Q_GsIoffIJ35"
      },
      "source": [
        "사실 the는 1번이 아니라 4번 단어이다. 다른 단어들도 만찬가지로 word_index에 입력으로 했을 때, 얻는 숫자보다는 +3을 한 숫자가 고유 숫자이다. 이런 이유는 로이터 뉴스데이터가 정의한 일종의 약속이다."
      ]
    },
    {
      "cell_type": "code",
      "execution_count": null,
      "metadata": {
        "id": "3zOLBUKLIJ35"
      },
      "outputs": [],
      "source": [
        "# word_index + 3 적용\n",
        "\n",
        "index_to_word = {index+3 : word for word, index in word_index.items()}"
      ]
    },
    {
      "cell_type": "code",
      "execution_count": null,
      "metadata": {
        "colab": {
          "base_uri": "https://localhost:8080/"
        },
        "outputId": "7686876e-8ae7-4a12-caa8-3ec278ed4ba8",
        "id": "ysjagx47IJ35"
      },
      "outputs": [
        {
          "name": "stdout",
          "output_type": "stream",
          "text": [
            "the\n",
            "it\n"
          ]
        }
      ],
      "source": [
        "print(index_to_word[4])\n",
        "print(index_to_word[16])"
      ]
    },
    {
      "cell_type": "markdown",
      "metadata": {
        "id": "HgZ4nElNIJ35"
      },
      "source": [
        "0번, 1번, 2번은 사실 각각 <pad>, <sos>, <unk>라는 자연어 처리를 위한 특별한 토큰들을 위해 맵핑된 번호입니다. 그래서 만들어진 index_to_word에 추가적으로 이 작업을 해주어야 진짜 index_to_word가 완성됩니다."
      ]
    },
    {
      "cell_type": "code",
      "execution_count": null,
      "metadata": {
        "id": "XtQPB77LIJ35"
      },
      "outputs": [],
      "source": [
        "# index_to_word에 숫자 0은 <pad>, 숫자 1은 <sos>, 숫자 2는 <unk>를 넣어줍니다.\n",
        "for index, token in enumerate((\"<pad>\", \"<sos>\", \"<unk>\")):\n",
        "  index_to_word[index]=token"
      ]
    },
    {
      "cell_type": "code",
      "execution_count": null,
      "metadata": {
        "colab": {
          "base_uri": "https://localhost:8080/"
        },
        "outputId": "cb2a3e1a-cc71-456d-a59b-5f3967626221",
        "id": "G1a4bvYgIJ35"
      },
      "outputs": [
        {
          "output_type": "stream",
          "name": "stdout",
          "text": [
            "<sos> <unk> <unk> said as a result of its december acquisition of space co it expects earnings per share in 1987 of 1 15 to 1 30 dlrs per share up from 70 cts in 1986 the company said pretax net should rise to nine to 10 mln dlrs from six mln dlrs in 1986 and rental operation revenues to 19 to 22 mln dlrs from 12 5 mln dlrs it said cash flow per share this year should be 2 50 to three dlrs reuter 3\n"
          ]
        }
      ],
      "source": [
        "# 뉴스 기사 텍스트 복원\n",
        "\n",
        "print(' '.join([index_to_word[index] for index in x_train[0]]))"
      ]
    },
    {
      "cell_type": "markdown",
      "metadata": {
        "id": "se1PVcsuIJ35"
      },
      "source": [
        "데이터를 불러오기 할 때 num_words = None으로 설정하였기 때문에 정수 번호가 어떻든 <UNK>는 출력되지 않을 것이다.\n",
        "\n",
        "실제로 그러한지 확인해 보자"
      ]
    },
    {
      "cell_type": "code",
      "execution_count": null,
      "metadata": {
        "colab": {
          "base_uri": "https://localhost:8080/"
        },
        "outputId": "b3247e10-6199-491e-8651-7fc07c9be859",
        "id": "cfv_mop9IJ35"
      },
      "outputs": [
        {
          "output_type": "stream",
          "name": "stdout",
          "text": [
            "8982\n"
          ]
        }
      ],
      "source": [
        "# 훈련용 뉴스 데이터 정수 > 텍스트 데이터 변환\n",
        "\n",
        "decoded = []\n",
        "for i in range(len(x_train)):\n",
        "  t = ' '.join([index_to_word[index] for index in x_train[i]])\n",
        "  decoded.append(t)\n",
        "\n",
        "x_train = decoded\n",
        "print(len(x_train))"
      ]
    },
    {
      "cell_type": "code",
      "execution_count": null,
      "metadata": {
        "colab": {
          "base_uri": "https://localhost:8080/"
        },
        "outputId": "4a1b27b3-18e7-41c2-ca59-3eb774154e8a",
        "id": "cVuc3v1oIJ36"
      },
      "outputs": [
        {
          "output_type": "stream",
          "name": "stdout",
          "text": [
            "2246\n"
          ]
        }
      ],
      "source": [
        "# 테스트용 뉴스 데이터 정수 > 텍스트 데이터 변환\n",
        "\n",
        "decoded = []\n",
        "for i in range(len(x_test)):\n",
        "    t = ' '.join([index_to_word[index] for index in x_test[i]])\n",
        "    decoded.append(t)\n",
        "\n",
        "x_test = decoded\n",
        "print(len(x_test))"
      ]
    },
    {
      "cell_type": "code",
      "execution_count": null,
      "metadata": {
        "colab": {
          "base_uri": "https://localhost:8080/"
        },
        "outputId": "797fec92-381d-4a75-a28e-186eb21894e4",
        "id": "nr7ZcTvdIJ36"
      },
      "outputs": [
        {
          "output_type": "stream",
          "name": "stdout",
          "text": [
            "<sos> <unk> <unk> said as a result of its december acquisition of <unk> co it expects earnings per share in 1987 of 1 15 to 1 30 dlrs per share up from 70 cts in 1986 the company said pretax net should rise to nine to 10 mln dlrs from six mln dlrs in 1986 and <unk> operation revenues to 19 to 22 mln dlrs from 12 5 mln dlrs it said cash flow per share this year should be 2 50 to three dlrs reuter 3\n",
            "<sos> the great atlantic and pacific <unk> co said its three year <unk> mln dlr capital program will be be substantially increased to <unk> growth and expansion plans for <unk> inc and <unk> inc over the next two years a and p said the acquisition of <unk> in august 1986 and <unk> in december helped us achieve better than expected results in the fourth quarter ended february 28 its net income from continuing operations <unk> 52 6 pct to 20 7 mln dlrs or 55 cts a share in the latest quarter as sales increased 48 3 pct to 1 58 billion dlrs a and p gave no details on the expanded capital program but it did say it completed the first year of the program during 1986 a and p is 52 4 pct owned by lt <unk> <unk> of west germany reuter 3\n"
          ]
        }
      ],
      "source": [
        "# 일정 문자 출력해보기\n",
        "\n",
        "print(x_train[0])\n",
        "print(x_test[0])"
      ]
    },
    {
      "cell_type": "markdown",
      "metadata": {
        "id": "HVJL6UpSIJ36"
      },
      "source": [
        "# 3. 벡터화하기\n",
        "\n",
        "사용하는 벡터화\n",
        "- CountVectorizer\n",
        "- TfidfTransformer\n",
        "\n",
        "이번 과정에서는 신경망이 아닌 머신러닝 모델을 사용하므로 BOG 가설을 기반으로하는 DTM, TF-IDF를 사용한다."
      ]
    },
    {
      "cell_type": "code",
      "execution_count": null,
      "metadata": {
        "colab": {
          "base_uri": "https://localhost:8080/"
        },
        "outputId": "51413940-7b43-41cf-9ebf-5a0c68ee8f78",
        "id": "CckVPaKVIJ36"
      },
      "outputs": [
        {
          "output_type": "stream",
          "name": "stdout",
          "text": [
            "(8982, 14227)\n"
          ]
        }
      ],
      "source": [
        "# DTM 생성\n",
        "dtmvector = CountVectorizer()\n",
        "x_train_dtm = dtmvector.fit_transform(x_train)\n",
        "print(x_train_dtm.shape)"
      ]
    },
    {
      "cell_type": "code",
      "execution_count": null,
      "metadata": {
        "colab": {
          "base_uri": "https://localhost:8080/"
        },
        "outputId": "4c6d4d72-9770-412f-9e05-0900d9510cb5",
        "id": "_M2LJ3icIJ36"
      },
      "outputs": [
        {
          "output_type": "stream",
          "name": "stdout",
          "text": [
            "(8982, 14227)\n"
          ]
        }
      ],
      "source": [
        "tfidf_transformer = TfidfTransformer()\n",
        "tfidfv = tfidf_transformer.fit_transform(x_train_dtm)\n",
        "print(tfidfv.shape)"
      ]
    },
    {
      "cell_type": "code",
      "source": [
        "# 정확한 정확도 측정을 위하여 테스트 데이터도 TF-IDF 행렬로 변환해야한다.\n",
        "\n",
        "x_test_dtm = dtmvector.transform(x_test) #테스트 데이터를 DTM으로 변환\n",
        "tfidfv_test = tfidf_transformer.transform(x_test_dtm) #DTM을 TF-IDF 행렬로 변환"
      ],
      "metadata": {
        "id": "LhKOwW-8JVcS"
      },
      "execution_count": null,
      "outputs": []
    },
    {
      "cell_type": "code",
      "source": [
        "# 데이터 확인\n",
        "\n",
        "print(tfidfv.shape, tfidfv_test.shape, y_train.shape, y_test.shape)"
      ],
      "metadata": {
        "colab": {
          "base_uri": "https://localhost:8080/"
        },
        "id": "9h3gjyq0-CeF",
        "outputId": "76b48794-028e-4747-b84f-22d91c336c68"
      },
      "execution_count": null,
      "outputs": [
        {
          "output_type": "stream",
          "name": "stdout",
          "text": [
            "(8982, 14227) (2246, 14227) (8982,) (2246,)\n"
          ]
        }
      ]
    },
    {
      "cell_type": "code",
      "source": [
        "# 딥러닝 학습\n",
        "import tensorflow as tf\n",
        "from tensorflow.keras.layers import LSTM\n",
        "from tensorflow import keras\n",
        "\n",
        "vocab_size = 15000 # 어휘 사전의 크기입니다(15,000 단어)\n",
        "word_vector_dim = 32  # 워드 벡터의 차원 수 \n",
        "\n",
        "model_LSTM = tf.keras.Sequential()\n",
        "model_LSTM.add(tf.keras.layers.Embedding(vocab_size, word_vector_dim))\n",
        "model_LSTM.add(keras.layers.LSTM(32))\n",
        "model_LSTM.add(keras.layers.Dense(num_classes, activation='sigmoid'))\n",
        "\n",
        "model_LSTM.summary()"
      ],
      "metadata": {
        "colab": {
          "base_uri": "https://localhost:8080/"
        },
        "id": "Eep7gBydAewS",
        "outputId": "9d43855e-889a-44b4-a783-7058b62f743c"
      },
      "execution_count": null,
      "outputs": [
        {
          "output_type": "stream",
          "name": "stdout",
          "text": [
            "Model: \"sequential\"\n",
            "_________________________________________________________________\n",
            " Layer (type)                Output Shape              Param #   \n",
            "=================================================================\n",
            " embedding (Embedding)       (None, None, 32)          480000    \n",
            "                                                                 \n",
            " lstm (LSTM)                 (None, 32)                8320      \n",
            "                                                                 \n",
            " dense (Dense)               (None, 46)                1518      \n",
            "                                                                 \n",
            "=================================================================\n",
            "Total params: 489,838\n",
            "Trainable params: 489,838\n",
            "Non-trainable params: 0\n",
            "_________________________________________________________________\n"
          ]
        }
      ]
    },
    {
      "cell_type": "code",
      "source": [
        "tfidfv_copy = tfidfv.copy()\n",
        "tfidfv_test_copy = tfidfv_test.copy()"
      ],
      "metadata": {
        "id": "KGVKQzsdHv8h"
      },
      "execution_count": null,
      "outputs": []
    },
    {
      "cell_type": "code",
      "source": [
        "tfidfv_arr = tfidfv_copy.toarray()\n",
        "tfidfv_test_arr = tfidfv_test_copy.toarray()"
      ],
      "metadata": {
        "id": "2kUZJwH8B21U"
      },
      "execution_count": null,
      "outputs": []
    },
    {
      "cell_type": "code",
      "source": [
        "tfidfv_dense = tfidfv_copy.todense()\n",
        "tfidfv_test_dense = tfidfv_test_copy.todense()"
      ],
      "metadata": {
        "id": "F_73XsRXHr8-"
      },
      "execution_count": null,
      "outputs": []
    },
    {
      "cell_type": "code",
      "source": [
        "print(type(tfidfv_dense), type(tfidfv_test_dense))"
      ],
      "metadata": {
        "colab": {
          "base_uri": "https://localhost:8080/"
        },
        "id": "XT7uBjv6I8L0",
        "outputId": "b6412c90-c5a5-4e83-88f1-e1acf81a6a65"
      },
      "execution_count": null,
      "outputs": [
        {
          "output_type": "stream",
          "name": "stdout",
          "text": [
            "<class 'numpy.matrix'> <class 'numpy.matrix'>\n"
          ]
        }
      ]
    },
    {
      "cell_type": "code",
      "source": [
        "print(type(tfidfv_arr), type(tfidfv_test_arr))"
      ],
      "metadata": {
        "colab": {
          "base_uri": "https://localhost:8080/"
        },
        "id": "FQ4aHScYL_gi",
        "outputId": "1adcb003-739a-4871-e63a-0ceb4309883a"
      },
      "execution_count": null,
      "outputs": [
        {
          "output_type": "stream",
          "name": "stdout",
          "text": [
            "<class 'numpy.ndarray'> <class 'numpy.ndarray'>\n"
          ]
        }
      ]
    },
    {
      "cell_type": "code",
      "source": [
        "model_LSTM.compile(optimizer = 'adam',\n",
        "              loss = 'sparse_categorical_crossentropy',\n",
        "              metrics = ['accuracy'])\n",
        "              \n",
        "epochs = 20\n",
        "\n",
        "history = model_LSTM.fit(tfidfv_arr, y_train,\n",
        "                    epochs = epochs,\n",
        "                    batch_size = 256,\n",
        "                    validation_split=0.2,\n",
        "                    verbose=1)"
      ],
      "metadata": {
        "colab": {
          "base_uri": "https://localhost:8080/"
        },
        "id": "-RZGsn8sE27_",
        "outputId": "14291f1f-7de6-419d-f1a5-5465af987bb1"
      },
      "execution_count": null,
      "outputs": [
        {
          "output_type": "stream",
          "name": "stdout",
          "text": [
            "Epoch 1/20\n",
            "29/29 [==============================] - 25s 763ms/step - loss: 3.6569 - accuracy: 0.3177 - val_loss: 3.0520 - val_accuracy: 0.3450\n",
            "Epoch 2/20\n",
            "29/29 [==============================] - 22s 763ms/step - loss: 2.6053 - accuracy: 0.3534 - val_loss: 2.4386 - val_accuracy: 0.3450\n",
            "Epoch 3/20\n",
            "29/29 [==============================] - 22s 746ms/step - loss: 2.4248 - accuracy: 0.3534 - val_loss: 2.4083 - val_accuracy: 0.3450\n",
            "Epoch 4/20\n",
            "29/29 [==============================] - 22s 750ms/step - loss: 2.4079 - accuracy: 0.3534 - val_loss: 2.4056 - val_accuracy: 0.3450\n",
            "Epoch 5/20\n",
            "29/29 [==============================] - 22s 756ms/step - loss: 2.4049 - accuracy: 0.3534 - val_loss: 2.4062 - val_accuracy: 0.3450\n",
            "Epoch 6/20\n",
            "29/29 [==============================] - 22s 758ms/step - loss: 2.4054 - accuracy: 0.3534 - val_loss: 2.4062 - val_accuracy: 0.3450\n",
            "Epoch 7/20\n",
            "29/29 [==============================] - 22s 749ms/step - loss: 2.4041 - accuracy: 0.3534 - val_loss: 2.4068 - val_accuracy: 0.3450\n",
            "Epoch 8/20\n",
            "29/29 [==============================] - 22s 747ms/step - loss: 2.4049 - accuracy: 0.3534 - val_loss: 2.4069 - val_accuracy: 0.3450\n",
            "Epoch 9/20\n",
            "29/29 [==============================] - 22s 755ms/step - loss: 2.4032 - accuracy: 0.3534 - val_loss: 2.4066 - val_accuracy: 0.3450\n",
            "Epoch 10/20\n",
            "29/29 [==============================] - 22s 756ms/step - loss: 2.4034 - accuracy: 0.3534 - val_loss: 2.4065 - val_accuracy: 0.3450\n",
            "Epoch 11/20\n",
            "29/29 [==============================] - 22s 749ms/step - loss: 2.4041 - accuracy: 0.3534 - val_loss: 2.4067 - val_accuracy: 0.3450\n",
            "Epoch 12/20\n",
            "29/29 [==============================] - 22s 756ms/step - loss: 2.4036 - accuracy: 0.3534 - val_loss: 2.4060 - val_accuracy: 0.3450\n",
            "Epoch 13/20\n",
            "29/29 [==============================] - 22s 747ms/step - loss: 2.4037 - accuracy: 0.3534 - val_loss: 2.4048 - val_accuracy: 0.3450\n",
            "Epoch 14/20\n",
            "29/29 [==============================] - 22s 748ms/step - loss: 2.4033 - accuracy: 0.3534 - val_loss: 2.4053 - val_accuracy: 0.3450\n",
            "Epoch 15/20\n",
            "29/29 [==============================] - 22s 756ms/step - loss: 2.4036 - accuracy: 0.3534 - val_loss: 2.4058 - val_accuracy: 0.3450\n",
            "Epoch 16/20\n",
            "29/29 [==============================] - 22s 759ms/step - loss: 2.4038 - accuracy: 0.3534 - val_loss: 2.4049 - val_accuracy: 0.3450\n",
            "Epoch 17/20\n",
            "29/29 [==============================] - 22s 745ms/step - loss: 2.4039 - accuracy: 0.3534 - val_loss: 2.4057 - val_accuracy: 0.3450\n",
            "Epoch 18/20\n",
            "29/29 [==============================] - 22s 748ms/step - loss: 2.4029 - accuracy: 0.3534 - val_loss: 2.4059 - val_accuracy: 0.3450\n",
            "Epoch 19/20\n",
            "29/29 [==============================] - 22s 759ms/step - loss: 2.4038 - accuracy: 0.3534 - val_loss: 2.4050 - val_accuracy: 0.3450\n",
            "Epoch 20/20\n",
            "29/29 [==============================] - 22s 758ms/step - loss: 2.4029 - accuracy: 0.3534 - val_loss: 2.4053 - val_accuracy: 0.3450\n"
          ]
        }
      ]
    },
    {
      "cell_type": "markdown",
      "source": [
        "모델의 성능이 영 좋지 못하다.\n",
        "\n",
        "다른 방법을 사용해봐야 할 거 같다.\n",
        "\n",
        "[텐서 플로우 블로그 뉴스 기사 분류](https://tensorflow.blog/%EC%BC%80%EB%9D%BC%EC%8A%A4-%EB%94%A5%EB%9F%AC%EB%8B%9D/3-5-%EB%89%B4%EC%8A%A4-%EA%B8%B0%EC%82%AC-%EB%B6%84%EB%A5%98-%EB%8B%A4%EC%A4%91-%EB%B6%84%EB%A5%98-%EB%AC%B8%EC%A0%9C/)"
      ],
      "metadata": {
        "id": "46uxhUXtS_-Q"
      }
    },
    {
      "cell_type": "code",
      "source": [
        "# 범주형 인코딩 : one-hot 인코딩하기\n",
        "\n",
        "def to_one_hot(labels, dimension=46):\n",
        "    results = np.zeros((len(labels), dimension))\n",
        "    for i, label in enumerate(labels):\n",
        "        results[i, label] = 1.\n",
        "    return results\n",
        "\n",
        "one_hot_train_labels = to_one_hot(y_train) # 훈련 레이블 벡터 변환\n",
        "one_hot_test_labels = to_one_hot(y_test) # 테스트 레이블 벡터 변환"
      ],
      "metadata": {
        "id": "QcYrIW3ITbD3"
      },
      "execution_count": null,
      "outputs": []
    },
    {
      "cell_type": "code",
      "source": [
        "tfidfv_arr.shape"
      ],
      "metadata": {
        "colab": {
          "base_uri": "https://localhost:8080/"
        },
        "id": "qwwxxqKmUba5",
        "outputId": "35ad7a46-13b8-4dd1-d0b5-2ce753a9ccce"
      },
      "execution_count": null,
      "outputs": [
        {
          "output_type": "execute_result",
          "data": {
            "text/plain": [
              "(8982, 14227)"
            ]
          },
          "metadata": {},
          "execution_count": 18
        }
      ]
    },
    {
      "cell_type": "code",
      "source": [
        "from keras import models\n",
        "from keras import layers\n",
        "from keras import metrics \n",
        "\n",
        "model = models.Sequential()\n",
        "model.add(layers.Dense(64, activation='relu', input_shape=(14227,)))\n",
        "model.add(layers.Dense(64, activation='relu'))\n",
        "model.add(layers.Dense(46, activation='softmax'))"
      ],
      "metadata": {
        "id": "ZSjF6qr_UCJp"
      },
      "execution_count": null,
      "outputs": []
    },
    {
      "cell_type": "code",
      "source": [
        "model.compile(optimizer='adam',\n",
        "              loss='categorical_crossentropy',\n",
        "              metrics=['accuracy'])"
      ],
      "metadata": {
        "id": "xiyD0lnnUw4H"
      },
      "execution_count": null,
      "outputs": []
    },
    {
      "cell_type": "code",
      "source": [
        "!pip install tensorflow_addons"
      ],
      "metadata": {
        "colab": {
          "base_uri": "https://localhost:8080/"
        },
        "id": "RRd7bH1lMxR6",
        "outputId": "7a06200f-095c-4ddc-c72d-77a94999b19b"
      },
      "execution_count": null,
      "outputs": [
        {
          "output_type": "stream",
          "name": "stdout",
          "text": [
            "Looking in indexes: https://pypi.org/simple, https://us-python.pkg.dev/colab-wheels/public/simple/\n",
            "Collecting tensorflow_addons\n",
            "  Downloading tensorflow_addons-0.18.0-cp37-cp37m-manylinux_2_17_x86_64.manylinux2014_x86_64.whl (1.1 MB)\n",
            "\u001b[K     |████████████████████████████████| 1.1 MB 7.9 MB/s \n",
            "\u001b[?25hRequirement already satisfied: packaging in /usr/local/lib/python3.7/dist-packages (from tensorflow_addons) (21.3)\n",
            "Requirement already satisfied: typeguard>=2.7 in /usr/local/lib/python3.7/dist-packages (from tensorflow_addons) (2.7.1)\n",
            "Requirement already satisfied: pyparsing!=3.0.5,>=2.0.2 in /usr/local/lib/python3.7/dist-packages (from packaging->tensorflow_addons) (3.0.9)\n",
            "Installing collected packages: tensorflow-addons\n",
            "Successfully installed tensorflow-addons-0.18.0\n"
          ]
        }
      ]
    },
    {
      "cell_type": "code",
      "source": [
        "import tensorflow_addons as tfa"
      ],
      "metadata": {
        "id": "wTj6NrQkMomE"
      },
      "execution_count": null,
      "outputs": []
    },
    {
      "cell_type": "code",
      "source": [
        "metric = tfa.metrics.F1Score(num_classes=46, threshold=0.5)"
      ],
      "metadata": {
        "id": "8FIRVvO6M9BJ"
      },
      "execution_count": null,
      "outputs": []
    },
    {
      "cell_type": "code",
      "source": [
        "from keras import backend as K\n",
        "\n",
        "def recall_m(y_true, y_pred):\n",
        "    true_positives = K.sum(K.round(K.clip(y_true * y_pred, 0, 1)))\n",
        "    possible_positives = K.sum(K.round(K.clip(y_true, 0, 1)))\n",
        "    recall = true_positives / (possible_positives + K.epsilon())\n",
        "    return recall\n",
        "\n",
        "def precision_m(y_true, y_pred):\n",
        "    true_positives = K.sum(K.round(K.clip(y_true * y_pred, 0, 1)))\n",
        "    predicted_positives = K.sum(K.round(K.clip(y_pred, 0, 1)))\n",
        "    precision = true_positives / (predicted_positives + K.epsilon())\n",
        "    return precision\n",
        "    \n",
        "def f1_m(y_true, y_pred):\n",
        "    precision = precision_m(y_true, y_pred)\n",
        "    recall = recall_m(y_true, y_pred)\n",
        "    return 2*((precision*recall)/(precision+recall+K.epsilon()))"
      ],
      "metadata": {
        "id": "VuVhy4GQLIHy"
      },
      "execution_count": null,
      "outputs": []
    },
    {
      "cell_type": "code",
      "source": [
        "model.compile(optimizer='adam',\n",
        "              loss='categorical_crossentropy',\n",
        "              metrics=['accuracy', metric])"
      ],
      "metadata": {
        "id": "x0bvX-djNCPG"
      },
      "execution_count": null,
      "outputs": []
    },
    {
      "cell_type": "code",
      "source": [
        "history = model.fit(tfidfv_arr, one_hot_train_labels,\n",
        "                    epochs = 20,\n",
        "                    batch_size = 256,\n",
        "                    validation_data=(tfidfv_test_arr, one_hot_test_labels),\n",
        "                    verbose=1)"
      ],
      "metadata": {
        "colab": {
          "base_uri": "https://localhost:8080/"
        },
        "id": "bcWKX-RJNP5L",
        "outputId": "b32a1540-d7bd-4728-886a-fd3dcf0393b7"
      },
      "execution_count": null,
      "outputs": [
        {
          "output_type": "stream",
          "name": "stdout",
          "text": [
            "Epoch 1/20\n",
            "36/36 [==============================] - 2s 18ms/step - loss: 0.1135 - accuracy: 0.9539 - f1_score: 0.9367 - val_loss: 0.9702 - val_accuracy: 0.7947 - val_f1_score: 0.5741\n",
            "Epoch 2/20\n",
            "36/36 [==============================] - 0s 10ms/step - loss: 0.0957 - accuracy: 0.9574 - f1_score: 0.9487 - val_loss: 0.9909 - val_accuracy: 0.7970 - val_f1_score: 0.5803\n",
            "Epoch 3/20\n",
            "36/36 [==============================] - 0s 10ms/step - loss: 0.0895 - accuracy: 0.9584 - f1_score: 0.9532 - val_loss: 1.0100 - val_accuracy: 0.7961 - val_f1_score: 0.5858\n",
            "Epoch 4/20\n",
            "36/36 [==============================] - 0s 10ms/step - loss: 0.0862 - accuracy: 0.9586 - f1_score: 0.9542 - val_loss: 1.0372 - val_accuracy: 0.7939 - val_f1_score: 0.5783\n",
            "Epoch 5/20\n",
            "36/36 [==============================] - 0s 9ms/step - loss: 0.0844 - accuracy: 0.9570 - f1_score: 0.9522 - val_loss: 1.0592 - val_accuracy: 0.7912 - val_f1_score: 0.5724\n",
            "Epoch 6/20\n",
            "36/36 [==============================] - 0s 10ms/step - loss: 0.0806 - accuracy: 0.9585 - f1_score: 0.9548 - val_loss: 1.0670 - val_accuracy: 0.7970 - val_f1_score: 0.5857\n",
            "Epoch 7/20\n",
            "36/36 [==============================] - 0s 10ms/step - loss: 0.0789 - accuracy: 0.9586 - f1_score: 0.9560 - val_loss: 1.0956 - val_accuracy: 0.7921 - val_f1_score: 0.5746\n",
            "Epoch 8/20\n",
            "36/36 [==============================] - 0s 10ms/step - loss: 0.0761 - accuracy: 0.9588 - f1_score: 0.9543 - val_loss: 1.0743 - val_accuracy: 0.7979 - val_f1_score: 0.5848\n",
            "Epoch 9/20\n",
            "36/36 [==============================] - 0s 10ms/step - loss: 0.0782 - accuracy: 0.9588 - f1_score: 0.9541 - val_loss: 1.1150 - val_accuracy: 0.7930 - val_f1_score: 0.5848\n",
            "Epoch 10/20\n",
            "36/36 [==============================] - 0s 10ms/step - loss: 0.0781 - accuracy: 0.9580 - f1_score: 0.9536 - val_loss: 1.1103 - val_accuracy: 0.7916 - val_f1_score: 0.5754\n",
            "Epoch 11/20\n",
            "36/36 [==============================] - 0s 10ms/step - loss: 0.0762 - accuracy: 0.9589 - f1_score: 0.9539 - val_loss: 1.1287 - val_accuracy: 0.7947 - val_f1_score: 0.5939\n",
            "Epoch 12/20\n",
            "36/36 [==============================] - 0s 9ms/step - loss: 0.0764 - accuracy: 0.9568 - f1_score: 0.9517 - val_loss: 1.1512 - val_accuracy: 0.7939 - val_f1_score: 0.5918\n",
            "Epoch 13/20\n",
            "36/36 [==============================] - 0s 10ms/step - loss: 0.0736 - accuracy: 0.9589 - f1_score: 0.9543 - val_loss: 1.1558 - val_accuracy: 0.7903 - val_f1_score: 0.5893\n",
            "Epoch 14/20\n",
            "36/36 [==============================] - 0s 9ms/step - loss: 0.0726 - accuracy: 0.9581 - f1_score: 0.9526 - val_loss: 1.1621 - val_accuracy: 0.7970 - val_f1_score: 0.5918\n",
            "Epoch 15/20\n",
            "36/36 [==============================] - 0s 10ms/step - loss: 0.0725 - accuracy: 0.9596 - f1_score: 0.9540 - val_loss: 1.1890 - val_accuracy: 0.7890 - val_f1_score: 0.5864\n",
            "Epoch 16/20\n",
            "36/36 [==============================] - 0s 10ms/step - loss: 0.0729 - accuracy: 0.9576 - f1_score: 0.9530 - val_loss: 1.1726 - val_accuracy: 0.7912 - val_f1_score: 0.5891\n",
            "Epoch 17/20\n",
            "36/36 [==============================] - 0s 11ms/step - loss: 0.0737 - accuracy: 0.9586 - f1_score: 0.9518 - val_loss: 1.2019 - val_accuracy: 0.7894 - val_f1_score: 0.6003\n",
            "Epoch 18/20\n",
            "36/36 [==============================] - 0s 13ms/step - loss: 0.0739 - accuracy: 0.9604 - f1_score: 0.9524 - val_loss: 1.2304 - val_accuracy: 0.7894 - val_f1_score: 0.5827\n",
            "Epoch 19/20\n",
            "36/36 [==============================] - 0s 10ms/step - loss: 0.0737 - accuracy: 0.9593 - f1_score: 0.9541 - val_loss: 1.1962 - val_accuracy: 0.7921 - val_f1_score: 0.5921\n",
            "Epoch 20/20\n",
            "36/36 [==============================] - 0s 12ms/step - loss: 0.0750 - accuracy: 0.9577 - f1_score: 0.9530 - val_loss: 1.2183 - val_accuracy: 0.7898 - val_f1_score: 0.5917\n"
          ]
        }
      ]
    },
    {
      "cell_type": "code",
      "source": [
        "model.compile(optimizer='adam',\n",
        "              loss='categorical_crossentropy',\n",
        "              metrics=['accuracy', f1_m])"
      ],
      "metadata": {
        "id": "BJpJrGiN7NMO"
      },
      "execution_count": null,
      "outputs": []
    },
    {
      "cell_type": "code",
      "source": [
        "history = model.fit(tfidfv_arr, one_hot_train_labels,\n",
        "                    epochs = 20,\n",
        "                    batch_size = 256,\n",
        "                    validation_data=(tfidfv_test_arr, one_hot_test_labels),\n",
        "                    verbose=1)"
      ],
      "metadata": {
        "colab": {
          "base_uri": "https://localhost:8080/"
        },
        "id": "yIpStNNQVAmN",
        "outputId": "8e25ca2b-3953-4c19-de22-2d6cf610999b"
      },
      "execution_count": null,
      "outputs": [
        {
          "output_type": "stream",
          "name": "stdout",
          "text": [
            "Epoch 1/20\n",
            "36/36 [==============================] - 4s 20ms/step - loss: 3.4431 - accuracy: 0.2142 - f1_m: 0.0000e+00 - val_loss: 2.6374 - val_accuracy: 0.2164 - val_f1_m: 0.0000e+00\n",
            "Epoch 2/20\n",
            "36/36 [==============================] - 0s 10ms/step - loss: 2.0650 - accuracy: 0.5090 - f1_m: 0.2600 - val_loss: 1.7077 - val_accuracy: 0.6042 - val_f1_m: 0.5888\n",
            "Epoch 3/20\n",
            "36/36 [==============================] - 0s 9ms/step - loss: 1.4712 - accuracy: 0.6625 - f1_m: 0.6533 - val_loss: 1.4247 - val_accuracy: 0.6745 - val_f1_m: 0.6676\n",
            "Epoch 4/20\n",
            "36/36 [==============================] - 0s 9ms/step - loss: 1.2029 - accuracy: 0.7188 - f1_m: 0.7311 - val_loss: 1.2731 - val_accuracy: 0.6963 - val_f1_m: 0.7195\n",
            "Epoch 5/20\n",
            "36/36 [==============================] - 0s 9ms/step - loss: 1.0167 - accuracy: 0.7557 - f1_m: 0.7753 - val_loss: 1.1634 - val_accuracy: 0.7137 - val_f1_m: 0.7431\n",
            "Epoch 6/20\n",
            "36/36 [==============================] - 0s 9ms/step - loss: 0.8573 - accuracy: 0.8018 - f1_m: 0.8048 - val_loss: 1.0700 - val_accuracy: 0.7480 - val_f1_m: 0.7532\n",
            "Epoch 7/20\n",
            "36/36 [==============================] - 0s 9ms/step - loss: 0.7113 - accuracy: 0.8434 - f1_m: 0.8317 - val_loss: 0.9949 - val_accuracy: 0.7729 - val_f1_m: 0.7653\n",
            "Epoch 8/20\n",
            "36/36 [==============================] - 0s 9ms/step - loss: 0.5859 - accuracy: 0.8697 - f1_m: 0.8592 - val_loss: 0.9418 - val_accuracy: 0.7747 - val_f1_m: 0.7753\n",
            "Epoch 9/20\n",
            "36/36 [==============================] - 0s 10ms/step - loss: 0.4810 - accuracy: 0.8933 - f1_m: 0.8744 - val_loss: 0.9041 - val_accuracy: 0.7903 - val_f1_m: 0.7822\n",
            "Epoch 10/20\n",
            "36/36 [==============================] - 0s 10ms/step - loss: 0.3974 - accuracy: 0.9113 - f1_m: 0.8945 - val_loss: 0.8823 - val_accuracy: 0.7890 - val_f1_m: 0.7868\n",
            "Epoch 11/20\n",
            "36/36 [==============================] - 0s 9ms/step - loss: 0.3279 - accuracy: 0.9284 - f1_m: 0.9094 - val_loss: 0.8712 - val_accuracy: 0.7965 - val_f1_m: 0.7908\n",
            "Epoch 12/20\n",
            "36/36 [==============================] - 0s 9ms/step - loss: 0.2736 - accuracy: 0.9369 - f1_m: 0.9212 - val_loss: 0.8670 - val_accuracy: 0.7979 - val_f1_m: 0.7940\n",
            "Epoch 13/20\n",
            "36/36 [==============================] - 0s 9ms/step - loss: 0.2300 - accuracy: 0.9433 - f1_m: 0.9274 - val_loss: 0.8714 - val_accuracy: 0.8010 - val_f1_m: 0.7971\n",
            "Epoch 14/20\n",
            "36/36 [==============================] - 0s 9ms/step - loss: 0.1970 - accuracy: 0.9489 - f1_m: 0.9400 - val_loss: 0.8799 - val_accuracy: 0.7983 - val_f1_m: 0.7957\n",
            "Epoch 15/20\n",
            "36/36 [==============================] - 0s 10ms/step - loss: 0.1710 - accuracy: 0.9534 - f1_m: 0.9457 - val_loss: 0.8845 - val_accuracy: 0.7996 - val_f1_m: 0.7989\n",
            "Epoch 16/20\n",
            "36/36 [==============================] - 0s 9ms/step - loss: 0.1527 - accuracy: 0.9538 - f1_m: 0.9492 - val_loss: 0.8952 - val_accuracy: 0.7983 - val_f1_m: 0.8021\n",
            "Epoch 17/20\n",
            "36/36 [==============================] - 0s 10ms/step - loss: 0.1373 - accuracy: 0.9545 - f1_m: 0.9495 - val_loss: 0.9182 - val_accuracy: 0.7970 - val_f1_m: 0.8010\n",
            "Epoch 18/20\n",
            "36/36 [==============================] - 0s 10ms/step - loss: 0.1247 - accuracy: 0.9556 - f1_m: 0.9551 - val_loss: 0.9243 - val_accuracy: 0.7943 - val_f1_m: 0.7997\n",
            "Epoch 19/20\n",
            "36/36 [==============================] - 0s 10ms/step - loss: 0.1152 - accuracy: 0.9581 - f1_m: 0.9535 - val_loss: 0.9445 - val_accuracy: 0.7952 - val_f1_m: 0.8004\n",
            "Epoch 20/20\n",
            "36/36 [==============================] - 0s 9ms/step - loss: 0.1077 - accuracy: 0.9587 - f1_m: 0.9582 - val_loss: 0.9384 - val_accuracy: 0.7992 - val_f1_m: 0.8042\n"
          ]
        }
      ]
    },
    {
      "cell_type": "code",
      "source": [
        "history = model.fit(tfidfv_arr, one_hot_train_labels,\n",
        "                    epochs = 20,\n",
        "                    batch_size = 256,\n",
        "                    validation_split=[],\n",
        "                    verbose=1)"
      ],
      "metadata": {
        "id": "t_JjhhnJLa-Q"
      },
      "execution_count": null,
      "outputs": []
    },
    {
      "cell_type": "code",
      "source": [
        "# 그래프 dict_keys\n",
        "\n",
        "history_dict = history.history\n",
        "print(history_dict.keys()) # epoch에 따른 그래프를 그려볼 수 있는 항목들"
      ],
      "metadata": {
        "colab": {
          "base_uri": "https://localhost:8080/"
        },
        "id": "MVzAvjjtVfa6",
        "outputId": "4da9b37c-c89d-451a-ca2f-b22148e12926"
      },
      "execution_count": null,
      "outputs": [
        {
          "output_type": "stream",
          "name": "stdout",
          "text": [
            "dict_keys(['loss', 'accuracy', 'val_loss', 'val_accuracy'])\n"
          ]
        }
      ]
    },
    {
      "cell_type": "code",
      "source": [
        "import matplotlib.pyplot as plt\n",
        "\n",
        "acc = history_dict['accuracy']\n",
        "val_acc = history_dict['val_accuracy']\n",
        "loss = history_dict['loss']\n",
        "val_loss = history_dict['val_loss']\n",
        "\n",
        "epochs = range(1, len(acc) + 1)\n",
        "\n",
        "# \"bo\"는 \"파란색 점\"입니다\n",
        "plt.plot(epochs, loss, 'bo', label='Training loss')\n",
        "# r는 \"빨간 실선\"입니다\n",
        "plt.plot(epochs, val_loss, 'r', label='Validation loss')\n",
        "plt.title('Training and validation loss')\n",
        "plt.xlabel('Epochs')\n",
        "plt.ylabel('Loss')\n",
        "plt.legend()\n",
        "\n",
        "plt.show()"
      ],
      "metadata": {
        "colab": {
          "base_uri": "https://localhost:8080/",
          "height": 295
        },
        "id": "vn2ZFUS9VjDx",
        "outputId": "26ac6166-d139-443c-d78c-1de6b66ac05d"
      },
      "execution_count": null,
      "outputs": [
        {
          "output_type": "display_data",
          "data": {
            "text/plain": [
              "<Figure size 432x288 with 1 Axes>"
            ],
            "image/png": "[encoded data removed]"
          },
          "metadata": {
            "needs_background": "light"
          }
        }
      ]
    },
    {
      "cell_type": "code",
      "source": [
        "plt.clf()   # 그림을 초기화합니다\n",
        "# \"ro\"는 \"빨간색 점\"입니다\n",
        "plt.plot(epochs, acc, 'ro', label='Training acc')\n",
        "# b는 \"파란 실선\"입니다\n",
        "plt.plot(epochs, val_acc, 'b', label='Validation acc')\n",
        "plt.title('Training and validation accuracy')\n",
        "plt.xlabel('Epochs')\n",
        "plt.ylabel('Accuracy')\n",
        "plt.legend()\n",
        "\n",
        "plt.show()"
      ],
      "metadata": {
        "colab": {
          "base_uri": "https://localhost:8080/",
          "height": 295
        },
        "id": "Xe4rAm1oVjjZ",
        "outputId": "e6191277-98e6-4229-cdb0-86b46ad464b5"
      },
      "execution_count": null,
      "outputs": [
        {
          "output_type": "display_data",
          "data": {
            "text/plain": [
              "<Figure size 432x288 with 1 Axes>"
            ],
            "image/png": "[encoded data removed]"
          },
          "metadata": {
            "needs_background": "light"
          }
        }
      ]
    },
    {
      "cell_type": "code",
      "source": [
        "# test 데이터를 이용한 결과 평가\n",
        "\n",
        "results = model.evaluate(tfidfv_test_arr, one_hot_test_labels, verbose=2)"
      ],
      "metadata": {
        "colab": {
          "base_uri": "https://localhost:8080/"
        },
        "id": "fSpbTgiyVyG6",
        "outputId": "532daab9-d022-46b2-b658-31f67c6e81eb"
      },
      "execution_count": null,
      "outputs": [
        {
          "output_type": "stream",
          "name": "stdout",
          "text": [
            "71/71 - 0s - loss: 0.9616 - accuracy: 0.8019 - 272ms/epoch - 4ms/step\n"
          ]
        }
      ]
    },
    {
      "cell_type": "markdown",
      "source": [
        "# 회고"
      ],
      "metadata": {
        "id": "lX7qGW4XKysW"
      }
    },
    {
      "cell_type": "markdown",
      "source": [
        "1. 이번 프로젝트에서 어려웠던 점\n",
        " \n",
        " (1) 딥러닝 모델을 사용할 때 tfidf로 변환했던 데이터는 학습이 진행되지 않았습니다. 해결하기위해 toarray를 사용하여 numpy.ndarray 형태로 변환하여 학습을 시켰습니다.\n",
        "\n",
        " (2) rnn 모델에서 accuracy, f1-score를 한번에 metrics로 지정하고 싶었지만 오류가 발생하여 사용할 수가 없었다. 검색을 통하여 방법을 찾아서 수정하여 2가지 평가지표를 사용하였다."
      ],
      "metadata": {
        "id": "ojmxzLRyK1cS"
      }
    },
    {
      "cell_type": "markdown",
      "source": [
        "2. 프로젝트를 진행하면서 알게된 부분 또는 아직 이해하지 못한 부분\n",
        "\n",
        "(1) 평가지표에서 ['accuracy','f1_score']는 작동하지 않았는가?\n",
        "\n",
        "- keras 2.0부터 f1_score, precision, recall이 제외되었다. 그래서 단순하게 sklearn으로 불러서 평가지표로 사용할 수 없다. 총 2가지 방법을 사용하여 모델을 compile하기로 결정하였다. \n",
        "\n",
        "[방법1]\n",
        "- precision, recall, f1_score를 함수로 제작하고 평가지표에 삽입하여 출력할 수 있다.\n",
        "\n",
        "[방법2]\n",
        "- tensorflow_addons를 import하여 metric = tfa.metrics.F1Score을 작성하여 출력할 수 있다.\n",
        "\n",
        "\n",
        "\n",
        "\n",
        "\n"
      ],
      "metadata": {
        "id": "cMgNvnfQLhyy"
      }
    },
    {
      "cell_type": "markdown",
      "source": [
        "참조\n",
        "\n",
        "(1) [keras f1_score 함수 사용 방법 1](https://datascience.stackexchange.com/questions/45165/how-to-get-accuracy-f1-precision-and-recall-for-a-keras-model)\n",
        "\n",
        "(2) [keras f1_score 함수 사용 방법 2](https://www.tensorflow.org/addons/api_docs/python/tfa/metrics/F1Score)\n",
        "\n"
      ],
      "metadata": {
        "id": "xWtviva-f2gG"
      }
    }
  ],
  "metadata": {
    "colab": {
      "collapsed_sections": [],
      "provenance": [],
      "machine_shape": "hm",
      "authorship_tag": "ABX9TyNlCsYRKH9vNnrLWNRxw1vv",
      "include_colab_link": true
    },
    "kernelspec": {
      "display_name": "Python 3",
      "name": "python3"
    },
    "language_info": {
      "name": "python"
    },
    "accelerator": "GPU",
    "gpuClass": "premium"
  },
  "nbformat": 4,
  "nbformat_minor": 0
}