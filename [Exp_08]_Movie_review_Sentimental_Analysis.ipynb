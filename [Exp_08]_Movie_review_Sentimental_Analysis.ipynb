{
  "nbformat": 4,
  "nbformat_minor": 0,
  "metadata": {
    "colab": {
      "provenance": [],
      "collapsed_sections": [],
      "machine_shape": "hm",
      "mount_file_id": "1Y7Vx6dss6oZlNxYCuXa8STwafCfpZRl6",
      "authorship_tag": "ABX9TyPpnWgysXbLZxazQ1GQYEf6",
      "include_colab_link": true
    },
    "kernelspec": {
      "name": "python3",
      "display_name": "Python 3"
    },
    "language_info": {
      "name": "python"
    },
    "accelerator": "TPU",
    "gpuClass": "standard"
  },
  "cells": [
    {
      "cell_type": "markdown",
      "metadata": {
        "id": "view-in-github",
        "colab_type": "text"
      },
      "source": [
        "<a href=\"https://colab.research.google.com/github/sgr1118/GD-NLP/blob/main/%5BExp_08%5D_Movie_review_Sentimental_Analysis.ipynb\" target=\"_parent\"><img src=\"https://colab.research.google.com/assets/colab-badge.svg\" alt=\"Open In Colab\"/></a>"
      ]
    },
    {
      "cell_type": "markdown",
      "source": [
        "# 8-11. 프로젝트 : 네이버 영화리뷰 감성분석 도전하기"
      ],
      "metadata": {
        "id": "fh1d3gv2CzT9"
      }
    },
    {
      "cell_type": "code",
      "source": [
        "# 영구적인 라이브러리 설치하기위한 경로 지정\n",
        "import os, sys\n",
        "\n",
        "my_path = '/content/notebooks'\n",
        "# Colab Notebooks 안에 my_env 폴더에 패키지 저장\n",
        "os.symlink('/content/drive/MyDrive/Colab Notebooks/my_env', my_path)\n",
        "sys.path.insert(0, my_path)"
      ],
      "metadata": {
        "id": "viiWfQEPzkO8"
      },
      "execution_count": null,
      "outputs": []
    },
    {
      "cell_type": "code",
      "source": [
        "import os, sys\n",
        "from google.colab import drive\n",
        "drive.mount('/content/drive')\n",
        "\n",
        "my_path = '/content/notebooks'\n",
        "# Colab Notebooks 안에 my_env 폴더에 패키지 저장\n",
        "os.symlink('/content/drive/My Drive/Colab Notebooks/my_env', my_path)\n",
        "sys.path.insert(0, my_path)"
      ],
      "metadata": {
        "colab": {
          "base_uri": "https://localhost:8080/"
        },
        "id": "8KxEkS9GGQPz",
        "outputId": "08d88012-a4ab-40d8-e013-a8b07b0fc803"
      },
      "execution_count": null,
      "outputs": [
        {
          "output_type": "stream",
          "name": "stdout",
          "text": [
            "Drive already mounted at /content/drive; to attempt to forcibly remount, call drive.mount(\"/content/drive\", force_remount=True).\n"
          ]
        }
      ]
    },
    {
      "cell_type": "code",
      "source": [
        "# konlpy, Mecab 형태소 분석기 설치 스크립트 실행\n",
        "# colab에 영구적으로 설치를 하고싶었으나 작동에 오류가 생겨 향후 다시 해보기로 결정\n",
        "!curl -s https://raw.githubusercontent.com/teddylee777/machine-learning/master/99-Misc/01-Colab/mecab-colab.sh | bash"
      ],
      "metadata": {
        "id": "AtwwCBGXzTEh"
      },
      "execution_count": null,
      "outputs": []
    },
    {
      "cell_type": "code",
      "source": [
        "# gensim 라이브러리 업데이트 \n",
        "# LMS와 일치하게 버젼을 4.1.2로 맞춘다\n",
        "# 경로를 설정하여 영구적으로 해당 버젼을 사용할 수 있게 환경을 조성하였다.\n",
        "!pip install --target=$my_path gensim==4.1.2"
      ],
      "metadata": {
        "id": "SOqXidjEO_37"
      },
      "execution_count": null,
      "outputs": []
    },
    {
      "cell_type": "code",
      "execution_count": null,
      "metadata": {
        "id": "FskC-nLOChwJ",
        "colab": {
          "base_uri": "https://localhost:8080/"
        },
        "outputId": "4692b659-d643-4dd9-a8df-dc007fa00ea3"
      },
      "outputs": [
        {
          "output_type": "stream",
          "name": "stdout",
          "text": [
            "1.3.5\n",
            "0.6.0\n",
            "4.2.0\n"
          ]
        }
      ],
      "source": [
        "# 파이브러리 버젼 확인\n",
        "import pandas\n",
        "import konlpy\n",
        "import gensim\n",
        "\n",
        "print(pandas.__version__)\n",
        "print(konlpy.__version__)\n",
        "print(gensim.__version__)"
      ]
    },
    {
      "cell_type": "code",
      "source": [
        "# 1. 데이터 불러오기\n",
        "import pandas as pd\n",
        "import konlpy\n",
        "import gensim\n",
        "train_data = pd.read_table('/content/drive/MyDrive/Aiffel/EX/EX8_txt/ratings_train.txt')\n",
        "test_data = pd.read_table('/content/drive/MyDrive/Aiffel/EX/EX8_txt/ratings_test.txt')\n",
        "\n",
        "train_data.head()"
      ],
      "metadata": {
        "colab": {
          "base_uri": "https://localhost:8080/",
          "height": 206
        },
        "id": "bAUaONxXPIfQ",
        "outputId": "20083c85-5c2d-4b59-8c89-e421c5342498"
      },
      "execution_count": null,
      "outputs": [
        {
          "output_type": "execute_result",
          "data": {
            "text/plain": [
              "         id                                           document  label\n",
              "0   9976970                                아 더빙.. 진짜 짜증나네요 목소리      0\n",
              "1   3819312                  흠...포스터보고 초딩영화줄....오버연기조차 가볍지 않구나      1\n",
              "2  10265843                                  너무재밓었다그래서보는것을추천한다      0\n",
              "3   9045019                      교도소 이야기구먼 ..솔직히 재미는 없다..평점 조정      0\n",
              "4   6483659  사이몬페그의 익살스런 연기가 돋보였던 영화!스파이더맨에서 늙어보이기만 했던 커스틴 ...      1"
            ],
            "text/html": [
              "\n",
              "  <div id=\"df-42ce7ebc-c179-44bb-8acd-be4d867a0fd2\">\n",
              "    <div class=\"colab-df-container\">\n",
              "      <div>\n",
              "<style scoped>\n",
              "    .dataframe tbody tr th:only-of-type {\n",
              "        vertical-align: middle;\n",
              "    }\n",
              "\n",
              "    .dataframe tbody tr th {\n",
              "        vertical-align: top;\n",
              "    }\n",
              "\n",
              "    .dataframe thead th {\n",
              "        text-align: right;\n",
              "    }\n",
              "</style>\n",
              "<table border=\"1\" class=\"dataframe\">\n",
              "  <thead>\n",
              "    <tr style=\"text-align: right;\">\n",
              "      <th></th>\n",
              "      <th>id</th>\n",
              "      <th>document</th>\n",
              "      <th>label</th>\n",
              "    </tr>\n",
              "  </thead>\n",
              "  <tbody>\n",
              "    <tr>\n",
              "      <th>0</th>\n",
              "      <td>9976970</td>\n",
              "      <td>아 더빙.. 진짜 짜증나네요 목소리</td>\n",
              "      <td>0</td>\n",
              "    </tr>\n",
              "    <tr>\n",
              "      <th>1</th>\n",
              "      <td>3819312</td>\n",
              "      <td>흠...포스터보고 초딩영화줄....오버연기조차 가볍지 않구나</td>\n",
              "      <td>1</td>\n",
              "    </tr>\n",
              "    <tr>\n",
              "      <th>2</th>\n",
              "      <td>10265843</td>\n",
              "      <td>너무재밓었다그래서보는것을추천한다</td>\n",
              "      <td>0</td>\n",
              "    </tr>\n",
              "    <tr>\n",
              "      <th>3</th>\n",
              "      <td>9045019</td>\n",
              "      <td>교도소 이야기구먼 ..솔직히 재미는 없다..평점 조정</td>\n",
              "      <td>0</td>\n",
              "    </tr>\n",
              "    <tr>\n",
              "      <th>4</th>\n",
              "      <td>6483659</td>\n",
              "      <td>사이몬페그의 익살스런 연기가 돋보였던 영화!스파이더맨에서 늙어보이기만 했던 커스틴 ...</td>\n",
              "      <td>1</td>\n",
              "    </tr>\n",
              "  </tbody>\n",
              "</table>\n",
              "</div>\n",
              "      <button class=\"colab-df-convert\" onclick=\"convertToInteractive('df-42ce7ebc-c179-44bb-8acd-be4d867a0fd2')\"\n",
              "              title=\"Convert this dataframe to an interactive table.\"\n",
              "              style=\"display:none;\">\n",
              "        \n",
              "  <svg xmlns=\"http://www.w3.org/2000/svg\" height=\"24px\"viewBox=\"0 0 24 24\"\n",
              "       width=\"24px\">\n",
              "    <path d=\"M0 0h24v24H0V0z\" fill=\"none\"/>\n",
              "    <path d=\"M18.56 5.44l.94 2.06.94-2.06 2.06-.94-2.06-.94-.94-2.06-.94 2.06-2.06.94zm-11 1L8.5 8.5l.94-2.06 2.06-.94-2.06-.94L8.5 2.5l-.94 2.06-2.06.94zm10 10l.94 2.06.94-2.06 2.06-.94-2.06-.94-.94-2.06-.94 2.06-2.06.94z\"/><path d=\"M17.41 7.96l-1.37-1.37c-.4-.4-.92-.59-1.43-.59-.52 0-1.04.2-1.43.59L10.3 9.45l-7.72 7.72c-.78.78-.78 2.05 0 2.83L4 21.41c.39.39.9.59 1.41.59.51 0 1.02-.2 1.41-.59l7.78-7.78 2.81-2.81c.8-.78.8-2.07 0-2.86zM5.41 20L4 18.59l7.72-7.72 1.47 1.35L5.41 20z\"/>\n",
              "  </svg>\n",
              "      </button>\n",
              "      \n",
              "  <style>\n",
              "    .colab-df-container {\n",
              "      display:flex;\n",
              "      flex-wrap:wrap;\n",
              "      gap: 12px;\n",
              "    }\n",
              "\n",
              "    .colab-df-convert {\n",
              "      background-color: #E8F0FE;\n",
              "      border: none;\n",
              "      border-radius: 50%;\n",
              "      cursor: pointer;\n",
              "      display: none;\n",
              "      fill: #1967D2;\n",
              "      height: 32px;\n",
              "      padding: 0 0 0 0;\n",
              "      width: 32px;\n",
              "    }\n",
              "\n",
              "    .colab-df-convert:hover {\n",
              "      background-color: #E2EBFA;\n",
              "      box-shadow: 0px 1px 2px rgba(60, 64, 67, 0.3), 0px 1px 3px 1px rgba(60, 64, 67, 0.15);\n",
              "      fill: #174EA6;\n",
              "    }\n",
              "\n",
              "    [theme=dark] .colab-df-convert {\n",
              "      background-color: #3B4455;\n",
              "      fill: #D2E3FC;\n",
              "    }\n",
              "\n",
              "    [theme=dark] .colab-df-convert:hover {\n",
              "      background-color: #434B5C;\n",
              "      box-shadow: 0px 1px 3px 1px rgba(0, 0, 0, 0.15);\n",
              "      filter: drop-shadow(0px 1px 2px rgba(0, 0, 0, 0.3));\n",
              "      fill: #FFFFFF;\n",
              "    }\n",
              "  </style>\n",
              "\n",
              "      <script>\n",
              "        const buttonEl =\n",
              "          document.querySelector('#df-42ce7ebc-c179-44bb-8acd-be4d867a0fd2 button.colab-df-convert');\n",
              "        buttonEl.style.display =\n",
              "          google.colab.kernel.accessAllowed ? 'block' : 'none';\n",
              "\n",
              "        async function convertToInteractive(key) {\n",
              "          const element = document.querySelector('#df-42ce7ebc-c179-44bb-8acd-be4d867a0fd2');\n",
              "          const dataTable =\n",
              "            await google.colab.kernel.invokeFunction('convertToInteractive',\n",
              "                                                     [key], {});\n",
              "          if (!dataTable) return;\n",
              "\n",
              "          const docLinkHtml = 'Like what you see? Visit the ' +\n",
              "            '<a target=\"_blank\" href=https://colab.research.google.com/notebooks/data_table.ipynb>data table notebook</a>'\n",
              "            + ' to learn more about interactive tables.';\n",
              "          element.innerHTML = '';\n",
              "          dataTable['output_type'] = 'display_data';\n",
              "          await google.colab.output.renderOutput(dataTable, element);\n",
              "          const docLink = document.createElement('div');\n",
              "          docLink.innerHTML = docLinkHtml;\n",
              "          element.appendChild(docLink);\n",
              "        }\n",
              "      </script>\n",
              "    </div>\n",
              "  </div>\n",
              "  "
            ]
          },
          "metadata": {},
          "execution_count": 9
        }
      ]
    },
    {
      "cell_type": "code",
      "source": [
        "# 2. 데이터로더 구성\n",
        "from konlpy.tag import Mecab\n",
        "import numpy as np\n",
        "from collections import Counter\n",
        "\n",
        "tokenizer = Mecab()\n",
        "# 불용어 리스트\n",
        "stopwords = ['의','가','이','은','들','는','좀','잘','걍','과','도','를','으로','자','에','와','한','하다']\n",
        "\n",
        "def load_data(train_data, test_data, num_words=10000):\n",
        "  train_data.drop_duplicates(subset=['document'], inplace=True)\n",
        "  train_data = train_data.dropna(how = 'any') \n",
        "  test_data.drop_duplicates(subset=['document'], inplace=True)\n",
        "  test_data = test_data.dropna(how = 'any')\n",
        "\n",
        "  X_train = [] # X_train의 빈 리스트 생성\n",
        "  for sentence in train_data['document']:\n",
        "    temp_X = tokenizer.morphs(sentence) # 토큰화\n",
        "    temp_X = [word for word in temp_X if not word in stopwords] # 불용어 제거\n",
        "    X_train.append(temp_X)\n",
        "\n",
        "  X_test = [] # X_test의 빈 리스트 생성\n",
        "  for sentence in test_data['document']:\n",
        "    temp_X = tokenizer.morphs(sentence) # 토큰화\n",
        "    temp_X = [word for word in temp_X if not word in stopwords] # 불용어 제거\n",
        "    X_test.append(temp_X)\n",
        "\n",
        "  words = np.concatenate(X_train).tolist() # .tolist() : array를 list로 변경\n",
        "  counter = Counter(words)                 # collection 모듈의 Counter 클래스로 데이터의 개수 확인\n",
        "  counter = counter.most_common(10000-4)   # most_common() : 데이터의 개수가 많은 순으로 정렬된 배열 리턴\n",
        "  vocab = ['<PAD>', '<BOS>', '<UNK>', '<UNUSED>'] + [key for key, _ in counter] # LMS 과정과 다르게 함수에서 미리 사전에 정의해둔다.\n",
        "  word_to_index = {word:index for index, word in enumerate(vocab)}\n",
        "\n",
        "  def wordlist_to_indexlist(wordlist):\n",
        "    return [word_to_index[word] if word in word_to_index else word_to_index['<UNK>'] for word in wordlist]\n",
        "    # wordlist에 있는 word에 대해서 만약에 word가 word_to_index에 존재하면 인덱스 값을, 존재하지 않으면 <UNK>를 인덱스로 반환함\n",
        "        \n",
        "  X_train = list(map(wordlist_to_indexlist, X_train))\n",
        "  X_test = list(map(wordlist_to_indexlist, X_test))\n",
        "        \n",
        "  return X_train, np.array(list(train_data['label'])), X_test, np.array(list(test_data['label'])), word_to_index\n",
        "  \n",
        "X_train, y_train, X_test, y_test, word_to_index = load_data(train_data, test_data)\n",
        "print('훈련 샘플 개수: {}, 테스트 개수: {}'.format(len(X_train), len(X_test)))\n",
        "print('훈련 샘플 개수: {}, 테스트 개수: {}'.format(len(y_train), len(y_test)))"
      ],
      "metadata": {
        "colab": {
          "base_uri": "https://localhost:8080/"
        },
        "id": "HUmhV46zQA5p",
        "outputId": "2b15b7b8-b85d-4a67-f8a8-35fab5abcd70"
      },
      "execution_count": null,
      "outputs": [
        {
          "output_type": "stream",
          "name": "stdout",
          "text": [
            "훈련 샘플 개수: 146182, 테스트 개수: 49157\n",
            "훈련 샘플 개수: 146182, 테스트 개수: 49157\n"
          ]
        }
      ]
    },
    {
      "cell_type": "code",
      "source": [
        "# 텍스트 확인\n",
        "index_to_word = {index:word for word, index in word_to_index.items()}\n",
        "print(index_to_word[0])\n",
        "print(word_to_index['<PAD>'])"
      ],
      "metadata": {
        "colab": {
          "base_uri": "https://localhost:8080/"
        },
        "id": "s_cRqSZGUXeI",
        "outputId": "7c1a3122-1ab8-4524-e917-9619d243a80d"
      },
      "execution_count": null,
      "outputs": [
        {
          "output_type": "stream",
          "name": "stdout",
          "text": [
            "<PAD>\n",
            "0\n"
          ]
        }
      ]
    },
    {
      "cell_type": "code",
      "source": [
        "# 문장 1개를 활용할 딕셔너리와 함께 주면, 단어 인덱스 리스트 벡터로 변환해 주는 함수입니다. \n",
        "# 단, 모든 문장은 <BOS>로 시작하는 것으로 합니다. \n",
        "def get_encoded_sentence(sentence, word_to_index):\n",
        "  return [word_to_index['<BOS>']]+[word_to_index[word] if word in word_to_index else word_to_index['<UNK>'] for word in sentence.split()]\n",
        "\n",
        "# 여러 개의 문장 리스트를 한꺼번에 단어 인덱스 리스트 벡터로 encode해 주는 함수입니다. \n",
        "def get_encoded_sentences(sentences, word_to_index):\n",
        "  return [get_encoded_sentence(sentence, word_to_index) for sentence in sentences]\n",
        "\n",
        "# 숫자 벡터로 encode된 문장을 원래대로 decode하는 함수입니다. \n",
        "def get_decoded_sentence(encoded_sentence, index_to_word):\n",
        "  return ' '.join(index_to_word[index] if index in index_to_word else '<UNK>' for index in encoded_sentence[1:])  #[1:]를 통해 <BOS>를 제외\n",
        "\n",
        "# 여러 개의 숫자 벡터로 encode된 문장을 한꺼번에 원래대로 decode하는 함수입니다. \n",
        "def get_decoded_sentences(encoded_sentences, index_to_word):\n",
        "  return [get_decoded_sentence(encoded_sentence, index_to_word) for encoded_sentence in encoded_sentences]"
      ],
      "metadata": {
        "id": "aqCoL9i4VcaC"
      },
      "execution_count": null,
      "outputs": []
    },
    {
      "cell_type": "code",
      "source": [
        "# 3. 모델 구성을 위한 데이터 분석 및 가공\n",
        "total_data_text = list(X_train) + list(X_test)\n",
        "# txt데이터 문장길이의 리스트를 생성한 후\n",
        "num_tokens = [len(tokens) for tokens in total_data_text]\n",
        "num_tokens = np.array(num_tokens)\n",
        "\n",
        "# 문장길이의 평균값, 최대값, 표준편차를 계산해 본다.\n",
        "print('문장길이 평균 : ', np.mean(num_tokens))\n",
        "print('문장길이 최대 : ', np.max(num_tokens))\n",
        "print('문장길이 표준편차 : ', np.std(num_tokens))\n",
        "\n",
        "# 최대 길이를 (평균 + 2*표준편차)\n",
        "max_tokens = np.mean(num_tokens) + 2 * np.std(num_tokens)\n",
        "maxlen = int(max_tokens)\n",
        "print('pad_sequences maxlen : ', maxlen)\n",
        "print('전체 문장의 {}%가 maxlen 설정값 이내에 포함됩다. '.format(np.sum(num_tokens < max_tokens) / len(num_tokens)))\n",
        "\n",
        "# 적절한 최대 문장 길이는 41이다."
      ],
      "metadata": {
        "colab": {
          "base_uri": "https://localhost:8080/"
        },
        "id": "pwE7wWLWXQa9",
        "outputId": "7f8a5a58-6e9e-4751-9795-3ce6e4d6e8e9"
      },
      "execution_count": null,
      "outputs": [
        {
          "output_type": "stream",
          "name": "stdout",
          "text": [
            "문장길이 평균 :  15.969376315021577\n",
            "문장길이 최대 :  116\n",
            "문장길이 표준편차 :  12.843535456326455\n",
            "pad_sequences maxlen :  41\n",
            "전체 문장의 0.9342988343341575%가 maxlen 설정값 이내에 포함됩다. \n"
          ]
        }
      ]
    },
    {
      "cell_type": "code",
      "source": [
        "print(get_decoded_sentence(X_train[0], index_to_word))\n",
        "print('라벨: ', y_train[0])  # 1번째 리뷰데이터의 라벨"
      ],
      "metadata": {
        "colab": {
          "base_uri": "https://localhost:8080/"
        },
        "id": "UFX5TEbKgJEc",
        "outputId": "a70913e3-7c78-45c5-cd91-514b1df06b0b"
      },
      "execution_count": null,
      "outputs": [
        {
          "output_type": "stream",
          "name": "stdout",
          "text": [
            "더 빙 . . 진짜 짜증 나 네요 목소리\n",
            "라벨:  0\n"
          ]
        }
      ]
    },
    {
      "cell_type": "code",
      "source": [
        "# pad_sequences 을 활용한 패딩 추가\n",
        "# padding은 pre로 설정을 해보았다. 이유는 RNN이 학습을 할 때 순차적으로 데이터가 입력이된다.\n",
        "# 마지막 입력이 무의미한 값으로 입력되는 post보다 pre가 더 좋은 성능을 낼 것으로 생각한다.\n",
        "import tensorflow as tf\n",
        "X_train = tf.keras.preprocessing.sequence.pad_sequences(X_train,\n",
        "                                                        value=word_to_index[\"<PAD>\"],\n",
        "                                                        padding='pre', # 혹은 'post'\n",
        "                                                        maxlen=maxlen)\n",
        "\n",
        "X_test = tf.keras.preprocessing.sequence.pad_sequences(X_test,\n",
        "                                                       value=word_to_index[\"<PAD>\"],\n",
        "                                                       padding='pre', # 혹은 'post'\n",
        "                                                       maxlen=maxlen)\n",
        "\n",
        "print(X_train.shape, X_test.shape)"
      ],
      "metadata": {
        "colab": {
          "base_uri": "https://localhost:8080/"
        },
        "id": "Jy1RgYgkYWbS",
        "outputId": "84bfcca3-2663-4ace-b075-1b3885a1c397"
      },
      "execution_count": null,
      "outputs": [
        {
          "output_type": "stream",
          "name": "stdout",
          "text": [
            "(146182, 41) (49157, 41)\n"
          ]
        }
      ]
    },
    {
      "cell_type": "code",
      "source": [
        "# 4. 모델 구상 - 1 (RNN)\n",
        "vocab_size = 10000  # 어휘 사전의 크기입니다(10000개의 단어)\n",
        "word_vector_dim = 16   # 단어 하나를 표현하는 임베딩 벡터의 차원 수이며 직접 구성한 임베딩이기에 차원 수는 임의로 선택이 가능하다\n",
        "\n",
        "model1 = tf.keras.Sequential()\n",
        "model1.add(tf.keras.layers.Embedding(vocab_size, word_vector_dim, input_shape=(None,)))\n",
        "model1.add(tf.keras.layers.LSTM(8))   # 가장 널리 쓰이는 RNN인 LSTM 레이어를 사용하였습니다. 이때 LSTM state 벡터의 차원수는 8로 하였습니다. (변경 가능)\n",
        "model1.add(tf.keras.layers.Dense(8, activation='relu'))\n",
        "model1.add(tf.keras.layers.Dense(1, activation='sigmoid'))  # 최종 출력은 긍정/부정을 나타내는 1dim 입니다.\n",
        "\n",
        "model1.summary()"
      ],
      "metadata": {
        "colab": {
          "base_uri": "https://localhost:8080/"
        },
        "id": "pph4Na02dwRZ",
        "outputId": "b3251670-705f-4b87-d86e-0faa68d250eb"
      },
      "execution_count": null,
      "outputs": [
        {
          "output_type": "stream",
          "name": "stdout",
          "text": [
            "Model: \"sequential\"\n",
            "_________________________________________________________________\n",
            " Layer (type)                Output Shape              Param #   \n",
            "=================================================================\n",
            " embedding (Embedding)       (None, None, 16)          160000    \n",
            "                                                                 \n",
            " lstm (LSTM)                 (None, 8)                 800       \n",
            "                                                                 \n",
            " dense (Dense)               (None, 8)                 72        \n",
            "                                                                 \n",
            " dense_1 (Dense)             (None, 1)                 9         \n",
            "                                                                 \n",
            "=================================================================\n",
            "Total params: 160,881\n",
            "Trainable params: 160,881\n",
            "Non-trainable params: 0\n",
            "_________________________________________________________________\n"
          ]
        }
      ]
    },
    {
      "cell_type": "code",
      "source": [
        "# validation set 10000건 분리\n",
        "x_val = X_train[:10000]   \n",
        "y_val = y_train[:10000]\n",
        "\n",
        "# validation set을 제외한 나머지 15000건\n",
        "partial_x_train = X_train[10000:]  \n",
        "partial_y_train = y_train[10000:]\n",
        "\n",
        "print(partial_x_train.shape)\n",
        "print(partial_y_train.shape)"
      ],
      "metadata": {
        "colab": {
          "base_uri": "https://localhost:8080/"
        },
        "id": "J7X85m7lesHd",
        "outputId": "cb6af2f4-a6a9-47a2-e098-455e65f20594"
      },
      "execution_count": null,
      "outputs": [
        {
          "output_type": "stream",
          "name": "stdout",
          "text": [
            "(136182, 41)\n",
            "(136182,)\n"
          ]
        }
      ]
    },
    {
      "cell_type": "code",
      "source": [
        "# 5. 모델 훈련 개시 - 1 (RNN)\n",
        "model1.compile(optimizer='adam',\n",
        "              loss='binary_crossentropy',\n",
        "              metrics=['accuracy'])\n",
        "\n",
        "epochs = 20 # 계속 바꿔보자\n",
        "\n",
        "history1 = model1.fit(partial_x_train, \n",
        "                    partial_y_train,\n",
        "                    epochs = epochs,\n",
        "                    batch_size=512,\n",
        "                    validation_data=(x_val, y_val),\n",
        "                    verbose=1)"
      ],
      "metadata": {
        "colab": {
          "base_uri": "https://localhost:8080/"
        },
        "id": "ivZBqP8VevZ-",
        "outputId": "de162a88-c167-42b2-a562-206189b7330b"
      },
      "execution_count": null,
      "outputs": [
        {
          "output_type": "stream",
          "name": "stdout",
          "text": [
            "Epoch 1/20\n",
            "266/266 [==============================] - 11s 31ms/step - loss: 0.1602 - accuracy: 0.9399 - val_loss: 0.4893 - val_accuracy: 0.8469\n",
            "Epoch 2/20\n",
            "266/266 [==============================] - 8s 29ms/step - loss: 0.1520 - accuracy: 0.9434 - val_loss: 0.5207 - val_accuracy: 0.8443\n",
            "Epoch 3/20\n",
            "266/266 [==============================] - 8s 28ms/step - loss: 0.1477 - accuracy: 0.9454 - val_loss: 0.5317 - val_accuracy: 0.8398\n",
            "Epoch 4/20\n",
            "266/266 [==============================] - 8s 28ms/step - loss: 0.1453 - accuracy: 0.9466 - val_loss: 0.5325 - val_accuracy: 0.8430\n",
            "Epoch 5/20\n",
            "266/266 [==============================] - 8s 29ms/step - loss: 0.1407 - accuracy: 0.9486 - val_loss: 0.5505 - val_accuracy: 0.8437\n",
            "Epoch 6/20\n",
            "266/266 [==============================] - 8s 28ms/step - loss: 0.1355 - accuracy: 0.9510 - val_loss: 0.5757 - val_accuracy: 0.8415\n",
            "Epoch 7/20\n",
            "266/266 [==============================] - 8s 29ms/step - loss: 0.1326 - accuracy: 0.9520 - val_loss: 0.5759 - val_accuracy: 0.8419\n",
            "Epoch 8/20\n",
            "266/266 [==============================] - 8s 29ms/step - loss: 0.1279 - accuracy: 0.9539 - val_loss: 0.6122 - val_accuracy: 0.8384\n",
            "Epoch 9/20\n",
            "266/266 [==============================] - 8s 29ms/step - loss: 0.1238 - accuracy: 0.9558 - val_loss: 0.6348 - val_accuracy: 0.8366\n",
            "Epoch 10/20\n",
            "266/266 [==============================] - 8s 29ms/step - loss: 0.1201 - accuracy: 0.9573 - val_loss: 0.6607 - val_accuracy: 0.8375\n",
            "Epoch 11/20\n",
            "266/266 [==============================] - 8s 29ms/step - loss: 0.1199 - accuracy: 0.9573 - val_loss: 0.6304 - val_accuracy: 0.8383\n",
            "Epoch 12/20\n",
            "266/266 [==============================] - 8s 29ms/step - loss: 0.1168 - accuracy: 0.9586 - val_loss: 0.6757 - val_accuracy: 0.8368\n",
            "Epoch 13/20\n",
            "266/266 [==============================] - 8s 28ms/step - loss: 0.1130 - accuracy: 0.9602 - val_loss: 0.6748 - val_accuracy: 0.8361\n",
            "Epoch 14/20\n",
            "266/266 [==============================] - 8s 29ms/step - loss: 0.1086 - accuracy: 0.9620 - val_loss: 0.7119 - val_accuracy: 0.8344\n",
            "Epoch 15/20\n",
            "266/266 [==============================] - 8s 29ms/step - loss: 0.1086 - accuracy: 0.9612 - val_loss: 0.7370 - val_accuracy: 0.8321\n",
            "Epoch 16/20\n",
            "266/266 [==============================] - 8s 29ms/step - loss: 0.1079 - accuracy: 0.9621 - val_loss: 0.7270 - val_accuracy: 0.8368\n",
            "Epoch 17/20\n",
            "266/266 [==============================] - 8s 29ms/step - loss: 0.1026 - accuracy: 0.9641 - val_loss: 0.7484 - val_accuracy: 0.8367\n",
            "Epoch 18/20\n",
            "266/266 [==============================] - 8s 29ms/step - loss: 0.1002 - accuracy: 0.9651 - val_loss: 0.7714 - val_accuracy: 0.8336\n",
            "Epoch 19/20\n",
            "266/266 [==============================] - 8s 29ms/step - loss: 0.1006 - accuracy: 0.9644 - val_loss: 0.7834 - val_accuracy: 0.8358\n",
            "Epoch 20/20\n",
            "266/266 [==============================] - 8s 29ms/step - loss: 0.0957 - accuracy: 0.9668 - val_loss: 0.8022 - val_accuracy: 0.8323\n"
          ]
        }
      ]
    },
    {
      "cell_type": "code",
      "source": [
        "history_dict1 = history1.history\n",
        "print(history_dict1.keys()) # epoch에 따른 그래프를 그려볼 수 있는 항목들"
      ],
      "metadata": {
        "colab": {
          "base_uri": "https://localhost:8080/"
        },
        "outputId": "0c29327d-8c26-4c8c-faea-11301f72fad4",
        "id": "bsfAIv5w6NR0"
      },
      "execution_count": null,
      "outputs": [
        {
          "output_type": "stream",
          "name": "stdout",
          "text": [
            "dict_keys(['loss', 'accuracy', 'val_loss', 'val_accuracy'])\n"
          ]
        }
      ]
    },
    {
      "cell_type": "code",
      "source": [
        "# 6. Loss, Accuracy 그래프 시각화 - 1 (RNN)\n",
        "import matplotlib.pyplot as plt\n",
        "\n",
        "acc = history_dict1['accuracy']\n",
        "val_acc = history_dict1['val_accuracy']\n",
        "loss = history_dict1['loss']\n",
        "val_loss = history_dict1['val_loss']\n",
        "\n",
        "epochs = range(1, len(acc) + 1)\n",
        "\n",
        "# \"ro\"는 \"빨간색 점\"입니다\n",
        "plt.plot(epochs, loss, 'ro', label='Training loss')\n",
        "# r는 \"빨간 실선\"입니다\n",
        "plt.plot(epochs, val_loss, 'r', label='Validation loss')\n",
        "plt.title('Training and validation loss')\n",
        "plt.xlabel('Epochs')\n",
        "plt.ylabel('Loss')\n",
        "plt.legend()\n",
        "\n",
        "plt.show()"
      ],
      "metadata": {
        "colab": {
          "base_uri": "https://localhost:8080/",
          "height": 295
        },
        "id": "uWZfa20afFM-",
        "outputId": "59aa2a72-23f7-4b00-e501-7312ce5c907c"
      },
      "execution_count": null,
      "outputs": [
        {
          "output_type": "display_data",
          "data": {
            "text/plain": [
              "<Figure size 432x288 with 1 Axes>"
            ],
            "image/png": "[encoded data removed]"
          },
          "metadata": {
            "needs_background": "light"
          }
        }
      ]
    },
    {
      "cell_type": "code",
      "source": [
        "plt.clf()   # 그림을 초기화합니다\n",
        "# \"bo\"는 \"파란색 점\"입니다\n",
        "plt.plot(epochs, acc, 'bo', label='Training acc')\n",
        "# b는 \"파란 실선\"입니다\n",
        "plt.plot(epochs, val_acc, 'b', label='Validation acc')\n",
        "plt.title('Training and validation accuracy')\n",
        "plt.xlabel('Epochs')\n",
        "plt.ylabel('Accuracy')\n",
        "plt.legend()\n",
        "\n",
        "plt.show()"
      ],
      "metadata": {
        "colab": {
          "base_uri": "https://localhost:8080/",
          "height": 295
        },
        "id": "wR20DpAyHKjQ",
        "outputId": "85757132-f6aa-45c7-bada-777779326242"
      },
      "execution_count": null,
      "outputs": [
        {
          "output_type": "display_data",
          "data": {
            "text/plain": [
              "<Figure size 432x288 with 1 Axes>"
            ],
            "image/png": "[encoded data removed]"
          },
          "metadata": {
            "needs_background": "light"
          }
        }
      ]
    },
    {
      "cell_type": "code",
      "source": [
        "# 학습이 끝난 모델을 테스트셋으로 평가\n",
        "results1 = model1.evaluate(X_test, y_test, verbose=2)\n",
        "print(results1)\n",
        "\n",
        "# 학습 데이터와 검증 데이터의 학습률이 초기 에포크부터 상당히 높게 나왔다. 에포크를 20까지 설정할 필요는 없을 것으로 보인다.\n",
        "# 다만 loss 그래프에서 학습 데이터와 검증 데이터의 loss는 다른 방향으로 움직이고있다. 검증용 loss가 꾸준히 올라가고 있다\n",
        "# Validation loss가 하락하다가 다시 상승하는 구간은 모델이 과적합되고 있다고한다.\n",
        "# 이 그래프에서는 초기부터 Validation loss가 하락하는 구간이 보이지않는다. 모델이 과적합 상태인지 의혹이 드는 부분이다."
      ],
      "metadata": {
        "colab": {
          "base_uri": "https://localhost:8080/"
        },
        "id": "3d5-otkDh24Q",
        "outputId": "b5bd5d8c-d6e9-4605-a198-d7a4d7e68565"
      },
      "execution_count": null,
      "outputs": [
        {
          "output_type": "stream",
          "name": "stdout",
          "text": [
            "1537/1537 - 5s - loss: 0.8092 - accuracy: 0.8312 - 5s/epoch - 3ms/step\n",
            "[0.8091984987258911, 0.8311735987663269]\n"
          ]
        }
      ]
    },
    {
      "cell_type": "code",
      "source": [
        "# 4. 모델 구상 - 2 (GlobalMaxPooling1D)\n",
        "\n",
        "vocab_size = 10000  # 어휘 사전의 크기입니다(10000개의 단어)\n",
        "word_vector_dim = 16   # 단어 하나를 표현하는 임베딩 벡터의 차원 수입니다. \n",
        "\n",
        "model2 = tf.keras.Sequential()\n",
        "model2.add(tf.keras.layers.Embedding(vocab_size, word_vector_dim, input_shape=(None,)))\n",
        "model2.add(tf.keras.layers.GlobalMaxPooling1D())\n",
        "model2.add(tf.keras.layers.Dense(8, activation='relu'))\n",
        "model2.add(tf.keras.layers.Dense(1, activation='sigmoid'))\n",
        "\n",
        "model2.summary()"
      ],
      "metadata": {
        "id": "RquwU-wUe12q",
        "colab": {
          "base_uri": "https://localhost:8080/"
        },
        "outputId": "87310b0b-7e64-4df4-a52c-ef02df0024d2"
      },
      "execution_count": null,
      "outputs": [
        {
          "output_type": "stream",
          "name": "stdout",
          "text": [
            "Model: \"sequential_1\"\n",
            "_________________________________________________________________\n",
            " Layer (type)                Output Shape              Param #   \n",
            "=================================================================\n",
            " embedding_1 (Embedding)     (None, None, 16)          160000    \n",
            "                                                                 \n",
            " global_max_pooling1d (Globa  (None, 16)               0         \n",
            " lMaxPooling1D)                                                  \n",
            "                                                                 \n",
            " dense_2 (Dense)             (None, 8)                 136       \n",
            "                                                                 \n",
            " dense_3 (Dense)             (None, 1)                 9         \n",
            "                                                                 \n",
            "=================================================================\n",
            "Total params: 160,145\n",
            "Trainable params: 160,145\n",
            "Non-trainable params: 0\n",
            "_________________________________________________________________\n"
          ]
        }
      ]
    },
    {
      "cell_type": "code",
      "source": [
        "# validation set 10000건 분리\n",
        "x_val = X_train[:10000]   \n",
        "y_val = y_train[:10000]\n",
        "\n",
        "# validation set을 제외한 나머지 15000건\n",
        "partial_x_train = X_train[10000:]  \n",
        "partial_y_train = y_train[10000:]\n",
        "\n",
        "print(partial_x_train.shape)\n",
        "print(partial_y_train.shape)"
      ],
      "metadata": {
        "id": "bi6Vqhq259Yc"
      },
      "execution_count": null,
      "outputs": []
    },
    {
      "cell_type": "code",
      "source": [
        "# 5. 모델 훈련 개시 - 2 (GlobalMaxPooling1D)\n",
        "\n",
        "model2.compile(optimizer='adam',\n",
        "              loss='binary_crossentropy',\n",
        "              metrics=['accuracy'])\n",
        "\n",
        "epochs = 20 # 계속 바꿔보자\n",
        "\n",
        "history2 = model2.fit(partial_x_train, \n",
        "                    partial_y_train,\n",
        "                    epochs = epochs,\n",
        "                    batch_size=512,\n",
        "                    validation_data=(x_val, y_val),\n",
        "                    verbose=1)"
      ],
      "metadata": {
        "id": "ws1JqRuBfGUa",
        "colab": {
          "base_uri": "https://localhost:8080/"
        },
        "outputId": "0d8a7246-5146-477c-af1c-6615b2220719"
      },
      "execution_count": null,
      "outputs": [
        {
          "output_type": "stream",
          "name": "stdout",
          "text": [
            "Epoch 1/20\n",
            "266/266 [==============================] - 2s 6ms/step - loss: 0.1505 - accuracy: 0.9472 - val_loss: 0.5148 - val_accuracy: 0.8255\n",
            "Epoch 2/20\n",
            "266/266 [==============================] - 1s 4ms/step - loss: 0.1459 - accuracy: 0.9488 - val_loss: 0.5288 - val_accuracy: 0.8247\n",
            "Epoch 3/20\n",
            "266/266 [==============================] - 1s 5ms/step - loss: 0.1418 - accuracy: 0.9512 - val_loss: 0.5433 - val_accuracy: 0.8232\n",
            "Epoch 4/20\n",
            "266/266 [==============================] - 1s 5ms/step - loss: 0.1386 - accuracy: 0.9520 - val_loss: 0.5476 - val_accuracy: 0.8223\n",
            "Epoch 5/20\n",
            "266/266 [==============================] - 1s 5ms/step - loss: 0.1352 - accuracy: 0.9541 - val_loss: 0.5641 - val_accuracy: 0.8234\n",
            "Epoch 6/20\n",
            "266/266 [==============================] - 1s 5ms/step - loss: 0.1324 - accuracy: 0.9556 - val_loss: 0.5718 - val_accuracy: 0.8218\n",
            "Epoch 7/20\n",
            "266/266 [==============================] - 1s 5ms/step - loss: 0.1300 - accuracy: 0.9563 - val_loss: 0.5832 - val_accuracy: 0.8227\n",
            "Epoch 8/20\n",
            "266/266 [==============================] - 1s 5ms/step - loss: 0.1273 - accuracy: 0.9574 - val_loss: 0.5999 - val_accuracy: 0.8195\n",
            "Epoch 9/20\n",
            "266/266 [==============================] - 1s 4ms/step - loss: 0.1251 - accuracy: 0.9586 - val_loss: 0.6031 - val_accuracy: 0.8205\n",
            "Epoch 10/20\n",
            "266/266 [==============================] - 1s 5ms/step - loss: 0.1230 - accuracy: 0.9590 - val_loss: 0.6187 - val_accuracy: 0.8227\n",
            "Epoch 11/20\n",
            "266/266 [==============================] - 1s 5ms/step - loss: 0.1210 - accuracy: 0.9597 - val_loss: 0.6252 - val_accuracy: 0.8215\n",
            "Epoch 12/20\n",
            "266/266 [==============================] - 1s 5ms/step - loss: 0.1190 - accuracy: 0.9604 - val_loss: 0.6371 - val_accuracy: 0.8177\n",
            "Epoch 13/20\n",
            "266/266 [==============================] - 1s 5ms/step - loss: 0.1168 - accuracy: 0.9620 - val_loss: 0.6373 - val_accuracy: 0.8180\n",
            "Epoch 14/20\n",
            "266/266 [==============================] - 1s 5ms/step - loss: 0.1152 - accuracy: 0.9626 - val_loss: 0.6556 - val_accuracy: 0.8175\n",
            "Epoch 15/20\n",
            "266/266 [==============================] - 1s 5ms/step - loss: 0.1136 - accuracy: 0.9629 - val_loss: 0.6699 - val_accuracy: 0.8174\n",
            "Epoch 16/20\n",
            "266/266 [==============================] - 1s 5ms/step - loss: 0.1120 - accuracy: 0.9637 - val_loss: 0.6764 - val_accuracy: 0.8149\n",
            "Epoch 17/20\n",
            "266/266 [==============================] - 1s 5ms/step - loss: 0.1104 - accuracy: 0.9643 - val_loss: 0.6859 - val_accuracy: 0.8143\n",
            "Epoch 18/20\n",
            "266/266 [==============================] - 1s 5ms/step - loss: 0.1084 - accuracy: 0.9651 - val_loss: 0.6998 - val_accuracy: 0.8154\n",
            "Epoch 19/20\n",
            "266/266 [==============================] - 1s 5ms/step - loss: 0.1073 - accuracy: 0.9656 - val_loss: 0.7019 - val_accuracy: 0.8149\n",
            "Epoch 20/20\n",
            "266/266 [==============================] - 1s 5ms/step - loss: 0.1056 - accuracy: 0.9661 - val_loss: 0.7149 - val_accuracy: 0.8124\n"
          ]
        }
      ]
    },
    {
      "cell_type": "code",
      "source": [
        "history_dict2 = history2.history\n",
        "print(history_dict2.keys()) # epoch에 따른 그래프를 그려볼 수 있는 항목들"
      ],
      "metadata": {
        "colab": {
          "base_uri": "https://localhost:8080/"
        },
        "outputId": "0d814d1e-ea71-462b-b684-9301113a604f",
        "id": "vN3N8Zv06Rfy"
      },
      "execution_count": null,
      "outputs": [
        {
          "output_type": "stream",
          "name": "stdout",
          "text": [
            "dict_keys(['loss', 'accuracy', 'val_loss', 'val_accuracy'])\n"
          ]
        }
      ]
    },
    {
      "cell_type": "code",
      "source": [
        "# 6. Loss, Accuracy 그래프 시각화 - 2 (GlobalMaxPooling1D)\n",
        "import matplotlib.pyplot as plt\n",
        "\n",
        "acc = history_dict2['accuracy']\n",
        "val_acc = history_dict2['val_accuracy']\n",
        "loss = history_dict2['loss']\n",
        "val_loss = history_dict2['val_loss']\n",
        "\n",
        "epochs = range(1, len(acc) + 1)\n",
        "\n",
        "# \"ro\"는 \"빨간색 점\"입니다\n",
        "plt.plot(epochs, loss, 'ro', label='Training loss')\n",
        "# r는 \"빨간 실선\"입니다\n",
        "plt.plot(epochs, val_loss, 'r', label='Validation loss')\n",
        "plt.title('Training and validation loss')\n",
        "plt.xlabel('Epochs')\n",
        "plt.ylabel('Loss')\n",
        "plt.legend()\n",
        "\n",
        "plt.show()"
      ],
      "metadata": {
        "id": "p_D2t6KHjSPT",
        "colab": {
          "base_uri": "https://localhost:8080/",
          "height": 295
        },
        "outputId": "f245d986-a187-491f-b1d2-bf5da42c826f"
      },
      "execution_count": null,
      "outputs": [
        {
          "output_type": "display_data",
          "data": {
            "text/plain": [
              "<Figure size 432x288 with 1 Axes>"
            ],
            "image/png": "[encoded data removed]"
          },
          "metadata": {
            "needs_background": "light"
          }
        }
      ]
    },
    {
      "cell_type": "code",
      "source": [
        "plt.clf()   # 그림을 초기화합니다\n",
        "# \"bo\"는 \"파란색 점\"입니다\n",
        "plt.plot(epochs, acc, 'bo', label='Training acc')\n",
        "# b는 \"파란 실선\"입니다\n",
        "plt.plot(epochs, val_acc, 'b', label='Validation acc')\n",
        "plt.title('Training and validation accuracy')\n",
        "plt.xlabel('Epochs')\n",
        "plt.ylabel('Accuracy')\n",
        "plt.legend()\n",
        "\n",
        "plt.show()"
      ],
      "metadata": {
        "colab": {
          "base_uri": "https://localhost:8080/",
          "height": 295
        },
        "id": "IWn7kPUpISlm",
        "outputId": "e391c3f1-fb59-45c6-afad-ee233658d25b"
      },
      "execution_count": null,
      "outputs": [
        {
          "output_type": "display_data",
          "data": {
            "text/plain": [
              "<Figure size 432x288 with 1 Axes>"
            ],
            "image/png": "[encoded data removed]"
          },
          "metadata": {
            "needs_background": "light"
          }
        }
      ]
    },
    {
      "cell_type": "code",
      "source": [
        "# 학습이 끝난 모델을 테스트셋으로 평가\n",
        "results2 = model2.evaluate(X_test, y_test, verbose=2)\n",
        "print(results2)\n",
        "\n",
        "# 학습 데이터와 검증 데이터의 학습률이 초기 에포크부터 상당히 높게 나왔다. 에포크를 20까지 설정할 필요는 없을 것으로 보인다.\n",
        "# 다만 loss 그래프에서 학습 데이터와 검증 데이터의 loss는 다른 방향으로 움직이고있다. 검증용 loss가 꾸준히 올라가고 있다\n",
        "# Validation loss가 하락하다가 다시 상승하는 구간은 모델이 과적합되고 있다고한다.\n",
        "# 이 그래프에서는 초기부터 Validation loss가 하락하는 구간이 보이지않는다. 모델이 과적합 상태인지 의혹이 드는 부분이다."
      ],
      "metadata": {
        "colab": {
          "base_uri": "https://localhost:8080/"
        },
        "id": "iAwgvTK8h2s7",
        "outputId": "2e32fe0f-a2d7-40b4-82a1-272a2d66eacd"
      },
      "execution_count": null,
      "outputs": [
        {
          "output_type": "stream",
          "name": "stdout",
          "text": [
            "1537/1537 - 2s - loss: 0.7214 - accuracy: 0.8144 - 2s/epoch - 1ms/step\n",
            "[0.7214144468307495, 0.8143702745437622]\n"
          ]
        }
      ]
    },
    {
      "cell_type": "code",
      "source": [
        "# 4. 모델 구상 - 3 (1-D Convolution Neural Network(1-D CNN)모델)\n",
        "\n",
        "vocab_size = 10000  # 어휘 사전의 크기입니다(10000개의 단어)\n",
        "word_vector_dim = 16   # 단어 하나를 표현하는 임베딩 벡터의 차원 수입니다. \n",
        "\n",
        "model3 = tf.keras.Sequential()\n",
        "model3.add(tf.keras.layers.Embedding(vocab_size, word_vector_dim, input_shape=(None,)))\n",
        "model3.add(tf.keras.layers.Conv1D(16, 7, activation='relu'))\n",
        "model3.add(tf.keras.layers.MaxPooling1D(5))\n",
        "model3.add(tf.keras.layers.Conv1D(16, 7, activation='relu'))\n",
        "model3.add(tf.keras.layers.GlobalMaxPooling1D())\n",
        "model3.add(tf.keras.layers.Dense(8, activation='relu'))\n",
        "model3.add(tf.keras.layers.Dense(1, activation='sigmoid'))  # 최종 출력은 긍정/부정을 나타내는 1dim 입니다.\n",
        "\n",
        "model3.summary()"
      ],
      "metadata": {
        "id": "Dbw94aaPe35q",
        "colab": {
          "base_uri": "https://localhost:8080/"
        },
        "outputId": "0be6caf6-4be1-45ef-e997-f880a454883d"
      },
      "execution_count": null,
      "outputs": [
        {
          "output_type": "stream",
          "name": "stdout",
          "text": [
            "Model: \"sequential_2\"\n",
            "_________________________________________________________________\n",
            " Layer (type)                Output Shape              Param #   \n",
            "=================================================================\n",
            " embedding_2 (Embedding)     (None, None, 16)          160000    \n",
            "                                                                 \n",
            " conv1d (Conv1D)             (None, None, 16)          1808      \n",
            "                                                                 \n",
            " max_pooling1d (MaxPooling1D  (None, None, 16)         0         \n",
            " )                                                               \n",
            "                                                                 \n",
            " conv1d_1 (Conv1D)           (None, None, 16)          1808      \n",
            "                                                                 \n",
            " global_max_pooling1d_1 (Glo  (None, 16)               0         \n",
            " balMaxPooling1D)                                                \n",
            "                                                                 \n",
            " dense_4 (Dense)             (None, 8)                 136       \n",
            "                                                                 \n",
            " dense_5 (Dense)             (None, 1)                 9         \n",
            "                                                                 \n",
            "=================================================================\n",
            "Total params: 163,761\n",
            "Trainable params: 163,761\n",
            "Non-trainable params: 0\n",
            "_________________________________________________________________\n"
          ]
        }
      ]
    },
    {
      "cell_type": "code",
      "source": [
        "# 5. 모델 훈련 개시 - 3 (1-D Convolution Neural Network(1-D CNN)모델)\n",
        "\n",
        "model3.compile(optimizer='adam',\n",
        "              loss='binary_crossentropy',\n",
        "              metrics=['accuracy'])\n",
        "\n",
        "epochs = 20 # 계속 바꿔보자\n",
        "\n",
        "history3 = model3.fit(partial_x_train, \n",
        "                    partial_y_train,\n",
        "                    epochs = epochs,\n",
        "                    batch_size=512,\n",
        "                    validation_data=(x_val, y_val),\n",
        "                    verbose=1)"
      ],
      "metadata": {
        "id": "VZnwlfx8fHOi",
        "colab": {
          "base_uri": "https://localhost:8080/"
        },
        "outputId": "f45d6978-0eaf-4780-c4ef-b724e50f3d11"
      },
      "execution_count": null,
      "outputs": [
        {
          "output_type": "stream",
          "name": "stdout",
          "text": [
            "Epoch 1/20\n",
            "266/266 [==============================] - 4s 11ms/step - loss: 0.4700 - accuracy: 0.7742 - val_loss: 0.3476 - val_accuracy: 0.8491\n",
            "Epoch 2/20\n",
            "266/266 [==============================] - 3s 10ms/step - loss: 0.3255 - accuracy: 0.8616 - val_loss: 0.3335 - val_accuracy: 0.8552\n",
            "Epoch 3/20\n",
            "266/266 [==============================] - 3s 10ms/step - loss: 0.2910 - accuracy: 0.8783 - val_loss: 0.3308 - val_accuracy: 0.8561\n",
            "Epoch 4/20\n",
            "266/266 [==============================] - 3s 10ms/step - loss: 0.2604 - accuracy: 0.8940 - val_loss: 0.3341 - val_accuracy: 0.8531\n",
            "Epoch 5/20\n",
            "266/266 [==============================] - 3s 10ms/step - loss: 0.2290 - accuracy: 0.9103 - val_loss: 0.3492 - val_accuracy: 0.8538\n",
            "Epoch 6/20\n",
            "266/266 [==============================] - 3s 10ms/step - loss: 0.1968 - accuracy: 0.9261 - val_loss: 0.3743 - val_accuracy: 0.8537\n",
            "Epoch 7/20\n",
            "266/266 [==============================] - 2s 9ms/step - loss: 0.1656 - accuracy: 0.9403 - val_loss: 0.4132 - val_accuracy: 0.8484\n",
            "Epoch 8/20\n",
            "266/266 [==============================] - 3s 10ms/step - loss: 0.1398 - accuracy: 0.9514 - val_loss: 0.4462 - val_accuracy: 0.8457\n",
            "Epoch 9/20\n",
            "266/266 [==============================] - 2s 9ms/step - loss: 0.1169 - accuracy: 0.9616 - val_loss: 0.5000 - val_accuracy: 0.8356\n",
            "Epoch 10/20\n",
            "266/266 [==============================] - 2s 9ms/step - loss: 0.1001 - accuracy: 0.9681 - val_loss: 0.5309 - val_accuracy: 0.8353\n",
            "Epoch 11/20\n",
            "266/266 [==============================] - 3s 9ms/step - loss: 0.0861 - accuracy: 0.9732 - val_loss: 0.5838 - val_accuracy: 0.8352\n",
            "Epoch 12/20\n",
            "266/266 [==============================] - 3s 10ms/step - loss: 0.0760 - accuracy: 0.9768 - val_loss: 0.6068 - val_accuracy: 0.8313\n",
            "Epoch 13/20\n",
            "266/266 [==============================] - 3s 10ms/step - loss: 0.0678 - accuracy: 0.9798 - val_loss: 0.6567 - val_accuracy: 0.8280\n",
            "Epoch 14/20\n",
            "266/266 [==============================] - 3s 9ms/step - loss: 0.0612 - accuracy: 0.9820 - val_loss: 0.7199 - val_accuracy: 0.8246\n",
            "Epoch 15/20\n",
            "266/266 [==============================] - 3s 10ms/step - loss: 0.0561 - accuracy: 0.9836 - val_loss: 0.7515 - val_accuracy: 0.8236\n",
            "Epoch 16/20\n",
            "266/266 [==============================] - 3s 10ms/step - loss: 0.0524 - accuracy: 0.9846 - val_loss: 0.7936 - val_accuracy: 0.8232\n",
            "Epoch 17/20\n",
            "266/266 [==============================] - 3s 10ms/step - loss: 0.0484 - accuracy: 0.9859 - val_loss: 0.8028 - val_accuracy: 0.8208\n",
            "Epoch 18/20\n",
            "266/266 [==============================] - 3s 10ms/step - loss: 0.0461 - accuracy: 0.9864 - val_loss: 0.8469 - val_accuracy: 0.8193\n",
            "Epoch 19/20\n",
            "266/266 [==============================] - 3s 10ms/step - loss: 0.0441 - accuracy: 0.9868 - val_loss: 0.8648 - val_accuracy: 0.8191\n",
            "Epoch 20/20\n",
            "266/266 [==============================] - 3s 9ms/step - loss: 0.0440 - accuracy: 0.9865 - val_loss: 0.8990 - val_accuracy: 0.8174\n"
          ]
        }
      ]
    },
    {
      "cell_type": "code",
      "source": [
        "history_dict3 = history3.history\n",
        "print(history_dict3.keys()) # epoch에 따른 그래프를 그려볼 수 있는 항목들"
      ],
      "metadata": {
        "colab": {
          "base_uri": "https://localhost:8080/"
        },
        "id": "oHVgTvEElZSI",
        "outputId": "830bf79f-ee84-4d89-de87-4b049c8fc757"
      },
      "execution_count": null,
      "outputs": [
        {
          "output_type": "stream",
          "name": "stdout",
          "text": [
            "dict_keys(['loss', 'accuracy', 'val_loss', 'val_accuracy'])\n"
          ]
        }
      ]
    },
    {
      "cell_type": "code",
      "source": [
        "# 6. Loss, Accuracy 그래프 시각화 - 3 (1-D Convolution Neural Network(1-D CNN)모델)\n",
        "\n",
        "import matplotlib.pyplot as plt\n",
        "\n",
        "acc = history_dict3['accuracy']\n",
        "val_acc = history_dict3['val_accuracy']\n",
        "loss = history_dict3['loss']\n",
        "val_loss = history_dict3['val_loss']\n",
        "\n",
        "epochs = range(1, len(acc) + 1)\n",
        "\n",
        "# \"ro\"는 \"빨간색 점\"입니다\n",
        "plt.plot(epochs, loss, 'ro', label='Training loss')\n",
        "# r는 \"빨간 실선\"입니다\n",
        "plt.plot(epochs, val_loss, 'r', label='Validation loss')\n",
        "plt.title('Training and validation loss')\n",
        "plt.xlabel('Epochs')\n",
        "plt.ylabel('Loss')\n",
        "plt.legend()\n",
        "\n",
        "plt.show()"
      ],
      "metadata": {
        "id": "bt0MCEQUjSHc",
        "colab": {
          "base_uri": "https://localhost:8080/",
          "height": 295
        },
        "outputId": "7e6cd8eb-5499-4781-d48d-5730c2ea556c"
      },
      "execution_count": null,
      "outputs": [
        {
          "output_type": "display_data",
          "data": {
            "text/plain": [
              "<Figure size 432x288 with 1 Axes>"
            ],
            "image/png": "[encoded data removed]"
          },
          "metadata": {
            "needs_background": "light"
          }
        }
      ]
    },
    {
      "cell_type": "code",
      "source": [
        "plt.clf()   # 그림을 초기화합니다\n",
        "# \"bo\"는 \"파란색 점\"입니다\n",
        "plt.plot(epochs, acc, 'bo', label='Training acc')\n",
        "# b는 \"파란 실선\"입니다\n",
        "plt.plot(epochs, val_acc, 'b', label='Validation acc')\n",
        "plt.title('Training and validation accuracy')\n",
        "plt.xlabel('Epochs')\n",
        "plt.ylabel('Accuracy')\n",
        "plt.legend()\n",
        "\n",
        "plt.show()"
      ],
      "metadata": {
        "colab": {
          "base_uri": "https://localhost:8080/",
          "height": 295
        },
        "id": "YRAtlq3fIj46",
        "outputId": "40ef5ffc-a550-4b5b-ad7f-fb1115a9ac0e"
      },
      "execution_count": null,
      "outputs": [
        {
          "output_type": "display_data",
          "data": {
            "text/plain": [
              "<Figure size 432x288 with 1 Axes>"
            ],
            "image/png": "[encoded data removed]"
          },
          "metadata": {
            "needs_background": "light"
          }
        }
      ]
    },
    {
      "cell_type": "code",
      "source": [
        "# 학습이 끝난 모델을 테스트셋으로 평가 (1-D Convolution Neural Network(1-D CNN)모델)\n",
        "results3 = model3.evaluate(X_test, y_test, verbose=2)\n",
        "print(results3)\n",
        "\n",
        "# 학습 데이터의 정확도는 지속적으로 상승했으나 검증용 데이터의 학습률은 미세하게 낮아지고있다.\n",
        "# loss 그래프에서 에포크 5에서부터 Validation loss가 증가하는 것을 볼 수 있다. 이 부분부터 모델이 과적합을 일으킨다."
      ],
      "metadata": {
        "colab": {
          "base_uri": "https://localhost:8080/"
        },
        "id": "vSJiOLInlOZm",
        "outputId": "ecf39eb3-b0d3-4420-bcdf-295e11f6b496"
      },
      "execution_count": null,
      "outputs": [
        {
          "output_type": "stream",
          "name": "stdout",
          "text": [
            "1537/1537 - 2s - loss: 0.9121 - accuracy: 0.8163 - 2s/epoch - 1ms/step\n",
            "[0.9121440649032593, 0.8163232207298279]\n"
          ]
        }
      ]
    },
    {
      "cell_type": "code",
      "source": [
        "# 3가지 모델의 evaluate\n",
        "\n",
        "# RNN \n",
        "# 1537/1537 - 5s - loss: 0.8092 - accuracy: 0.8312 - 5s/epoch - 3ms/step\n",
        "# [0.8091984987258911, 0.8311735987663269]\n",
        "\n",
        "# GlobalMaxPooling1D\n",
        "# 1537/1537 - 2s - loss: 0.7214 - accuracy: 0.8144 - 2s/epoch - 1ms/step\n",
        "# [0.7214144468307495, 0.8143702745437622]\n",
        "\n",
        "# 1-D Convolution Neural Network(1-D CNN)\n",
        "# 1537/1537 - 2s - loss: 0.9121 - accuracy: 0.8163 - 2s/epoch - 1ms/step\n",
        "# [0.9121440649032593, 0.8163232207298279]"
      ],
      "metadata": {
        "id": "Ksl8KtByhNQ4"
      },
      "execution_count": null,
      "outputs": []
    },
    {
      "cell_type": "code",
      "source": [
        "# 7. 학습된 Embedding 레이어 분석\n",
        "# model2을 선택하였다. 왜녀하면 test데이터로 평가하였을때 loss가 가장 낮았기 때문이다.\n",
        "\n",
        "embedding_layer = model2.layers[0]\n",
        "weights = embedding_layer.get_weights()[0]\n",
        "print(weights.shape)    # shape: (vocab_size, embedding_dim)"
      ],
      "metadata": {
        "colab": {
          "base_uri": "https://localhost:8080/"
        },
        "id": "KgzWT2wHhtLi",
        "outputId": "e684f834-ba20-4010-ec71-da01ad0dc716"
      },
      "execution_count": null,
      "outputs": [
        {
          "output_type": "stream",
          "name": "stdout",
          "text": [
            "(10000, 16)\n"
          ]
        }
      ]
    },
    {
      "cell_type": "code",
      "source": [
        "# 학습한 Embedding 파라미터를 파일에 써서 저장합니다.\n",
        "from gensim import models\n",
        "txt_path = '/content/drive/MyDrive/Aiffel/EX/EX8_txt/word2vec.txt'\n",
        "f = open(txt_path, 'w')\n",
        "f.write('{} {}\\n'.format(vocab_size-4, word_vector_dim))\n",
        "# 몇개의 벡터를 얼마 사이즈로 기재할지 타이틀을 씁니다.\n",
        "\n",
        "# 단어 개수(에서 특수문자4개는 제외하고)만킁의 워드 벡터를 파일에 기록\n",
        "vectors = model2.get_weights()[0]\n",
        "for i in range(4, vocab_size):\n",
        "  f.write('{} {}\\n'.format(index_to_word[i], ' '.join(map(str, list(vectors[i, :])))))\n",
        "f.close()"
      ],
      "metadata": {
        "id": "qNkqSHQjnVtv"
      },
      "execution_count": null,
      "outputs": []
    },
    {
      "cell_type": "code",
      "source": [
        "# 워드임베딩\n",
        "from gensim.models.keyedvectors import Word2VecKeyedVectors\n",
        "\n",
        "word_vectors = Word2VecKeyedVectors.load_word2vec_format(txt_path, binary=False)\n",
        "vector = word_vectors['재미']\n",
        "vector"
      ],
      "metadata": {
        "colab": {
          "base_uri": "https://localhost:8080/"
        },
        "id": "08l2MBpDmGT6",
        "outputId": "a2b3bdde-6b26-42b7-8b5a-139ad40e10ef"
      },
      "execution_count": null,
      "outputs": [
        {
          "output_type": "execute_result",
          "data": {
            "text/plain": [
              "array([-0.25146043, -0.2991653 ,  0.04689261, -0.48706517,  0.1196145 ,\n",
              "       -0.65625495, -0.002707  , -0.04685884,  0.00689722, -0.2065191 ,\n",
              "       -0.32505944,  0.02161281, -0.15794821, -0.02883439,  0.01580329,\n",
              "       -0.19486825], dtype=float32)"
            ]
          },
          "metadata": {},
          "execution_count": 43
        }
      ]
    },
    {
      "cell_type": "code",
      "source": [
        "# 유사 단어 추출하기\n",
        "word_vectors.similar_by_word('재미')\n",
        "\n",
        "# 기본적인 word2vec으로 인베딩을하면 의미가 유사한 단어를 가져오지 못한다."
      ],
      "metadata": {
        "colab": {
          "base_uri": "https://localhost:8080/"
        },
        "id": "pLKdBKC-jyw-",
        "outputId": "a20b7d5a-c213-4fda-94f0-aaebfaa79bcb"
      },
      "execution_count": null,
      "outputs": [
        {
          "output_type": "execute_result",
          "data": {
            "text/plain": [
              "[('후반부', 0.8720219731330872),\n",
              " ('승', 0.8656870722770691),\n",
              " ('졸라', 0.8601882457733154),\n",
              " ('네요', 0.8537420630455017),\n",
              " ('아픕니다', 0.8469797372817993),\n",
              " ('의미', 0.8407320976257324),\n",
              " ('산', 0.8336412310600281),\n",
              " ('카', 0.8316056728363037),\n",
              " ('엇다', 0.8283329606056213),\n",
              " ('투명', 0.8222302198410034)]"
            ]
          },
          "metadata": {},
          "execution_count": 44
        }
      ]
    },
    {
      "cell_type": "code",
      "source": [
        "# 한국어 Word2Vec 임베딩 활용하여 성능 개선\n",
        "from gensim.models.keyedvectors import Word2VecKeyedVectors\n",
        "\n",
        "word2vec_path = '/content/drive/MyDrive/Aiffel/EX/EX8_txt/word2vec_ko.model'\n",
        "word2vec = Word2VecKeyedVectors.load(word2vec_path)\n",
        "vector = word2vec.wv['재미']\n",
        "vector"
      ],
      "metadata": {
        "colab": {
          "base_uri": "https://localhost:8080/"
        },
        "id": "1TMjU2PSij6Y",
        "outputId": "1fcc5d41-94ba-4169-cf3d-7666809f53a4"
      },
      "execution_count": null,
      "outputs": [
        {
          "output_type": "execute_result",
          "data": {
            "text/plain": [
              "array([-4.4878754e-01, -1.4467459e+00, -3.2494924e+00,  1.4064935e+00,\n",
              "        1.8947068e-01,  1.5655025e+00,  1.6719986e-01, -2.6990793e+00,\n",
              "       -9.3271405e-01,  1.1511222e+00,  6.6237885e-01,  1.1200095e+00,\n",
              "       -3.0392289e+00, -1.7037337e-01,  7.4968606e-01,  3.4435639e-01,\n",
              "        1.2603461e+00,  7.8684157e-01,  2.3414268e+00, -2.3775148e+00,\n",
              "        5.3153765e-01,  1.6120311e+00,  1.1387516e+00, -1.9011835e+00,\n",
              "       -2.2861602e+00, -5.0139570e-01,  1.1513479e+00,  2.8450629e-01,\n",
              "        1.8101528e+00, -1.1265730e+00, -2.8436053e+00, -7.2911263e-01,\n",
              "       -2.2095640e+00,  1.6367294e+00, -2.8752780e-01, -1.2616376e+00,\n",
              "       -1.2107424e+00,  1.0671520e+00, -2.1216857e+00,  8.9407849e-01,\n",
              "       -7.7485077e-02,  8.0088764e-01, -5.3655195e-01,  4.1223016e+00,\n",
              "        1.1529275e+00,  5.2902931e-01,  1.9589558e+00, -8.7751158e-02,\n",
              "        2.2851648e+00, -2.6211133e+00,  8.6466199e-01,  3.0275664e+00,\n",
              "        9.9701649e-01, -5.9529799e-01, -9.9486661e-01, -1.4266366e+00,\n",
              "        1.0779616e+00, -7.8239524e-01,  1.1690582e+00,  1.6002617e+00,\n",
              "        2.8176999e+00, -6.3052535e-01, -1.5303712e+00, -1.5156096e+00,\n",
              "       -1.1029292e+00,  1.8624852e+00, -4.7174625e-02, -1.5884762e-01,\n",
              "       -1.2140204e+00, -8.9623594e-01,  7.0353955e-01,  8.1553304e-01,\n",
              "       -8.0339634e-01,  1.8032224e+00, -1.6415786e+00, -1.3310703e+00,\n",
              "        3.6141968e-01,  8.8289160e-01,  2.3389950e-01, -2.0857103e+00,\n",
              "        1.0875343e+00,  6.4381367e-01,  1.7470417e+00,  4.8391405e-02,\n",
              "        1.9562998e+00,  1.4519804e-03, -1.0631537e-01, -9.6005017e-01,\n",
              "        3.5479100e+00,  5.8922172e-01, -6.2010121e-01, -2.5276523e+00,\n",
              "        2.3707249e+00, -1.6941985e+00,  3.6329749e-01, -2.2940915e-02,\n",
              "       -2.4332192e+00, -3.1440321e-01,  2.0562346e+00, -3.2010970e-01],\n",
              "      dtype=float32)"
            ]
          },
          "metadata": {},
          "execution_count": 45
        }
      ]
    },
    {
      "cell_type": "code",
      "source": [
        "# 워드 벡터의 차원 수\n",
        "# embedding_matrix에 워드 벡터 카피를 위하여 임베딩의 차원 수를 확인하여야 한다.\n",
        "vector.shape "
      ],
      "metadata": {
        "colab": {
          "base_uri": "https://localhost:8080/"
        },
        "id": "kBWC6YvF6f5n",
        "outputId": "05c93481-d046-4855-aad3-7de90d4b6c4e"
      },
      "execution_count": null,
      "outputs": [
        {
          "output_type": "execute_result",
          "data": {
            "text/plain": [
              "(100,)"
            ]
          },
          "metadata": {},
          "execution_count": 46
        }
      ]
    },
    {
      "cell_type": "code",
      "source": [
        "# 유사 단어 추출하기\n",
        "word2vec.wv.similar_by_word('재미')\n",
        "\n",
        "# 한글 word2vec으로하면 아까보다 좀 더 유사한 단어를 추출할 수 있다."
      ],
      "metadata": {
        "colab": {
          "base_uri": "https://localhost:8080/"
        },
        "id": "H_RWOBkgm2pG",
        "outputId": "1723dbf1-1d12-4017-b418-d3057cefabd8"
      },
      "execution_count": null,
      "outputs": [
        {
          "output_type": "execute_result",
          "data": {
            "text/plain": [
              "[('묘미', 0.6163142919540405),\n",
              " ('취미', 0.6034970283508301),\n",
              " ('흥미', 0.5939850211143494),\n",
              " ('유머', 0.5888698101043701),\n",
              " ('보람', 0.5689517259597778),\n",
              " ('즐거움', 0.5631207823753357),\n",
              " ('개그', 0.5552946329116821),\n",
              " ('이야기', 0.5536993741989136),\n",
              " ('연애', 0.552293598651886),\n",
              " ('열의', 0.546456515789032)]"
            ]
          },
          "metadata": {},
          "execution_count": 47
        }
      ]
    },
    {
      "cell_type": "code",
      "source": [
        "# embedding_matrix에 워드 벡터 카피\n",
        "\n",
        "vocab_size = 10000    # 어휘 사전의 크기입니다(10,000개의 단어)\n",
        "word_vector_dim = 100  # 워드 벡터의 차원수\n",
        "embedding_matrix = np.random.rand(vocab_size, word_vector_dim)\n",
        "\n",
        "# embedding_matrix에 Word2Vec 워드 벡터를 단어 하나씩마다 차례차례 카피한다.\n",
        "for i in range(4,vocab_size):\n",
        "  if index_to_word[i] in word2vec.wv:\n",
        "    embedding_matrix[i] = word2vec.wv[index_to_word[i]]"
      ],
      "metadata": {
        "id": "R2AZlcw64dx6"
      },
      "execution_count": null,
      "outputs": []
    },
    {
      "cell_type": "code",
      "source": [
        "# 모델 구성 - 1 (LSTM)\n",
        "from tensorflow import keras\n",
        "from tensorflow.keras.layers import LSTM, Bidirectional\n",
        "from tensorflow.keras.initializers import Constant\n",
        "\n",
        "model4 = tf.keras.Sequential()\n",
        "model4.add(tf.keras.layers.Embedding(vocab_size, \n",
        "                                 word_vector_dim, \n",
        "                                 embeddings_initializer=Constant(embedding_matrix),  # 카피한 임베딩을 여기서 활용\n",
        "                                 input_length=maxlen, \n",
        "                                 trainable=True))   # trainable을 True로 주면 Fine-tuning\n",
        "model4.add(keras.layers.LSTM(64)) \n",
        "model4.add(tf.keras.layers.Dense(8, activation='relu'))\n",
        "model4.add(keras.layers.Dense(1, activation='sigmoid'))\n",
        "\n",
        "model4.summary()"
      ],
      "metadata": {
        "colab": {
          "base_uri": "https://localhost:8080/"
        },
        "id": "juoVduqs5M_m",
        "outputId": "078ae9fa-5665-4808-f23a-6d757331018e"
      },
      "execution_count": null,
      "outputs": [
        {
          "output_type": "stream",
          "name": "stdout",
          "text": [
            "Model: \"sequential_4\"\n",
            "_________________________________________________________________\n",
            " Layer (type)                Output Shape              Param #   \n",
            "=================================================================\n",
            " embedding_4 (Embedding)     (None, 41, 100)           1000000   \n",
            "                                                                 \n",
            " lstm_2 (LSTM)               (None, 64)                42240     \n",
            "                                                                 \n",
            " dense_7 (Dense)             (None, 8)                 520       \n",
            "                                                                 \n",
            " dense_8 (Dense)             (None, 1)                 9         \n",
            "                                                                 \n",
            "=================================================================\n",
            "Total params: 1,042,769\n",
            "Trainable params: 1,042,769\n",
            "Non-trainable params: 0\n",
            "_________________________________________________________________\n"
          ]
        }
      ]
    },
    {
      "cell_type": "code",
      "source": [
        "# 학습 진행하기\n",
        "\n",
        "model4.compile(optimizer='adam',\n",
        "              loss='binary_crossentropy',\n",
        "              metrics=['accuracy'])\n",
        "              \n",
        "epochs=15  \n",
        "\n",
        "history4 = model4.fit(partial_x_train,\n",
        "                    partial_y_train,\n",
        "                    epochs=epochs,\n",
        "                    batch_size=512,\n",
        "                    validation_data=(x_val, y_val),\n",
        "                    verbose=1)"
      ],
      "metadata": {
        "id": "IE_B3WuDOOyf",
        "colab": {
          "base_uri": "https://localhost:8080/"
        },
        "outputId": "4339e3e9-817f-4463-cd08-c591e2997e61"
      },
      "execution_count": null,
      "outputs": [
        {
          "output_type": "stream",
          "name": "stdout",
          "text": [
            "Epoch 1/15\n",
            "266/266 [==============================] - 37s 129ms/step - loss: 0.4851 - accuracy: 0.7613 - val_loss: 0.3936 - val_accuracy: 0.8217\n",
            "Epoch 2/15\n",
            "266/266 [==============================] - 34s 127ms/step - loss: 0.3610 - accuracy: 0.8418 - val_loss: 0.3545 - val_accuracy: 0.8411\n",
            "Epoch 3/15\n",
            "266/266 [==============================] - 34s 127ms/step - loss: 0.3164 - accuracy: 0.8641 - val_loss: 0.3266 - val_accuracy: 0.8555\n",
            "Epoch 4/15\n",
            "266/266 [==============================] - 34s 128ms/step - loss: 0.2881 - accuracy: 0.8792 - val_loss: 0.3212 - val_accuracy: 0.8596\n",
            "Epoch 5/15\n",
            "266/266 [==============================] - 33s 126ms/step - loss: 0.2680 - accuracy: 0.8891 - val_loss: 0.3206 - val_accuracy: 0.8628\n",
            "Epoch 6/15\n",
            "266/266 [==============================] - 33s 126ms/step - loss: 0.2509 - accuracy: 0.8970 - val_loss: 0.3221 - val_accuracy: 0.8602\n",
            "Epoch 7/15\n",
            "266/266 [==============================] - 34s 128ms/step - loss: 0.2365 - accuracy: 0.9044 - val_loss: 0.3269 - val_accuracy: 0.8659\n",
            "Epoch 8/15\n",
            "266/266 [==============================] - 34s 127ms/step - loss: 0.2207 - accuracy: 0.9112 - val_loss: 0.3338 - val_accuracy: 0.8618\n",
            "Epoch 9/15\n",
            "266/266 [==============================] - 35s 130ms/step - loss: 0.2054 - accuracy: 0.9184 - val_loss: 0.3497 - val_accuracy: 0.8613\n",
            "Epoch 10/15\n",
            "266/266 [==============================] - 35s 132ms/step - loss: 0.1919 - accuracy: 0.9248 - val_loss: 0.3680 - val_accuracy: 0.8586\n",
            "Epoch 11/15\n",
            "266/266 [==============================] - 34s 129ms/step - loss: 0.1780 - accuracy: 0.9312 - val_loss: 0.3717 - val_accuracy: 0.8610\n",
            "Epoch 12/15\n",
            "266/266 [==============================] - 34s 129ms/step - loss: 0.1636 - accuracy: 0.9382 - val_loss: 0.3966 - val_accuracy: 0.8575\n",
            "Epoch 13/15\n",
            "266/266 [==============================] - 35s 130ms/step - loss: 0.1512 - accuracy: 0.9436 - val_loss: 0.4242 - val_accuracy: 0.8535\n",
            "Epoch 14/15\n",
            "266/266 [==============================] - 34s 129ms/step - loss: 0.1381 - accuracy: 0.9491 - val_loss: 0.4329 - val_accuracy: 0.8535\n",
            "Epoch 15/15\n",
            "266/266 [==============================] - 35s 130ms/step - loss: 0.1260 - accuracy: 0.9543 - val_loss: 0.4565 - val_accuracy: 0.8541\n"
          ]
        }
      ]
    },
    {
      "cell_type": "code",
      "source": [
        "history_dict4 = history4.history\n",
        "print(history_dict4.keys()) # epoch에 따른 그래프를 그려볼 수 있는 항목들"
      ],
      "metadata": {
        "colab": {
          "base_uri": "https://localhost:8080/"
        },
        "id": "BMLVJsweBj80",
        "outputId": "23f9abf9-9ea4-4dac-f791-3c976bb7b1f6"
      },
      "execution_count": null,
      "outputs": [
        {
          "output_type": "stream",
          "name": "stdout",
          "text": [
            "dict_keys(['loss', 'accuracy', 'val_loss', 'val_accuracy'])\n"
          ]
        }
      ]
    },
    {
      "cell_type": "code",
      "source": [
        "import matplotlib.pyplot as plt\n",
        "\n",
        "acc = history_dict4['accuracy']\n",
        "val_acc = history_dict4['val_accuracy']\n",
        "loss = history_dict4['loss']\n",
        "val_loss = history_dict4['val_loss']\n",
        "\n",
        "epochs = range(1, len(acc) + 1)\n",
        "\n",
        "# \"ro\"는 \"빨간색 점\"입니다\n",
        "plt.plot(epochs, loss, 'ro', label='Training loss')\n",
        "# r는 \"빨간 실선\"입니다\n",
        "plt.plot(epochs, val_loss, 'r', label='Validation loss')\n",
        "plt.title('Training and validation loss')\n",
        "plt.xlabel('Epochs')\n",
        "plt.ylabel('Loss')\n",
        "plt.legend()\n",
        "\n",
        "plt.show()"
      ],
      "metadata": {
        "colab": {
          "base_uri": "https://localhost:8080/",
          "height": 573
        },
        "id": "dXUYnq9k7cuK",
        "outputId": "abead651-f505-48d2-a5b9-9cc6501f51a7"
      },
      "execution_count": null,
      "outputs": [
        {
          "output_type": "display_data",
          "data": {
            "text/plain": [
              "<Figure size 432x288 with 1 Axes>"
            ],
            "image/png": "[encoded data removed]"
          },
          "metadata": {
            "needs_background": "light"
          }
        },
        {
          "output_type": "display_data",
          "data": {
            "text/plain": [
              "<Figure size 432x288 with 1 Axes>"
            ],
            "image/png": "[encoded data removed]"
          },
          "metadata": {
            "needs_background": "light"
          }
        }
      ]
    },
    {
      "cell_type": "code",
      "source": [
        "plt.clf()   # 그림을 초기화합니다\n",
        "# \"bo\"는 \"파란색 점\"입니다\n",
        "plt.plot(epochs, acc, 'bo', label='Training acc')\n",
        "# b는 \"파란 실선\"입니다\n",
        "plt.plot(epochs, val_acc, 'b', label='Validation acc')\n",
        "plt.title('Training and validation accuracy')\n",
        "plt.xlabel('Epochs')\n",
        "plt.ylabel('Accuracy')\n",
        "plt.legend()\n",
        "\n",
        "plt.show()"
      ],
      "metadata": {
        "colab": {
          "base_uri": "https://localhost:8080/",
          "height": 295
        },
        "id": "3apivIkUZPv-",
        "outputId": "edc676a5-9ca8-462d-ad88-0998c3c9f4be"
      },
      "execution_count": null,
      "outputs": [
        {
          "output_type": "display_data",
          "data": {
            "text/plain": [
              "<Figure size 432x288 with 1 Axes>"
            ],
            "image/png": "[encoded data removed]"
          },
          "metadata": {
            "needs_background": "light"
          }
        }
      ]
    },
    {
      "cell_type": "code",
      "source": [
        "# # 테스트셋을 통한 모델 평가\n",
        "results4 = model4.evaluate(X_test, y_test, verbose=2)\n",
        "print(results4)\n",
        "\n",
        "# 학습 데이터의 정확도는 지속적으로 상승했으나 검증용 데이터의 학습률은 미세하게 낮아지고있다.\n",
        "# loss 그래프에서 에포크 6에서부터 Validation loss가 증가하는 것을 볼 수 있다. 이 부분부터 모델이 과적합을 일으킨다.\n",
        "# 앞서 3가지 모델보다 loss, accuracy측면에서 모두 개선된 부분을 볼 수 있다.\n",
        "# accuracy가 0.85 이상을 넘었지만 다시 돌렸을때는 나오지않았다.\n",
        "# 한국어 embedding이 실효성이 있다고 생각한다."
      ],
      "metadata": {
        "colab": {
          "base_uri": "https://localhost:8080/"
        },
        "id": "cTY0TcDE7A9O",
        "outputId": "c1a078b0-b969-43e8-d6ca-b151cede766e"
      },
      "execution_count": null,
      "outputs": [
        {
          "output_type": "stream",
          "name": "stdout",
          "text": [
            "1537/1537 - 19s - loss: 0.4673 - accuracy: 0.8494 - 19s/epoch - 12ms/step\n",
            "[0.46733707189559937, 0.8494415879249573]\n"
          ]
        }
      ]
    },
    {
      "cell_type": "code",
      "source": [
        "# 모델 구성 - 2 (Bi - LSTM)\n",
        "from tensorflow.keras.layers import LSTM, Bidirectional\n",
        "from tensorflow.keras.initializers import Constant\n",
        "\n",
        "vocab_size = 10000    # 어휘 사전의 크기입니다(10,000개의 단어)\n",
        "word_vector_dim = 100  # 워드 벡터의 차원 수 \n",
        "\n",
        "model5 = tf.keras.Sequential()\n",
        "model5.add(tf.keras.layers.Embedding(vocab_size, \n",
        "                                 word_vector_dim, \n",
        "                                 embeddings_initializer=Constant(embedding_matrix),  # 카피한 임베딩을 여기서 활용\n",
        "                                 input_length=maxlen, \n",
        "                                 trainable=True))   # trainable을 True로 주면 Fine-tuning\n",
        "model5.add(keras.layers.Bidirectional(LSTM(64)))\n",
        "model5.add(keras.layers.Dense(1, activation='sigmoid'))\n",
        "\n",
        "model5.summary()"
      ],
      "metadata": {
        "colab": {
          "base_uri": "https://localhost:8080/"
        },
        "id": "w58e2STE6mcx",
        "outputId": "437c1d45-1bfb-481d-c4a6-0269d60be0fe"
      },
      "execution_count": null,
      "outputs": [
        {
          "output_type": "stream",
          "name": "stdout",
          "text": [
            "Model: \"sequential_5\"\n",
            "_________________________________________________________________\n",
            " Layer (type)                Output Shape              Param #   \n",
            "=================================================================\n",
            " embedding_5 (Embedding)     (None, 41, 100)           1000000   \n",
            "                                                                 \n",
            " bidirectional (Bidirectiona  (None, 128)              84480     \n",
            " l)                                                              \n",
            "                                                                 \n",
            " dense_9 (Dense)             (None, 1)                 129       \n",
            "                                                                 \n",
            "=================================================================\n",
            "Total params: 1,084,609\n",
            "Trainable params: 1,084,609\n",
            "Non-trainable params: 0\n",
            "_________________________________________________________________\n"
          ]
        }
      ]
    },
    {
      "cell_type": "code",
      "source": [
        "# 학습 진행하기\n",
        "\n",
        "model5.compile(optimizer='adam',\n",
        "              loss='binary_crossentropy',\n",
        "              metrics=['accuracy'])\n",
        "              \n",
        "epochs=10  \n",
        "# 앞선 모델들이 낮은 에포크에서 이미 validation loss가 증가하는 현상을 보여 에포크를 10으로 낮춰서 학습해보기로 결정하였다.\n",
        "\n",
        "history5 = model5.fit(partial_x_train,\n",
        "                    partial_y_train,\n",
        "                    epochs=epochs,\n",
        "                    batch_size=512,\n",
        "                    validation_data=(x_val, y_val),\n",
        "                    verbose=1)"
      ],
      "metadata": {
        "colab": {
          "base_uri": "https://localhost:8080/"
        },
        "id": "l0S52_mm6xex",
        "outputId": "e9605f2d-6711-4081-9b20-caaaa8acd676"
      },
      "execution_count": null,
      "outputs": [
        {
          "output_type": "stream",
          "name": "stdout",
          "text": [
            "Epoch 1/10\n",
            "266/266 [==============================] - 60s 210ms/step - loss: 0.4786 - accuracy: 0.7659 - val_loss: 0.3888 - val_accuracy: 0.8242\n",
            "Epoch 2/10\n",
            "266/266 [==============================] - 55s 207ms/step - loss: 0.3553 - accuracy: 0.8446 - val_loss: 0.3446 - val_accuracy: 0.8472\n",
            "Epoch 3/10\n",
            "266/266 [==============================] - 53s 200ms/step - loss: 0.3116 - accuracy: 0.8664 - val_loss: 0.3284 - val_accuracy: 0.8541\n",
            "Epoch 4/10\n",
            "266/266 [==============================] - 53s 200ms/step - loss: 0.2841 - accuracy: 0.8805 - val_loss: 0.3370 - val_accuracy: 0.8534\n",
            "Epoch 5/10\n",
            "266/266 [==============================] - 53s 199ms/step - loss: 0.2641 - accuracy: 0.8900 - val_loss: 0.3323 - val_accuracy: 0.8578\n",
            "Epoch 6/10\n",
            "266/266 [==============================] - 53s 199ms/step - loss: 0.2451 - accuracy: 0.8994 - val_loss: 0.3222 - val_accuracy: 0.8637\n",
            "Epoch 7/10\n",
            "266/266 [==============================] - 53s 198ms/step - loss: 0.2285 - accuracy: 0.9077 - val_loss: 0.3254 - val_accuracy: 0.8646\n",
            "Epoch 8/10\n",
            "266/266 [==============================] - 53s 198ms/step - loss: 0.2122 - accuracy: 0.9158 - val_loss: 0.3363 - val_accuracy: 0.8587\n",
            "Epoch 9/10\n",
            "266/266 [==============================] - 52s 197ms/step - loss: 0.1967 - accuracy: 0.9219 - val_loss: 0.3522 - val_accuracy: 0.8648\n",
            "Epoch 10/10\n",
            "266/266 [==============================] - 53s 200ms/step - loss: 0.1844 - accuracy: 0.9280 - val_loss: 0.3479 - val_accuracy: 0.8613\n"
          ]
        }
      ]
    },
    {
      "cell_type": "code",
      "source": [
        "history_dict5 = history5.history\n",
        "print(history_dict5.keys()) # epoch에 따른 그래프를 그려볼 수 있는 항목들"
      ],
      "metadata": {
        "colab": {
          "base_uri": "https://localhost:8080/"
        },
        "outputId": "6d6680eb-b295-4a57-ea59-2b2765fc7721",
        "id": "xX_-hF0T8aag"
      },
      "execution_count": null,
      "outputs": [
        {
          "output_type": "stream",
          "name": "stdout",
          "text": [
            "dict_keys(['loss', 'accuracy', 'val_loss', 'val_accuracy'])\n"
          ]
        }
      ]
    },
    {
      "cell_type": "code",
      "source": [
        "import matplotlib.pyplot as plt\n",
        "\n",
        "acc = history_dict5['accuracy']\n",
        "val_acc = history_dict5['val_accuracy']\n",
        "loss = history_dict5['loss']\n",
        "val_loss = history_dict5['val_loss']\n",
        "\n",
        "epochs = range(1, len(acc) + 1)\n",
        "\n",
        "# \"ro\"는 \"빨간색 점\"입니다\n",
        "plt.plot(epochs, loss, 'ro', label='Training loss')\n",
        "# r는 \"빨간 실선\"입니다\n",
        "plt.plot(epochs, val_loss, 'r', label='Validation loss')\n",
        "plt.title('Training and validation loss')\n",
        "plt.xlabel('Epochs')\n",
        "plt.ylabel('Loss')\n",
        "plt.legend()\n",
        "\n",
        "plt.show()"
      ],
      "metadata": {
        "colab": {
          "base_uri": "https://localhost:8080/",
          "height": 295
        },
        "outputId": "d837eb0b-7074-48e1-c4c2-0c6e3cb3af27",
        "id": "V95PDuCc8aav"
      },
      "execution_count": null,
      "outputs": [
        {
          "output_type": "display_data",
          "data": {
            "text/plain": [
              "<Figure size 432x288 with 1 Axes>"
            ],
            "image/png": "[encoded data removed]"
          },
          "metadata": {
            "needs_background": "light"
          }
        }
      ]
    },
    {
      "cell_type": "code",
      "source": [
        "plt.clf()   # 그림을 초기화합니다\n",
        "# \"bo\"는 \"파란색 점\"입니다\n",
        "plt.plot(epochs, acc, 'bo', label='Training acc')\n",
        "# b는 \"파란 실선\"입니다\n",
        "plt.plot(epochs, val_acc, 'b', label='Validation acc')\n",
        "plt.title('Training and validation accuracy')\n",
        "plt.xlabel('Epochs')\n",
        "plt.ylabel('Accuracy')\n",
        "plt.legend()\n",
        "\n",
        "plt.show()"
      ],
      "metadata": {
        "colab": {
          "base_uri": "https://localhost:8080/",
          "height": 295
        },
        "id": "jQS7IVH_ZieK",
        "outputId": "2c9913db-8853-4b31-bbc8-200b1e8cb12e"
      },
      "execution_count": null,
      "outputs": [
        {
          "output_type": "display_data",
          "data": {
            "text/plain": [
              "<Figure size 432x288 with 1 Axes>"
            ],
            "image/png": "[encoded data removed]"
          },
          "metadata": {
            "needs_background": "light"
          }
        }
      ]
    },
    {
      "cell_type": "code",
      "source": [
        "results5 = model5.evaluate(X_test, y_test, verbose=2)\n",
        "print(results5)\n",
        "\n",
        "# 학습 데이터는 꾸준하게 정확도가 상승하였고, 검증용 데이터의 정확도는 변동이 있으나 증가 추세이다. 더 많은 에포크를 돌려봐야 알 것 같다.\n",
        "# 다른 모형의 학습 결과와 달리 하락하는 부분이 3번 존재하였다. 다른 모델들 보다 과적합 위험이 적은 것으로 보인다.\n",
        "# 앞서 LSTM 모델보다 loss, accuracy측면에서 모두 개선된 부분을 볼 수 있다.\n",
        "# accuracy가 0.85 이상나오게되었다.\n",
        "# 한국어 embedding이 실효성이 있다고 생각한다."
      ],
      "metadata": {
        "colab": {
          "base_uri": "https://localhost:8080/"
        },
        "id": "zseKi6J8P4CI",
        "outputId": "3b2662f1-a34f-48bc-846e-948cf28ad6ad"
      },
      "execution_count": null,
      "outputs": [
        {
          "output_type": "stream",
          "name": "stdout",
          "text": [
            "1537/1537 - 25s - loss: 0.3658 - accuracy: 0.8565 - 25s/epoch - 16ms/step\n",
            "[0.3658424913883209, 0.85645991563797]\n"
          ]
        }
      ]
    },
    {
      "cell_type": "markdown",
      "source": [
        "# 회고"
      ],
      "metadata": {
        "id": "lX7qGW4XKysW"
      }
    },
    {
      "cell_type": "markdown",
      "source": [
        "1. 이번 프로젝트에서 어려웠던 점\n",
        " \n",
        " (1) embedding에서 알 수 없는 key error가 지속적으로 발생하였습니다. 원인을 찾기위해 index_to_word를 출력하여 확인했습니다. key가 6번 시작하는 비정상적인 형태를 보였습니다. 이를 해결하기위해 load_data 함수를 보던 중 word_to_index를 구성하는 부분에서 빈 칸이 있음을 확인했고 LMS에서 입력했던 'PAD', 'BOS', 'UNK', 'UNUSED'을 입력하여 문제를 해결했습니다.\n",
        "\n",
        "  (2) 한국어 Word2vec을 사용하여 좀 더 성능을 낼 수 있었지만 정확도 85%는 쉽지않았습니다.\n",
        " "
      ],
      "metadata": {
        "id": "ojmxzLRyK1cS"
      }
    },
    {
      "cell_type": "markdown",
      "source": [
        "2. 프로젝트를 진행하면서 알게된 부분 또는 아직 이해하지 못한 부분\n",
        "\n",
        "(1) 원하는 버젼의 라이브러리를 영구적으로 설치할 수 없을까?\n",
        "\n",
        "- 항상 aiffel의 LMS와 버젼을 최대한 맞추어 진행하려 하다보니 매번 라이브러리를 설치하고는 하였습니다. colab에 영구적으로 설치가 가능한 방법을 알게되어 이번 프로젝트에서 gensim은 재설치없이 사용할 수 있게 되었습니다.\n",
        "\n",
        "- konlpy와 Mecab은 시도해봤으나 잘 되지않았고 향후 해결하기위해 노력해야겠습니다.\n",
        "\n",
        "(2) LSTM말고 다른 모델도 활용해보자\n",
        "- LMS에서 RNN을 양방향으로 사용하는 경우도 있다고하여 Bidirectional LSTM을 사용하여 분석에 사용해봤습니다.\n",
        "\n",
        "(3) 모델의 과적합 기준\n",
        "- 항상 이 부분을 구체적으로 이해하지못했지만 이번 기회에 다시 공부하여 그래프 해석에 의견을 달아보았습니다.\n",
        "\n",
        "\n"
      ],
      "metadata": {
        "id": "cMgNvnfQLhyy"
      }
    },
    {
      "cell_type": "markdown",
      "source": [
        "참조\n",
        "\n",
        "(1) [RNN 양방향 적용](https://lms.aiffel.io/course/244/node/548/step/3905/readonly)\n",
        "\n",
        "(2) [과적합, 과소적합](https://untitledtblog.tistory.com/158)\n",
        "\n",
        "(3) [파이썬 텍스트 마이닝 완벽 가이드](http://www.kyobobook.co.kr/product/detailViewKor.laf?ejkGb=KOR&mallGb=KOR&barcode=9791158393007&orderClick=LEa&Kc=) (저자 : 박상언, 강주영, 정석찬 / 참고한 내용 : Bi-LSTM 이론 및 코드 / 참고한 페이지 : 233~234p)\n",
        "\n",
        "(4) [colab 라이브러리 설치](https://teddylee777.github.io/colab/colab%EC%97%90%EC%84%9C-python%ED%8C%A8%ED%82%A4%EC%A7%80%EB%A5%BC-permanently-%EC%9D%B8%EC%8A%A4%ED%86%A8%ED%95%98%EB%8A%94-%EB%B0%A9%EB%B2%95)\n",
        "\n",
        "\n",
        "\n"
      ],
      "metadata": {
        "id": "xWtviva-f2gG"
      }
    }
  ]
}