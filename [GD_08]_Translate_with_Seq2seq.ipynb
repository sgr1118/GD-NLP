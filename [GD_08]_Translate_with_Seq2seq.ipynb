{
  "nbformat": 4,
  "nbformat_minor": 0,
  "metadata": {
    "colab": {
      "provenance": [],
      "collapsed_sections": [],
      "machine_shape": "hm",
      "authorship_tag": "ABX9TyO2VxrLA0ehG1yuOECXdUM6",
      "include_colab_link": true
    },
    "kernelspec": {
      "name": "python3",
      "display_name": "Python 3"
    },
    "language_info": {
      "name": "python"
    },
    "accelerator": "GPU"
  },
  "cells": [
    {
      "cell_type": "markdown",
      "metadata": {
        "id": "view-in-github",
        "colab_type": "text"
      },
      "source": [
        "<a href=\"https://colab.research.google.com/github/sgr1118/GD-NLP/blob/main/%5BGD_08%5D_Translate_with_Seq2seq.ipynb\" target=\"_parent\"><img src=\"https://colab.research.google.com/assets/colab-badge.svg\" alt=\"Open In Colab\"/></a>"
      ]
    },
    {
      "cell_type": "markdown",
      "source": [
        "# 8-7. 프로젝트: 한영 번역기 만들기"
      ],
      "metadata": {
        "id": "INNQzoYS8d3t"
      }
    },
    {
      "cell_type": "markdown",
      "source": [
        "# Step 1. 데이터 다운로드\n",
        "\n",
        "아래 링크에서 korean-english-park.train.tar.gz 를 다운로드받아 한영 병렬 데이터를 확보합니다.\n",
        "\n",
        "[jungyeul/korean-parallel-corpora](https://github.com/jungyeul/korean-parallel-corpora/tree/master/korean-english-news-v1)"
      ],
      "metadata": {
        "id": "7Fh3DFEN8gjx"
      }
    },
    {
      "cell_type": "code",
      "source": [
        "from google.colab import drive\n",
        "drive.mount('/content/drive')"
      ],
      "metadata": {
        "colab": {
          "base_uri": "https://localhost:8080/"
        },
        "id": "phMv0uMk-Vbh",
        "outputId": "589f611c-c3fa-4e5c-e513-4213e956cd07"
      },
      "execution_count": null,
      "outputs": [
        {
          "output_type": "stream",
          "name": "stdout",
          "text": [
            "Mounted at /content/drive\n"
          ]
        }
      ]
    },
    {
      "cell_type": "code",
      "source": [
        "# 사전 준비 - 한글 폰트 설치하기\n",
        "# 설치 후 런타임 다시 시작 필수\n",
        "\n",
        "!sudo apt-get install -y fonts-nanum\n",
        "!sudo fc-cache -fv\n",
        "!rm ~/.cache/matplotlib -rf"
      ],
      "metadata": {
        "colab": {
          "base_uri": "https://localhost:8080/"
        },
        "id": "jf-fKxS8KRO2",
        "outputId": "6bb4918a-1449-4d5a-f84f-4cb15f2cf6c6"
      },
      "execution_count": null,
      "outputs": [
        {
          "output_type": "stream",
          "name": "stdout",
          "text": [
            "Reading package lists... Done\n",
            "Building dependency tree       \n",
            "Reading state information... Done\n",
            "The following package was automatically installed and is no longer required:\n",
            "  libnvidia-common-460\n",
            "Use 'sudo apt autoremove' to remove it.\n",
            "The following NEW packages will be installed:\n",
            "  fonts-nanum\n",
            "0 upgraded, 1 newly installed, 0 to remove and 12 not upgraded.\n",
            "Need to get 9,604 kB of archives.\n",
            "After this operation, 29.5 MB of additional disk space will be used.\n",
            "Get:1 http://archive.ubuntu.com/ubuntu bionic/universe amd64 fonts-nanum all 20170925-1 [9,604 kB]\n",
            "Fetched 9,604 kB in 2s (3,948 kB/s)\n",
            "debconf: unable to initialize frontend: Dialog\n",
            "debconf: (No usable dialog-like program is installed, so the dialog based frontend cannot be used. at /usr/share/perl5/Debconf/FrontEnd/Dialog.pm line 76, <> line 1.)\n",
            "debconf: falling back to frontend: Readline\n",
            "debconf: unable to initialize frontend: Readline\n",
            "debconf: (This frontend requires a controlling tty.)\n",
            "debconf: falling back to frontend: Teletype\n",
            "dpkg-preconfigure: unable to re-open stdin: \n",
            "Selecting previously unselected package fonts-nanum.\n",
            "(Reading database ... 123934 files and directories currently installed.)\n",
            "Preparing to unpack .../fonts-nanum_20170925-1_all.deb ...\n",
            "Unpacking fonts-nanum (20170925-1) ...\n",
            "Setting up fonts-nanum (20170925-1) ...\n",
            "Processing triggers for fontconfig (2.12.6-0ubuntu2) ...\n",
            "/usr/share/fonts: caching, new cache contents: 0 fonts, 1 dirs\n",
            "/usr/share/fonts/truetype: caching, new cache contents: 0 fonts, 3 dirs\n",
            "/usr/share/fonts/truetype/humor-sans: caching, new cache contents: 1 fonts, 0 dirs\n",
            "/usr/share/fonts/truetype/liberation: caching, new cache contents: 16 fonts, 0 dirs\n",
            "/usr/share/fonts/truetype/nanum: caching, new cache contents: 10 fonts, 0 dirs\n",
            "/usr/local/share/fonts: caching, new cache contents: 0 fonts, 0 dirs\n",
            "/root/.local/share/fonts: skipping, no such directory\n",
            "/root/.fonts: skipping, no such directory\n",
            "/var/cache/fontconfig: cleaning cache directory\n",
            "/root/.cache/fontconfig: not cleaning non-existent cache directory\n",
            "/root/.fontconfig: not cleaning non-existent cache directory\n",
            "fc-cache: succeeded\n"
          ]
        }
      ]
    },
    {
      "cell_type": "code",
      "source": [
        "# 필요한 라이브러리 불러오기\n",
        "\n",
        "import tensorflow as tf\n",
        "import numpy as np\n",
        "import pandas as pd\n",
        "from bs4 import BeautifulSoup \n",
        "from sklearn.model_selection import train_test_split\n",
        "\n",
        "import matplotlib.ticker as ticker\n",
        "import matplotlib.pyplot as plt\n",
        "\n",
        "import time\n",
        "import re\n",
        "import os\n",
        "import io"
      ],
      "metadata": {
        "id": "DgMNY2IxyBYC"
      },
      "execution_count": null,
      "outputs": []
    },
    {
      "cell_type": "code",
      "source": [
        "# 경로 지정\n",
        "%cd /content/drive/MyDrive/Aiffel/GD_project/GD8_file\n",
        "\n",
        "# 데이터 다운로드\n",
        "!wget https://github.com/jungyeul/korean-parallel-corpora/raw/master/korean-english-news-v1/korean-english-park.train.tar.gz\n",
        "\n",
        "# 데이터 압축 해제\n",
        "!tar -xzvf korean-english-park.train.tar.gz"
      ],
      "metadata": {
        "colab": {
          "base_uri": "https://localhost:8080/"
        },
        "id": "I5fhd_bDys7o",
        "outputId": "3045e4d0-2ba2-45ef-8729-81f5e41a165f"
      },
      "execution_count": null,
      "outputs": [
        {
          "output_type": "stream",
          "name": "stdout",
          "text": [
            "/content/drive/MyDrive/Aiffel/GD_project/GD8_file\n",
            "--2022-10-09 09:51:28--  https://github.com/jungyeul/korean-parallel-corpora/raw/master/korean-english-news-v1/korean-english-park.train.tar.gz\n",
            "Resolving github.com (github.com)... 20.205.243.166\n",
            "Connecting to github.com (github.com)|20.205.243.166|:443... connected.\n",
            "HTTP request sent, awaiting response... 302 Found\n",
            "Location: https://raw.githubusercontent.com/jungyeul/korean-parallel-corpora/master/korean-english-news-v1/korean-english-park.train.tar.gz [following]\n",
            "--2022-10-09 09:51:29--  https://raw.githubusercontent.com/jungyeul/korean-parallel-corpora/master/korean-english-news-v1/korean-english-park.train.tar.gz\n",
            "Resolving raw.githubusercontent.com (raw.githubusercontent.com)... 185.199.108.133, 185.199.109.133, 185.199.110.133, ...\n",
            "Connecting to raw.githubusercontent.com (raw.githubusercontent.com)|185.199.108.133|:443... connected.\n",
            "HTTP request sent, awaiting response... 200 OK\n",
            "Length: 8718893 (8.3M) [application/octet-stream]\n",
            "Saving to: ‘korean-english-park.train.tar.gz.1’\n",
            "\n",
            "korean-english-park 100%[===================>]   8.31M  --.-KB/s    in 0.1s    \n",
            "\n",
            "2022-10-09 09:51:32 (76.6 MB/s) - ‘korean-english-park.train.tar.gz.1’ saved [8718893/8718893]\n",
            "\n",
            "korean-english-park.train.en\n",
            "korean-english-park.train.ko\n"
          ]
        }
      ]
    },
    {
      "cell_type": "code",
      "source": [
        "!curl -s https://raw.githubusercontent.com/teddylee777/machine-learning/master/99-Misc/01-Colab/mecab-colab.sh | bash"
      ],
      "metadata": {
        "id": "vbauYAGcbEsu"
      },
      "execution_count": null,
      "outputs": []
    },
    {
      "cell_type": "code",
      "source": [
        "# 데이터 불러오기\n",
        "kor_path = '/content/drive/MyDrive/Aiffel/GD_project/GD8_file/korean-english-park.train.ko'\n",
        "eng_path = '/content/drive/MyDrive/Aiffel/GD_project/GD8_file/korean-english-park.train.en'\n",
        "\n",
        "def load_file(file_path):\n",
        "  with open(file_path, 'r') as f:\n",
        "    raw = f.read().splitlines()\n",
        "\n",
        "  print('Data size:', len(raw))\n",
        "  print('Example:')\n",
        "\n",
        "  for sen in raw[0:100][::20]:print('>>', sen)\n",
        "  \n",
        "  return raw"
      ],
      "metadata": {
        "id": "YoINLNbRJmRc"
      },
      "execution_count": null,
      "outputs": []
    },
    {
      "cell_type": "code",
      "source": [
        "# kor, eng 지정후 데이터 출력\n",
        "\n",
        "kor = load_file(kor_path)\n",
        "eng = load_file(eng_path)\n",
        "print(type(kor_path), type(eng_path))\n",
        "\n",
        "# kor data_size, eng data_size는 94123개이다.\n",
        "# type은 class 'str'이다."
      ],
      "metadata": {
        "colab": {
          "base_uri": "https://localhost:8080/"
        },
        "id": "ZvgsQuapUym2",
        "outputId": "945fe235-875d-497b-e253-d82ed0107462"
      },
      "execution_count": null,
      "outputs": [
        {
          "output_type": "stream",
          "name": "stdout",
          "text": [
            "Data size: 94123\n",
            "Example:\n",
            ">> 개인용 컴퓨터 사용의 상당 부분은 \"이것보다 뛰어날 수 있느냐?\"\n",
            ">> 북한의 핵무기 계획을 포기하도록 하려는 압력이 거세지고 있는 가운데, 일본과 북한의 외교관들이 외교 관계를 정상화하려는 회담을 재개했다.\n",
            ">> \"경호 로보트가 침입자나 화재를 탐지하기 위해서 개인적으로, 그리고 전문적으로 사용되고 있습니다.\"\n",
            ">> 수자원부 당국은 논란이 되고 있고, 막대한 비용이 드는 이 사업에 대해 내년에 건설을 시작할 계획이다.\n",
            ">> 또한 근력 운동은 활발하게 걷는 것이나 최소한 20분 동안 뛰는 것과 같은 유산소 활동에서 얻는 운동 효과를 심장과 폐에 주지 않기 때문에, 연구학자들은 근력 운동이 심장에 큰 영향을 미치는지 여부에 대해 논쟁을 해왔다.\n",
            "Data size: 94123\n",
            "Example:\n",
            ">> Much of personal computing is about \"can you top this?\"\n",
            ">> Amid mounting pressure on North Korea to abandon its nuclear weapons program Japanese and North Korean diplomats have resumed talks on normalizing diplomatic relations.\n",
            ">> “Guard robots are used privately and professionally to detect intruders or fire,” Karlsson said.\n",
            ">> Authorities from the Water Resources Ministry plan to begin construction next year on the controversial and hugely expensive project.\n",
            ">> Researchers also have debated whether weight-training has a big impact on the heart, since it does not give the heart and lungs the kind of workout they get from aerobic activities such as brisk walking or running for at least 20 minutes.\n",
            "<class 'str'> <class 'str'>\n"
          ]
        }
      ]
    },
    {
      "cell_type": "markdown",
      "source": [
        "# Step 2. 데이터 정제\n",
        "\n",
        "1. set 데이터형이 중복을 허용하지 않는다는 것을 활용해 중복된 데이터를 제거하도록 합니다. 데이터의 병렬 쌍이 흐트러지지 않게 주의하세요! 중복을 제거한 데이터를 cleaned_corpus 에 저장합니다.\n",
        "- 2가지 데이터 셋을 하나로 만들어서 중복을 제거하고 cleaned_corpus에 저장하자\n",
        "\n",
        "2. 앞서 정의한 preprocessing() 함수는 한글에서는 동작하지 않습니다. 한글에 적용할 수 있는 정규식을 추가하여 함수를 재정의하세요!\n",
        "\n",
        "3. 타겟 언어인 영문엔 <start> 토큰과 <end> 토큰을 추가하고 split() 함수를 이용하여 토큰화합니다. 한글 토큰화는 KoNLPy의 mecab 클래스를 사용합니다.\n",
        "- Step3 데이터 토큰화가 동시에 진행\n",
        "\n",
        "모든 데이터를 사용할 경우 학습에 굉장히 오랜 시간이 걸립니다. cleaned_corpus로부터 토큰의 길이가 40 이하인 데이터를 선별하여 eng_corpus와 kor_corpus를 각각 구축하세요."
      ],
      "metadata": {
        "id": "boddgBqM82gb"
      }
    },
    {
      "cell_type": "markdown",
      "source": [
        "2-1. 중복된 데이터 삭제\n",
        "- zip을 사용하여 dataset을 합친 후  set을 사용하여 중복된 데이터를 삭제하여 병렬 쌍을 유지한다.\n",
        "\n",
        "[python-zip설명](https://ooyoung.tistory.com/60)\n",
        "\n",
        "[python-set설명](https://wikidocs.net/16044)\n",
        "\n",
        "발생한 오류\n",
        "\n",
        "'zip argument #1 must support iteration'\n",
        "- tuple의 원소는 list가 아닌 하나의 값을 가지기 때문에 zip을 적용할 수 없었기 때문에 load_file 함수에서 return raw를하여 문제를 해결하였다."
      ],
      "metadata": {
        "id": "ENbTflnCOUJg"
      }
    },
    {
      "cell_type": "code",
      "source": [
        "# data set 합치기 - zip 사용\n",
        "data_set = zip(kor, eng)\n",
        "data_set\n",
        "\n",
        "# row_set을 사용하여 중복제거\n",
        "row_set = set(data_set)\n",
        "\n",
        "# 데이터 길이 확인\n",
        "len(row_set)"
      ],
      "metadata": {
        "colab": {
          "base_uri": "https://localhost:8080/"
        },
        "id": "nD4n78lGNsJ3",
        "outputId": "01bd1975-0ad1-4d08-d8e7-882bcae06ec5"
      },
      "execution_count": null,
      "outputs": [
        {
          "output_type": "execute_result",
          "data": {
            "text/plain": [
              "78968"
            ]
          },
          "metadata": {},
          "execution_count": 178
        }
      ]
    },
    {
      "cell_type": "code",
      "source": [
        "# cleaned_corpus에 데이터 저장\n",
        "\n",
        "cleaned_corpus_kor, cleaned_corpus_eng = zip(*row_set)\n",
        "# 이 리스트 앞에 풀기(unpacking) 연산자 붙여서 다시 zip() 함수에 넘기면 다시 원래의 2개의 터플을 얻을 수 있습니다."
      ],
      "metadata": {
        "id": "2LDAteiZYVWU"
      },
      "execution_count": null,
      "outputs": []
    },
    {
      "cell_type": "code",
      "source": [
        "# cleaned_corpus len 확인\n",
        "\n",
        "print('kor_data_size_len:', len(cleaned_corpus_kor))\n",
        "print('eng_data_size_len:', len(cleaned_corpus_eng))\n",
        "\n",
        "# 병렬 데이터인것을 확인하고 "
      ],
      "metadata": {
        "colab": {
          "base_uri": "https://localhost:8080/"
        },
        "id": "JqIUL-JSZLQX",
        "outputId": "4bec3a62-d63c-4942-f23b-bc23b8424c05"
      },
      "execution_count": null,
      "outputs": [
        {
          "output_type": "stream",
          "name": "stdout",
          "text": [
            "kor_data_size_len: 78968\n",
            "eng_data_size_len: 78968\n"
          ]
        }
      ]
    },
    {
      "cell_type": "markdown",
      "source": [
        "2-2. 정규식을 사용하여 preprocessing 함수 구현\n",
        "- 한글 데이터에 맞는 정규표현식 사용\n",
        "- 40이하의 corpus만 append하기"
      ],
      "metadata": {
        "id": "GjYF3EfcYS_p"
      }
    },
    {
      "cell_type": "code",
      "source": [
        "# cleaned_corpus_kor random 추출\n",
        "import random\n",
        "\n",
        "random.sample(cleaned_corpus_kor, 30)"
      ],
      "metadata": {
        "colab": {
          "base_uri": "https://localhost:8080/"
        },
        "id": "L2Urk44qcS_k",
        "outputId": "41da45bd-b74e-48e1-c26f-ae63b0b5a943"
      },
      "execution_count": null,
      "outputs": [
        {
          "output_type": "execute_result",
          "data": {
            "text/plain": [
              "['한편 영국의 이라크 정책을 강하게 비판했던 해리엇 하먼 법무장관은 노조 지도자 및 노동당 당원 350만 명으로부터 노동당 부당수로 선출됐다.',\n",
              " '그는 “전형적인 일반인은 1년이 지나면 1년 나이가 들지만 전형적인 대통령은 임기 동안 매년 2년 더 늙는다”고 말했다.',\n",
              " '“ 현재로서는 지수 7천이 최후 지지선인지 아니면 추가 하락이 이어질지 가늠하기 어렵습니다.',\n",
              " 'Typhoon warning issued as Nabi approaches southern Korea.남해안에 태풍 ‘나비’ 주의보2005.10 원문 & 독해설명 인쇄',\n",
              " '무크타다 알-사드르가 이끄는 마흐디 민병대와 미군과의 충돌로 6명이 숨지기도 했다.',\n",
              " '모두 탐 웨이츠의 노래를 리메이크한 것인가?',\n",
              " '3일 일정으로 된 이번 방문은 북핵 문제에 대한 다자간 회담을 새로 구성하려는 노력의 일환이다.',\n",
              " '85명으로 된 다른 그룹은 짝이 없는 상태에서 조용히 휴식을 취했다.',\n",
              " '스페인 경찰은 이후 마드리드와 사라고사에서 대대적인 단속을 벌였으며 그 결과 다량의 아나볼릭 스테로이드와 수혈 전문 장비를 발견했다.',\n",
              " '잠시 후 21세의 코너는 어깨 끈이 없고, 주름이 많은 가운을 걸치고 무대에 나섰다.',\n",
              " '미국 뉴욕 알바니에서 한 우체부가 2층에서 떨어진 1살 된 여아를 받아 그의 생명을 구했다.',\n",
              " '평론가들은 어떠한 평결이 제시되건 상관없이, 그의 지지자들은 이번 기회를 항의 집회를 개최하는 데 활용할 것이라고 분석했다.',\n",
              " '부시 정부는 시리아가 국경을 넘어 이라크로 들어오는 저항세력을 막기 위해 충분한 조치를 취하지 않는다고 비난하며 이라크를 안정시키기 위해 시리아와 접촉해야 한다는 의회와 이라크연구그룹의 주장을 받아들이지 않았다.',\n",
              " '한편 부시는 이스라엘 건국 60주년을 맞아 예루살렘을 방문, 민주당은 지난 1930년대 영국 등 서방국가들이 2차 세계대전을 막기 위해 독일 히틀러의 나치를 달래는 것을 답습하고 있다고 지적했다.',\n",
              " 'Two ministers requested to refrain from traveling to dangerous countries.두 장관, 위험 국가에 여행 자제 당부2005.08',\n",
              " '그는 자신의 조각작품들을 사회와 개인이 타인과 어떻게 관계를 맺는지를 표현하는 예술적 탐구라고 설명했다.',\n",
              " '경찰 소환을 두 번 피한 뒤에 일요일 오후 에 자진 출두한 55세의 거물은 유죄 판결을 받을 경우 5년 징역 또는 최대 천오백만 원(1만6천 달러)의 벌금을 받게 된다.',\n",
              " '모하메드 엘바라데이 IAEA 사무총장이 준비한 보고서는 이란이 지하 벙커 내 원심분리기를 세우고 소량의 우라늄을 농축했으며 9톤 가까이 되는 가스 성분의 원료를 나탄즈에 있는 지하 핵 시설에 들여오는 등 오히려 농축 활동을 더욱 확대했다고 밝혔다.',\n",
              " 'spree 몰두, 탐닉',\n",
              " '수치 여사는 또한 성명에서 관계개선을 위해 군부가 임명한 연락 협상대표인 아웅 치 노동장관과의 회담 약속을 기꺼이 받아들인다고 말했다.',\n",
              " '제리 사인펠트는 칸 영화제에 까만 스타킹과 벌 모양의 옷을 입고 나타나 화두에 올랐다.',\n",
              " '이것은 미국의 이야기 입니다.',\n",
              " '기번스의 이번 석방에는 나지르 아흐메드와 세이다 와르시 하원의원들이 역할이 컸던 것으로 밝혀졌다. 이들은 기번스의 석방을 위해 수단 정부를 여러 차례 설득했다.',\n",
              " '이번 화재로 영화에서 뉴욕시의 도시경관을 그대로 재연한 뉴욕거리가 소실됐다.',\n",
              " '유즈니는 올 시즌 첫 타이틀을 노렸던 나달을 상대로 재치있는 드롭샷과 베이스라인에서의 절묘한 플레이를 펼치며 경기를 압도했다.',\n",
              " '전문가들은 “유럽에 있는 광산들의 깊이가 약 500m에서 약 600m인데 반해 우크라이나 탄광은 지하 1km이상으로 깊어 위험하다”고 말했다.',\n",
              " '에반슨 대원은 부상자가 없다고 전했으며 선박회사측은 구조된 사람들이 해안 경비대가 제공한 아침을 먹었다고 말했다.',\n",
              " '대부분은 어떻게 해야 할지 어떻게 말을 해야 할 지 모르는 불편한 방문이다.',\n",
              " '그는 또한 \"더이상의 참사를 막고 무의미한 희생을 막자\"고 호소했다.',\n",
              " '당시 그의 의뢰인은 아무런 관계가 없는 남자를 혼자 만나러 갔다가 7명의 남자들에게 윤간을 당했었다.']"
            ]
          },
          "metadata": {},
          "execution_count": 26
        }
      ]
    },
    {
      "cell_type": "code",
      "source": [
        "# cleaned_corpus_eng random 추출\n",
        "\n",
        "random.sample(cleaned_corpus_eng, 30)"
      ],
      "metadata": {
        "colab": {
          "base_uri": "https://localhost:8080/"
        },
        "id": "TCYTczzC3OaH",
        "outputId": "2edbcf91-96fc-42ce-bfab-db8ee534c7b0"
      },
      "execution_count": null,
      "outputs": [
        {
          "output_type": "execute_result",
          "data": {
            "text/plain": [
              "['The defective cover plate broke and fragments damaged the engine of the KF-16 jet during an exercise on Feb.',\n",
              " 'Apple Inc. said Wednesday quarterly profit soared 88 percent on lower component costs and sales of MacBook laptops and iPod digital media players, lifting its shares by 8 percent to above $100 for the first time.',\n",
              " \"Karzai wants to draw the Taliban into Afghanistan's political mainstream, if that radical group accepts the country's constitution.\",\n",
              " 'Christopher Hill will fly to Beijing later in the week as he tries to keep the six-way talks from falling apart.',\n",
              " 'Chavez and his defense minister, Gustavo Rangel Briceno, rejected media reports that sectors of the military pressured Chavez to accept the defeat of his proposals after delays in announcing the referendum results.',\n",
              " \"As one of Korea's progressive newspapers along with the Hankyoreh and online media site Oh My News, Kyunghyang Sinmun has kept close relationship with Roh since his time as a presidential candidate in 2002.\",\n",
              " 'The working group on financial markets includes Treasury secretary Henry Paulson, who was a key player in the decision not to bail out Lehman brothers, investment bank that collapsed under the weight of bad loans, and Fed chief Ben Bernanke, with the New York Fed taking the lead in talks hoping to avert the collapse of insurance giant AIG.',\n",
              " 'And people constantly talk, read and joke about sex with an ease that astonishes North American visitors.',\n",
              " 'President Bush is again pressing Congress to quickly pass a $700 billion bailout package to save Wall Street and Main Street.',\n",
              " 'World leaders and Lebanese politicians have condemned the bomb attack that killed an anti-Syrian Lebanese MP in a mainly Christian suburb of Beirut.',\n",
              " \"Former British Prime Minister Tony Blair stayed away from the first EU-Africa summit in Cairo seven years ago because of Mugabe's presence, and in 2003 a planned EU-Africa summit in the Portuguese capital was called off when some African nations balked at the EU's refusal to invite Mugabe.\",\n",
              " 'She said pressure from Colombian soldiers had been key to their decision, and she called on her fellow rebels to follow her example.',\n",
              " 'Police arrested baseball players and brokers who faked tests to dodge the military duty mandatory.',\n",
              " 'Solomons Deputy Police Commissioner Peter Marshall said boats arrived Tuesday morning in the towns of Gizo and in nearby Munda from Honiara, the capital, carrying food and other urgent supplies.',\n",
              " \"U.S. officials have urged Turkey not to send troops and appealed for a diplomatic solution with Iraq. The Kurdish region in northern Iraq is one of the country's few relatively stable areas, and the Kurds here are also a longtime U.S. ally.\",\n",
              " 'Forest officials say that generous funding could alleviate half their troubles, if it comes.',\n",
              " 'An earthquake shook southern Iceland on Thursday, reportedly causing injuries and damaging roads and buildings.',\n",
              " \"Kim's captors had said they would kill Kim unless South Korea withdrew its troops and halted plans to send more.\",\n",
              " 'And retired Turkish Gen. Edip Baser told CNN he believes an operation could be just weeks away.',\n",
              " 'Doctors say his heart and lungs are stable, and is ready to begin basic physiotherapy and speech training.',\n",
              " 'Xavier and the other plaintiffs had asked the federal court to allow the state Supreme Court to rule on their suits as well.',\n",
              " 'He was released from prison on the 61st day of his imprisonment.',\n",
              " 'He was noticed in the late 1970s by Beverly Sills, then general director of the New York City Opera, which hired him.',\n",
              " \"But the commission found Restaino's conduct so egregious that his 11 years of service and clean record did not matter.\",\n",
              " 'The LDP has a sizeable majority in the more powerful lower house, which chooses the prime minister.',\n",
              " 'According to the National Emergency Management Agency, four mountain climbers died at about noon yesterday near the top of Yonghyeolbong, a peak on Mount Bukhan in the city of Goyang, Gyeonggi.',\n",
              " 'Four British veterans are still alive after joining other Commonwealth, French, Russian and Italian troops in the fight against Germany and her allies.',\n",
              " 'Here are five ways to avoid germs while traveling.',\n",
              " \"With Thursday's announcement, Microsoft is hoping to make it easier for software developers to make products that work well with the Vista computer operating system, Office word processing application and other key Microsoft products.\",\n",
              " 'But thymus activity reduces after puberty.']"
            ]
          },
          "metadata": {},
          "execution_count": 43
        }
      ]
    },
    {
      "cell_type": "code",
      "source": [
        "# train.ko 일부 문장 저장해두기\n",
        "\n",
        "test_kor = random.sample(cleaned_corpus_kor, 30)"
      ],
      "metadata": {
        "id": "agf0VF5jRPI1"
      },
      "execution_count": null,
      "outputs": []
    },
    {
      "cell_type": "code",
      "source": [
        "test_kor"
      ],
      "metadata": {
        "colab": {
          "base_uri": "https://localhost:8080/"
        },
        "id": "3UaGUThlRYId",
        "outputId": "cc320401-97ea-4a9f-c834-fa833bcb91fc"
      },
      "execution_count": null,
      "outputs": [
        {
          "output_type": "execute_result",
          "data": {
            "text/plain": [
              "['한국정부는 2004년 자이툰부대 이라크 파병 이후 처음 사망한 27살의 한국인 의문사망을 조사하기 위해 조사단을 현지에 급파했다.',\n",
              " '한국 최고의 수영 선수 박태환이 어제 호주 멜버른에서 열린 국제 수영 연맹 결승전에서 400미터 자유형 금메달을 획득했다.',\n",
              " '유엔주재 남아프리카공화국 대사인 두미사니 쿠말로는 “유엔 안보리가 레바논에 특별법정을 세우는 것은 적절치 않다”고 말했다.',\n",
              " '이반코 대변인은 미트로비카 지역에서 발생한 충돌이 18일 진정됐다고 전했다.',\n",
              " '그는 1954년 하버드를 졸업하였습니다.',\n",
              " '덴젤 워싱턴은 클린트 이스트우드는 나의 영웅이며 본보기가 되는 사람이라고 말했다.',\n",
              " '미국 독립혁명의 상징으로 폴 리비리가 영국군의 출몰을 경고하기 위해 사용한 올드노스 교회에 최첨단 LED 조명이 설치됐다.',\n",
              " '워터게이트 사건 당시 보수적인 FBI 부국장이었던 마크 펠트가 북부 캘리포니아에서 사망했습니다.',\n",
              " '당신과 첼시아를 보호하기 위해서였어’라는 말만 거듭했다.’',\n",
              " '과연 이것이 시장이 바닥을 치고 올라오고 있는 중이냐 아니면, 소위 월가에서 말하는 데드 캣 바운스 현상인지가 의문입니다.',\n",
              " '칼리아리는 지난달 지암파올로를 해고한 뒤 소네티를 감독 자리에 앉혔다.',\n",
              " '지난 6월 이곳에서 승객들을 태우고 운행하던 대형 트럭이 추락사고를 일으켜 11명이 사망한 바 있다.',\n",
              " 'AS 로마는 경기 시작 1분만에 프란체스코 토티가 로드리고 타데이의 패스를 받아 첫 골을 뽑았다.',\n",
              " 'WTC 붕괴 모의실험 동영상은 유튜브에 지난 1일 등록된 후 1시간 만에 2000여 번의 조회수를 기록하며 20일(현지시간)을 기준 으로 총 조회수 12만 번을 기록하고 있다.',\n",
              " '원문기사보기',\n",
              " '끌어내다, 철수시키다',\n",
              " '대한항공 특별기편으로 “알려지지 않은” 아시아의 제3국을 출발해 오전 9시30분경 인천국제공항에 도착한 이들은 먼저 도착한 탈북자 227명과 상봉했다.',\n",
              " '보스턴시에서 페리를 이용할 경우 10분이면 이곳까지 도착할 수 있다.',\n",
              " '▲레스토랑',\n",
              " '이에앞서 무아마르 카다피 국가원수의 아들로 차기 실권자로 부상한 사이프 알-이슬람이 운영하는 카다피 재단은 피해 어린이들의 부모들이 피고인들과 보상에 합의했다고 밝혔다.',\n",
              " '서울지방경찰청 외사과는 의뢰인들이 자신의 자식들이 캐나다에서 공부할 때 학비를 면제받으려는 의도로 이 같은 행위를 저질렀다고 밝혔다.',\n",
              " '이에 대해 푸틴 대통령은 “현재 러시아 법에따라 재판을 받아야 하는 사람이 30명이나 런던에 있지만 영국 정부는 이들 용의자에 대해 아무런 신경을 쓰고 있지 않다”고 강력히 비판했다.',\n",
              " '김대중 전 대통령에게 숨겨진 딸이 있고 수년 간 국정원에서 돌봐주고 있었다는 한 방송사의 주장에 대해 김 전 대통령의 측근은 사실무근이라고 잘라 말했다.',\n",
              " '외페레인은 2006년 12월 디스커버리호에 탑승한 우주 비행사였다.',\n",
              " '사망하거나 실종된 사람 중에는, 일부 중국 국적의 노동자들을 포함하여 총 13명의 외국인 노동자와 임산부도 포함되어 있었다.',\n",
              " '“ 제가 혼자서 좀 걷다가 마침 저기에서 아이의 엉덩이 밑 부분이 조금 튀어 나온 것을 볼 수 있었습니다. 그래서 몇 발자국 더 갔더니 아이의 양 다리를 볼 수 있었습니다.”',\n",
              " '미국 알래스카의 알리예스카 리조트는 모험을 즐기는 스키어들에게 안성맞춤인 곳으로 겨울 여행객과 가족들을 위해 2500만 달러를 들여 확장공사를 벌였다.',\n",
              " '올센 대변인은 “그들은 아무 것도 하지 않은 채 광부들의 증발하는 것을 바라는 것 같다”고 지적했다.',\n",
              " '한편 세계 각국에서 울머 감독에 대한 조문객들이 이어졌다.',\n",
              " '이곳은 수세기동안 차와 말을 거래하는 무역로로 중국 서부를 가로지르며 중아시아와 동남아시아의 연결고리 역할을 했다.']"
            ]
          },
          "metadata": {},
          "execution_count": 149
        }
      ]
    },
    {
      "cell_type": "markdown",
      "source": [
        "sample 추출을 통하여 확인해 본 결과\n",
        "\n",
        "news 문장 데이터이기 때문에 일반적인 텍스트보다 전처리 요소가 적다고 생각이든다.\n",
        "\n",
        "다만 다음과 같은 요소가 확인되어 제거하는 정규식을 사용하도록한다.\n",
        "\n",
        "1. \\xa0 \\xa0 \\xa0200806.04 같은 유니코드\n",
        "\n",
        "2. http: 링크 text\n",
        "\n",
        "3. 무의미한 (CNN)이 포함된 문장 삭제\n",
        "\n",
        "그리고 기계 번역 결과 비교를 위하여 train_ko 문장 중 일부는 미리 따로 저장해두고 번역 성능을 검사할 때 섞어서 활용해 보도록 하겠다.\n",
        "\n"
      ],
      "metadata": {
        "id": "rr4vI6dfQVew"
      }
    },
    {
      "cell_type": "code",
      "source": [
        "# preprocessing 함수 구현\n",
        "\n",
        "def preprocessing_sentence(sentence, s_token=False, e_token=False):\n",
        "  sentence = re.sub(r'(https?:\\/\\/).+', r'', sentence) # http 링크 삭제\n",
        "  sentence = re.sub(r'(\\\\xa0).+', r'', sentence) # 유니코드 삭제\n",
        "  sentence = re.sub(r'^.*(CNN).*', r'', sentence) # (CNN)이 포함된 문장 전부 삭제\n",
        "  sentence = sentence.lower() # 텍스트 소문자\n",
        "  sentence = re.sub(r'([?.!,])', r' \\1', sentence) # 구두점 분리\n",
        "  sentence = re.sub(r'[\" \"]+', \" \", sentence) # 여러개 공백을 하나의 공백으로\n",
        "  sentence = re.sub(r\"[^a-zA-Z?.!,ㄱ-ㅎ가-힣ㅏ-ㅣ0-9]+\", \" \", sentence) \n",
        "  # ^a-zA-Z?.!,ㄱ-ㅎ가-힣ㅏ-ㅣ0-9가 아닌 모든 문자를 하나의 공백으로 바꿉니다\n",
        "  sentence = sentence.strip() # 모든 공백 제거\n",
        "\n",
        "  if s_token:\n",
        "    sentence = '<start> ' + sentence\n",
        "\n",
        "  if e_token:\n",
        "    sentence += ' <end>'\n",
        "\n",
        "  return sentence"
      ],
      "metadata": {
        "id": "ByxzKObJcIId"
      },
      "execution_count": null,
      "outputs": []
    },
    {
      "cell_type": "code",
      "source": [
        "# 정규표현식 메모 - 실행은 하지 않는다\n",
        "\n",
        "sentence = re.sub(r'[一-龥]', r'', sentence) # 중국어 삭제\n",
        "sentence = re.sub(r'[ぁ-ゔ]+|[ァ-ヴー]+[々〆〤]', r'', sentence) # 일본어 삭제"
      ],
      "metadata": {
        "id": "m9Rfzzf91Gb_"
      },
      "execution_count": null,
      "outputs": []
    },
    {
      "cell_type": "code",
      "source": [
        "# 전처리 시행\n",
        "\n",
        "enc_corpus = []\n",
        "dec_corpus = []\n",
        "\n",
        "for kor, eng in zip(cleaned_corpus_kor, cleaned_corpus_eng):\n",
        "  kor_pre = preprocessing_sentence(kor)\n",
        "  eng_pre = preprocessing_sentence(eng, s_token=True, e_token=True)\n",
        "  enc_corpus.append(kor_pre)\n",
        "  dec_corpus.append(eng_pre)"
      ],
      "metadata": {
        "id": "vmE-rscwgmeX"
      },
      "execution_count": null,
      "outputs": []
    },
    {
      "cell_type": "code",
      "source": [
        "# 처리 결과 확인하기\n",
        "print('enc_corpus len:',len(enc_corpus), 'dec_corpus len:',len(dec_corpus))\n",
        "print(enc_corpus[-1])\n",
        "print(dec_corpus[-1])"
      ],
      "metadata": {
        "colab": {
          "base_uri": "https://localhost:8080/"
        },
        "id": "xGiT0q3JvPdi",
        "outputId": "adb4f814-ec2f-4de4-f60f-3ec42ffb53d4"
      },
      "execution_count": null,
      "outputs": [
        {
          "output_type": "stream",
          "name": "stdout",
          "text": [
            "enc_corpus len: 78968 dec_corpus len: 78968\n",
            "이스라엘 당국은 지난 6월 가자지구를 장악한 하마스가 이스라엘을 국가로 인정하고 폭력을 중단하겠다고 선언하기 전까지 협상을 하지 않을 것이라고 강조했다 .\n",
            "<start> israel has refused to negotiate with hamas , which took control of gaza in june , until it agrees to submit to international benchmarks including the renouncing of violence and recognition of the jewish state . <end>\n"
          ]
        }
      ]
    },
    {
      "cell_type": "markdown",
      "source": [
        "# Step 3. 데이터 토큰화\n",
        "\n",
        "앞서 정의한 tokenize() 함수를 사용해 데이터를 텐서로 변환하고 각각의 tokenizer를 얻으세요! 단어의 수는 실험을 통해 적당한 값을 맞춰주도록 합니다! (최소 10,000 이상!)\n",
        "\n",
        "❗ 주의: 난이도에 비해 데이터가 많지 않아 훈련 데이터와 검증 데이터를 따로 나누지는 않습니다.\n"
      ],
      "metadata": {
        "id": "W335kRLg9DlM"
      }
    },
    {
      "cell_type": "code",
      "source": [
        "# mecab 불러오기\n",
        "\n",
        "from konlpy.tag import Mecab"
      ],
      "metadata": {
        "id": "u_DYGqEjyE0e"
      },
      "execution_count": null,
      "outputs": []
    },
    {
      "cell_type": "code",
      "source": [
        "# 한글 데이터 Mecab 적용하기\n",
        "mecab = Mecab()\n",
        "\n",
        "sen_kor = []\n",
        "for sentence in enc_corpus:\n",
        "  sen_kor.append(mecab.morphs(sentence))"
      ],
      "metadata": {
        "id": "wSYRRzrxv8EQ"
      },
      "execution_count": null,
      "outputs": []
    },
    {
      "cell_type": "code",
      "source": [
        "# 영어 데이터 띄어쓰기 단위로 나누기\n",
        "\n",
        "sen_eng = []\n",
        "for sentence in dec_corpus:\n",
        "  sen_eng.append(sentence.split())"
      ],
      "metadata": {
        "id": "M6WIoJ-a1f7E"
      },
      "execution_count": null,
      "outputs": []
    },
    {
      "cell_type": "code",
      "source": [
        "# 40 이상의 문장 데이터 전부 삭제하기\n",
        "enc = []\n",
        "dec = []\n",
        "for kor, eng in zip(sen_kor, sen_eng):\n",
        "  if (len(kor) <= 40) and (len(eng) <= 40):\n",
        "      enc.append(kor)\n",
        "      dec.append(eng)"
      ],
      "metadata": {
        "id": "ZZ3r8CvR21J1"
      },
      "execution_count": null,
      "outputs": []
    },
    {
      "cell_type": "code",
      "source": [
        "print(len(enc), len(dec))"
      ],
      "metadata": {
        "colab": {
          "base_uri": "https://localhost:8080/"
        },
        "id": "jGwnvCNC7p_p",
        "outputId": "554312ee-f4db-43cd-a8f9-d04d650ac51b"
      },
      "execution_count": null,
      "outputs": [
        {
          "output_type": "stream",
          "name": "stdout",
          "text": [
            "61765 61765\n"
          ]
        }
      ]
    },
    {
      "cell_type": "code",
      "source": [
        "# tokenize 함수 작성 - vocab_size : 30000\n",
        "vocab_size = 30000\n",
        "\n",
        "def tokenize(corpus):\n",
        "  tokenizer = tf.keras.preprocessing.text.Tokenizer(filters='', num_words = vocab_size)\n",
        "  tokenizer.fit_on_texts(corpus)\n",
        "  tensor = tokenizer.texts_to_sequences(corpus)\n",
        "  tensor = tf.keras.preprocessing.sequence.pad_sequences(tensor, padding = 'post')\n",
        "\n",
        "  return tensor, tokenizer"
      ],
      "metadata": {
        "id": "OXoUum25vypE"
      },
      "execution_count": null,
      "outputs": []
    },
    {
      "cell_type": "code",
      "source": [
        "# 토큰화하기 - vocab_size : 30000\n",
        "enc_train, enc_tokenizer = tokenize(enc)\n",
        "dec_train, dec_tokenizer = tokenize(dec)\n",
        "\n",
        "print(\"kor Vocab Size:\", len(enc_tokenizer.index_word))\n",
        "print(\"eng Vocab Size:\", len(dec_tokenizer.index_word))\n",
        "\n",
        "# vocab_size가 변경이되어도 출력되는 tokenizer.index_word는 같다\n",
        "# 왜냐하면 20000 > 30000으로 바뀐다면 더 많은 단어가 정수로 표시되어진 것이다."
      ],
      "metadata": {
        "colab": {
          "base_uri": "https://localhost:8080/"
        },
        "id": "6Ib4Hnie7cMX",
        "outputId": "fad1fd2b-dce8-4823-91cd-0ece6b1c9d07"
      },
      "execution_count": null,
      "outputs": [
        {
          "output_type": "stream",
          "name": "stdout",
          "text": [
            "kor Vocab Size: 44528\n",
            "eng Vocab Size: 39158\n"
          ]
        }
      ]
    },
    {
      "cell_type": "markdown",
      "source": [
        "\n",
        "1. vocab_size = 20000인 경우\n",
        "\n",
        "- kor Vocab Size: 44528, eng Vocab Size: 39158\n",
        "\n",
        "2. "
      ],
      "metadata": {
        "id": "xmQVcazAU2Mf"
      }
    },
    {
      "cell_type": "code",
      "source": [
        "# 토큰화 결과 확인\n",
        "print(enc_train.shape, dec_train.shape)"
      ],
      "metadata": {
        "colab": {
          "base_uri": "https://localhost:8080/"
        },
        "id": "WIcdKjQO0mY5",
        "outputId": "9f70fd47-5d5f-4e97-c5e5-81359113a3fd"
      },
      "execution_count": null,
      "outputs": [
        {
          "output_type": "stream",
          "name": "stdout",
          "text": [
            "(61765, 40) (61765, 40)\n"
          ]
        }
      ]
    },
    {
      "cell_type": "markdown",
      "source": [
        "# Step 4. 모델 설계\n",
        "\n",
        "한국어를 영어로 잘 번역해 줄 멋진 Attention 기반 Seq2seq 모델을 설계하세요! 앞서 만든 모델에 Dropout 모듈을 추가하면 성능이 더 좋아집니다! Embedding Size와 Hidden Size는 실험을 통해 적당한 값을 맞춰 주도록 합니다!"
      ],
      "metadata": {
        "id": "B_JqQCZ39HmJ"
      }
    },
    {
      "cell_type": "code",
      "source": [
        "class BahdanauAttention(tf.keras.layers.Layer):\n",
        "  def __init__(self, units):\n",
        "    super(BahdanauAttention, self).__init__()\n",
        "    self.w_dec = tf.keras.layers.Dense(units)\n",
        "    self.w_enc = tf.keras.layers.Dense(units)\n",
        "    self.w_com = tf.keras.layers.Dense(1)\n",
        "\n",
        "  def call(self,h_enc, h_dec):\n",
        "    # h_enc shape: [batch x length x units]\n",
        "    # h_dec shape: [batch x units]\n",
        "\n",
        "    h_enc = self.w_enc(h_enc)\n",
        "    h_dec = tf.expand_dims(h_dec, 1)\n",
        "    h_dec = self.w_dec(h_dec)\n",
        "\n",
        "    score = self.w_com(tf.nn.tanh(h_dec + h_enc))\n",
        "\n",
        "    attn = tf.nn.softmax(score, axis=1)\n",
        "\n",
        "    context_vec = attn * h_enc\n",
        "    context_vec = tf.reduce_sum(context_vec, axis=1)\n",
        "\n",
        "    return context_vec, attn"
      ],
      "metadata": {
        "id": "0uWQTGliHnL3"
      },
      "execution_count": null,
      "outputs": []
    },
    {
      "cell_type": "code",
      "source": [
        "class Encoder(tf.keras.Model):\n",
        "  def __init__(self, vocab_size, embedding_dim, enc_units):\n",
        "    super(Encoder, self).__init__()\n",
        "\n",
        "    self.enc_units = enc_units\n",
        "    self.embedding = tf.keras.layers.Embedding(vocab_size, embedding_dim)\n",
        "    self.gru = tf.keras.layers.GRU(enc_units, return_sequences=True)\n",
        "\n",
        "  def call(self, x):\n",
        "    out = self.embedding(x)\n",
        "    out = self.gru(out)\n",
        "\n",
        "    return out"
      ],
      "metadata": {
        "id": "4clR9tSVIHLp"
      },
      "execution_count": null,
      "outputs": []
    },
    {
      "cell_type": "code",
      "source": [
        "class Decoder(tf.keras.Model):\n",
        "  def __init__(self, vocab_size, embedding_dim, dec_units):\n",
        "    super(Decoder, self).__init__()\n",
        "    self.dec_units = dec_units\n",
        "    self.embedding = tf.keras.layers.Embedding(vocab_size, embedding_dim)\n",
        "    self.gru = tf.keras.layers.GRU(dec_units, return_sequences=True,\n",
        "                                   return_state=True)\n",
        "    self.fc = tf.keras.layers.Dense(vocab_size)\n",
        "    \n",
        "    self.attention = BahdanauAttention(self.dec_units)   # Attention 필수 사용!\n",
        "\n",
        "  def call(self, x, h_dec, enc_out):\n",
        "    context_vec, attn = self.attention(enc_out, h_dec)\n",
        "\n",
        "    out = self.embedding(x)\n",
        "    out = tf.concat([tf.expand_dims(context_vec, 1), out], axis = -1)\n",
        "\n",
        "    out, h_dec = self.gru(out)\n",
        "    out = tf.reshape(out, (-1, out.shape[2]))\n",
        "    out = self.fc(out)\n",
        "\n",
        "    return out, h_dec, attn"
      ],
      "metadata": {
        "id": "KL6IjjJRIKe-"
      },
      "execution_count": null,
      "outputs": []
    },
    {
      "cell_type": "code",
      "source": [
        "#실행하여 결과 확인해보기\n",
        "\n",
        "BATCH_SIZE = 128\n",
        "SRC_VOCAB_SIZE = len(enc_tokenizer.index_word) + 1\n",
        "TGT_VOCAB_SIZE = len(dec_tokenizer.index_word) + 1\n",
        "\n",
        "units = 1024\n",
        "embedding_dim = 512\n",
        "\n",
        "encoder = Encoder(SRC_VOCAB_SIZE, embedding_dim, units)\n",
        "decoder = Decoder(TGT_VOCAB_SIZE, embedding_dim, units)\n",
        "\n",
        "# sample input\n",
        "sequence_len = 40\n",
        "\n",
        "sample_enc = tf.random.uniform((BATCH_SIZE, sequence_len))\n",
        "\n",
        "sample_output = encoder(sample_enc)\n",
        "\n",
        "print('Encoder Output : ', sample_output.shape)\n",
        "\n",
        "sample_state = tf.random.uniform((BATCH_SIZE, units))\n",
        "\n",
        "sample_logits, h_dec, attn = decoder(tf.random.uniform((BATCH_SIZE, 1)),\n",
        "                                     sample_state, sample_output)\n",
        "\n",
        "print ('Decoder Output:', sample_logits.shape)\n",
        "print ('Decoder Hidden State:', h_dec.shape)\n",
        "print ('Attention:', attn.shape)"
      ],
      "metadata": {
        "colab": {
          "base_uri": "https://localhost:8080/"
        },
        "id": "8yGpnvy5ILuq",
        "outputId": "90133970-74af-458b-f9e0-626699bfd6d6"
      },
      "execution_count": null,
      "outputs": [
        {
          "output_type": "stream",
          "name": "stdout",
          "text": [
            "Encoder Output :  (128, 40, 1024)\n",
            "Decoder Output: (128, 39159)\n",
            "Decoder Hidden State: (128, 1024)\n",
            "Attention: (128, 40, 1)\n"
          ]
        }
      ]
    },
    {
      "cell_type": "markdown",
      "source": [
        "# Step 5. 훈련하기\n",
        "\n",
        "훈련엔 위에서 사용한 코드를 그대로 사용하되, eval_step() 부분이 없음에 유의합니다! 매 스텝 아래의 예문에 대한 번역을 생성하여 본인이 생각하기에 가장 멋지게 번역한 Case를 제출하세요! (Attention Map을 시각화해보는 것도 재밌을 거예요!)\n",
        "\n",
        "![](https://d3s0tskafalll9.cloudfront.net/media/images/GN-4-P-4.max-800x600.jpg)\n",
        "<center>attention map 예시</center>\n"
      ],
      "metadata": {
        "id": "W0tIdEod9KVm"
      }
    },
    {
      "cell_type": "code",
      "source": [
        "optimizer = tf.keras.optimizers.Adam()\n",
        "loss_object = tf.keras.losses.SparseCategoricalCrossentropy(\n",
        "    from_logits=True, reduction='none')\n",
        "\n",
        "def loss_function(real, pred):\n",
        "  mask = tf.math.logical_not(tf.math.equal(real, 0))\n",
        "  loss = loss_object(real, pred)\n",
        "\n",
        "  mask = tf.cast(mask, dtype = loss.dtype)\n",
        "  loss *= mask # *=는 왼쪽 변수에 오른쪽 값을 곱하고 그 결과를 왼쪽 변수에 할당한다.\n",
        "  # 예시로 a *= b는 a = a*b를 의미함.\n",
        "\n",
        "  return tf.reduce_mean(loss)"
      ],
      "metadata": {
        "id": "6LAF6GV5IlHp"
      },
      "execution_count": null,
      "outputs": []
    },
    {
      "cell_type": "markdown",
      "source": [
        "# 8-5. 훈련하기 (2) train_step 구현하기\n",
        "\n",
        "train_step()의 학습 과정\n",
        "\n",
        "1. Encoder에 소스 문장을 전달해 context_vec인 enc_out을 생성\n",
        "\n",
        "2. t=0일 때, Decoder의 Hidden State는 Encoder의 Final State로 정의. h_dec = enc_out[:, -1]\n",
        "\n",
        "3. Decoder에 입력으로 전달한 <start>토큰 문장 생성\n",
        "\n",
        "4. <start> 문장과 enc_out, Hidden State를 기반으로 다음 단어(t=1)를 예측. pred\n",
        "\n",
        "5. 예측된 단어와 정답 간의 Loss를 구한 후, t=1의 정답 단어를 다음 입력으로 사용 (예츠 단어 X)\n",
        "\n",
        "6. 반복"
      ],
      "metadata": {
        "id": "VHFMhrcdkol_"
      }
    },
    {
      "cell_type": "code",
      "source": [
        "@tf.function\n",
        "def train_step(src, tgt, encoder, decoder, optimizer, dec_tok):\n",
        "  bsz = src.shape[0]\n",
        "  loss = 0 \n",
        "\n",
        "  with tf.GradientTape() as tape:\n",
        "    enc_out = encoder(src)\n",
        "\n",
        "    # t=0일 때, Decoder의 Hidden State는 Encoder의 Final State로 정의.\n",
        "    h_dec = enc_out[:, -1] # 각 원소에서 맨 마지막 출력\n",
        "    \n",
        "    # Decoder에 입력으로 전달할 <start> 토큰 문장 생성\n",
        "    dec_src = tf.expand_dims([dec_tok.word_index['<start>']] * bsz, 1)\n",
        "\n",
        "    # <start> 문장과 enc_out, Hidden State를 기반으로 다음 단어(t=1)를 예측. \n",
        "    for t in range(1, tgt.shape[1]):\n",
        "      pred, h_dec,_ = decoder(dec_src, h_dec, enc_out)\n",
        "\n",
        "      loss += loss_function(tgt[:, t], pred) # 각 원소에서 t번째 출력하여 loss함수에 삽입\n",
        "      dec_src = tf.expand_dims(tgt[:, t], 1)\n",
        "\n",
        "  batch_loss = (loss / int(tgt.shape[1]))\n",
        "\n",
        "  variables = encoder.trainable_variables + decoder.trainable_variables\n",
        "  gradients = tape.gradient(loss, variables)\n",
        "  optimizer.apply_gradients(zip(gradients, variables))\n",
        "\n",
        "  return batch_loss"
      ],
      "metadata": {
        "id": "aIx-y4ITkqsh"
      },
      "execution_count": null,
      "outputs": []
    },
    {
      "cell_type": "code",
      "source": [
        "from tqdm import tqdm\n",
        "import random\n",
        "\n",
        "EPOCHS = 10\n",
        "\n",
        "for epoch in range(EPOCHS):\n",
        "  total_loss = 0\n",
        "\n",
        "  idx_list = list(range(0, enc_train.shape[0], BATCH_SIZE))\n",
        "  random.shuffle(idx_list)\n",
        "  t = tqdm(idx_list)\n",
        "\n",
        "  for (batch, idx) in enumerate(t):\n",
        "    batch_loss = train_step(enc_train[idx:idx+BATCH_SIZE],\n",
        "                            dec_train[idx:idx+BATCH_SIZE],\n",
        "                            encoder, decoder, optimizer, dec_tokenizer)\n",
        "    \n",
        "    total_loss += batch_loss\n",
        "\n",
        "    t.set_description_str('Epoch %2d' % (epoch + 1)) # # tqdm\n",
        "    t.set_postfix_str('Loss %.4f' % (total_loss.numpy() / (batch + 1))) # tqdm"
      ],
      "metadata": {
        "colab": {
          "base_uri": "https://localhost:8080/"
        },
        "id": "09Hc6XWlIrkc",
        "outputId": "4a80bd5d-7448-4911-9796-be6fe7c2c228"
      },
      "execution_count": null,
      "outputs": [
        {
          "output_type": "stream",
          "name": "stderr",
          "text": [
            "Epoch  1: 100%|██████████| 483/483 [10:07<00:00,  1.26s/it, Loss 3.8602]\n",
            "Epoch  2: 100%|██████████| 483/483 [09:44<00:00,  1.21s/it, Loss 3.1649]\n",
            "Epoch  3: 100%|██████████| 483/483 [09:48<00:00,  1.22s/it, Loss 2.8510]\n",
            "Epoch  4: 100%|██████████| 483/483 [09:50<00:00,  1.22s/it, Loss 2.6496]\n",
            "Epoch  5: 100%|██████████| 483/483 [09:53<00:00,  1.23s/it, Loss 2.4770]\n",
            "Epoch  6: 100%|██████████| 483/483 [09:53<00:00,  1.23s/it, Loss 2.3227]\n",
            "Epoch  7: 100%|██████████| 483/483 [09:52<00:00,  1.23s/it, Loss 2.1776]\n",
            "Epoch  8: 100%|██████████| 483/483 [09:52<00:00,  1.23s/it, Loss 2.0392]\n",
            "Epoch  9: 100%|██████████| 483/483 [09:55<00:00,  1.23s/it, Loss 1.9188]\n",
            "Epoch 10: 100%|██████████| 483/483 [09:55<00:00,  1.23s/it, Loss 1.7840]\n"
          ]
        }
      ]
    },
    {
      "cell_type": "markdown",
      "source": [
        "# 성능 변화에 대한 기록\n",
        "\n",
        "BATCH_SIZE = 128, units = 1024, embedding_dim = 512로 고정하고 vocab_size만 바꾸도록 해본다.\n",
        "\n",
        "1. vocab_size = 20000\n",
        "- Loss : 3.7924 > 1.8406으로 감소\n",
        "\n",
        "![vocab20000.PNG](data:image/png;base64,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)\n",
        "\n",
        "2. vocab_size = 40000\n",
        "- Loss : 3.8602 > 1.7840\n",
        "\n",
        "![vocab30000.PNG](data:image/png;base64,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)\n",
        "\n"
      ],
      "metadata": {
        "id": "reB9ReVQxVKp"
      }
    },
    {
      "cell_type": "code",
      "source": [
        "# Attention Map 시각화를 제외하고 기계 번역 결과만 출력\n",
        "from matplotlib import rc\n",
        "\n",
        "def evaluate(sentence, encoder, decoder):\n",
        "  attention = np.zeros((dec_train.shape[-1], enc_train.shape[-1]))\n",
        "\n",
        "  sentence = preprocessing_sentence(sentence)\n",
        "  inputs = enc_tokenizer.texts_to_sequences([sentence.split()])\n",
        "  inputs = tf.keras.preprocessing.sequence.pad_sequences(\n",
        "      inputs, maxlen = enc_train.shape[-1], padding='post')\n",
        "  \n",
        "  result = ''\n",
        "\n",
        "  enc_out = encoder(inputs)\n",
        "\n",
        "  dec_hidden = enc_out[:, -1]\n",
        "  dec_input = tf.expand_dims([dec_tokenizer.word_index['<start>']], 0)\n",
        "\n",
        "  for t in range(dec_train.shape[-1]):\n",
        "    predictions, dec_hidden, attention_weights = decoder(dec_input, dec_hidden, enc_out)\n",
        "\n",
        "    attention_weights = tf.reshape(attention_weights, (-1, ))\n",
        "    attention[t] = attention_weights.numpy()\n",
        "\n",
        "    predicted_id = tf.argmax(tf.math.softmax(predictions, axis=-1)[0]).numpy()\n",
        "\n",
        "    result += dec_tokenizer.index_word[predicted_id] + ' '\n",
        "    \n",
        "    if dec_tokenizer.index_word[predicted_id] == '<end>':\n",
        "      return result, sentence, attention\n",
        "\n",
        "    dec_input = tf.expand_dims([predicted_id], 0)\n",
        "\n",
        "  return result, sentence, attention\n",
        "\n",
        "def translate_result(sentence, encoder, decdoer):\n",
        "  result, sentence, attention = evaluate(sentence, encoder, decdoer)\n",
        "\n",
        "  print('Input: %s' % (sentence))\n",
        "  print('Predicted translation: {}'.format(result))"
      ],
      "metadata": {
        "id": "ZFY-eLkLWHmk"
      },
      "execution_count": null,
      "outputs": []
    },
    {
      "cell_type": "code",
      "source": [
        "# 해석결과 출력\n",
        "\n",
        "test = random.sample(test_kor, 5)\n",
        "\n",
        "for i in test:\n",
        "  print(translate_result(i, encoder, decoder))\n",
        "  print('-' * 50)"
      ],
      "metadata": {
        "colab": {
          "base_uri": "https://localhost:8080/"
        },
        "id": "ZCuzEU95WbvA",
        "outputId": "6f5f8a0a-5ad3-41a5-c838-20988ba3b348"
      },
      "execution_count": null,
      "outputs": [
        {
          "output_type": "stream",
          "name": "stdout",
          "text": [
            "Input: 유엔주재 남아프리카공화국 대사인 두미사니 쿠말로는 유엔 안보리가 레바논에 특별법정을 세우는 것은 적절치 않다 고 말했다 .\n",
            "Predicted translation: the korea times reports the united nations have been spotlighted as a day after wwii , and the korea times reports the united nations have been spotlighted as a day after wwii , and the korea times reports the united \n",
            "None\n",
            "--------------------------------------------------\n",
            "Input: 이곳은 수세기동안 차와 말을 거래하는 무역로로 중국 서부를 가로지르며 중아시아와 동남아시아의 연결고리 역할을 했다 .\n",
            "Predicted translation: china is not uncommon . <end> \n",
            "None\n",
            "--------------------------------------------------\n",
            "Input: 서울지방경찰청 외사과는 의뢰인들이 자신의 자식들이 캐나다에서 공부할 때 학비를 면제받으려는 의도로 이 같은 행위를 저질렀다고 밝혔다 .\n",
            "Predicted translation: it s not a big time <end> \n",
            "None\n",
            "--------------------------------------------------\n",
            "Input: 워터게이트 사건 당시 보수적인 fbi 부국장이었던 마크 펠트가 북부 캘리포니아에서 사망했습니다 .\n",
            "Predicted translation: the ap s arraignment in the cleveland museum in the cleveland man suspected north carolina jury has died in the cleveland man suspected north carolina jury has died in the cleveland man suspected north carolina jury has died in the \n",
            "None\n",
            "--------------------------------------------------\n",
            "Input: 그는 1954년 하버드를 졸업하였습니다 .\n",
            "Predicted translation: <end> \n",
            "None\n",
            "--------------------------------------------------\n"
          ]
        }
      ]
    },
    {
      "cell_type": "code",
      "source": [
        "# Attention Map 시각화\n",
        "from matplotlib import rc\n",
        "\n",
        "def evaluate(sentence, encoder, decoder):\n",
        "  attention = np.zeros((dec_train.shape[-1], enc_train.shape[-1]))\n",
        "\n",
        "  sentence = preprocessing_sentence(sentence)\n",
        "  inputs = enc_tokenizer.texts_to_sequences([sentence.split()])\n",
        "  inputs = tf.keras.preprocessing.sequence.pad_sequences(\n",
        "      inputs, maxlen = enc_train.shape[-1], padding='post')\n",
        "  \n",
        "  result = ''\n",
        "\n",
        "  enc_out = encoder(inputs)\n",
        "\n",
        "  dec_hidden = enc_out[:, -1]\n",
        "  dec_input = tf.expand_dims([dec_tokenizer.word_index['<start>']], 0)\n",
        "\n",
        "  for t in range(dec_train.shape[-1]):\n",
        "    predictions, dec_hidden, attention_weights = decoder(dec_input, dec_hidden, enc_out)\n",
        "\n",
        "    attention_weights = tf.reshape(attention_weights, (-1, ))\n",
        "    attention[t] = attention_weights.numpy()\n",
        "\n",
        "    predicted_id = tf.argmax(tf.math.softmax(predictions, axis=-1)[0]).numpy()\n",
        "\n",
        "    result += dec_tokenizer.index_word[predicted_id] + ' '\n",
        "    \n",
        "    if dec_tokenizer.index_word[predicted_id] == '<end>':\n",
        "      return result, sentence, attention\n",
        "\n",
        "    dec_input = tf.expand_dims([predicted_id], 0)\n",
        "\n",
        "  return result, sentence, attention\n",
        "\n",
        "def plot_attention(attention, sentence, predicted_sentence):\n",
        "  fig = plt.figure(figsize=(8,8))\n",
        "  ax = fig.add_subplot(1,1,1)\n",
        "  ax.matshow(attention, cmap = 'viridis')\n",
        "\n",
        "  fontdict = {'fontsize' : 14}\n",
        "  \n",
        "\n",
        "  ax.set_xticklabels([''] + sentence, fontdict = fontdict, rotation = 90)\n",
        "  ax.set_yticklabels([''] + predicted_sentence, fontdict = fontdict)\n",
        "\n",
        "  ax.xaxis.set_major_locator(ticker.MultipleLocator(1))\n",
        "  ax.yaxis.set_major_locator(ticker.MultipleLocator(1))\n",
        "\n",
        "  plt.show()\n",
        "\n",
        "def translate(sentence, encoder, decdoer):\n",
        "  result, sentence, attention = evaluate(sentence, encoder, decdoer)\n",
        "\n",
        "  print('Input: %s' % (sentence))\n",
        "  print('Predicted translation: {}'.format(result))\n",
        "\n",
        "  attention = attention[:len(result.split()), :len(sentence.split())]\n",
        "  plot_attention(attention, sentence.split(), result.split(' '))"
      ],
      "metadata": {
        "id": "YzMdNCK4JCJm"
      },
      "execution_count": null,
      "outputs": []
    },
    {
      "cell_type": "code",
      "source": [
        "# 폰트 불러오기\n",
        "rc('font', family='NanumGothic')\n",
        "\n",
        "# 한글 지원 폰트\n",
        "plt.rc('font', family='NanumBarunGothic')"
      ],
      "metadata": {
        "id": "7KTva0BJQ2RV"
      },
      "execution_count": null,
      "outputs": []
    },
    {
      "cell_type": "code",
      "source": [
        "# 해석결과 및 어텐션 맵 출력\n",
        "\n",
        "test = random.sample(test_kor, 5)\n",
        "\n",
        "for i in test:\n",
        "  print(translate(i, encoder, decoder))"
      ],
      "metadata": {
        "colab": {
          "base_uri": "https://localhost:8080/",
          "height": 1000
        },
        "id": "mcChd4LDSoUh",
        "outputId": "adc86ab8-a190-4df5-993b-73b1b8235744"
      },
      "execution_count": null,
      "outputs": [
        {
          "output_type": "stream",
          "name": "stdout",
          "text": [
            "Input: wtc 붕괴 모의실험 동영상은 유튜브에 지난 1일 등록된 후 1시간 만에 2000여 번의 조회수를 기록하며 20일 현지시간 을 기준 으로 총 조회수 12만 번을 기록하고 있다 .\n",
            "Predicted translation: the second temple was launched in the city s largest passenger jet that s been meditating daily . <end> \n"
          ]
        },
        {
          "output_type": "display_data",
          "data": {
            "text/plain": [
              "<Figure size 576x576 with 1 Axes>"
            ],
            "image/png": "[encoded data removed]"
          },
          "metadata": {
            "needs_background": "light"
          }
        },
        {
          "output_type": "stream",
          "name": "stdout",
          "text": [
            "None\n",
            "Input: 사망하거나 실종된 사람 중에는 , 일부 중국 국적의 노동자들을 포함하여 총 13명의 외국인 노동자와 임산부도 포함되어 있었다 .\n",
            "Predicted translation: some people are not a big names of the country . <end> \n"
          ]
        },
        {
          "output_type": "display_data",
          "data": {
            "text/plain": [
              "<Figure size 576x576 with 1 Axes>"
            ],
            "image/png": "[encoded data removed]"
          },
          "metadata": {
            "needs_background": "light"
          }
        },
        {
          "output_type": "stream",
          "name": "stdout",
          "text": [
            "None\n",
            "Input: 워터게이트 사건 당시 보수적인 fbi 부국장이었던 마크 펠트가 북부 캘리포니아에서 사망했습니다 .\n",
            "Predicted translation: the ap s arraignment in the cleveland museum in the cleveland man suspected north carolina jury has died in the cleveland man suspected north carolina jury has died in the cleveland man suspected north carolina jury has died in the \n"
          ]
        },
        {
          "output_type": "display_data",
          "data": {
            "text/plain": [
              "<Figure size 576x576 with 1 Axes>"
            ],
            "image/png": "[encoded data removed]"
          },
          "metadata": {
            "needs_background": "light"
          }
        },
        {
          "output_type": "stream",
          "name": "stdout",
          "text": [
            "None\n",
            "Input: 유엔주재 남아프리카공화국 대사인 두미사니 쿠말로는 유엔 안보리가 레바논에 특별법정을 세우는 것은 적절치 않다 고 말했다 .\n",
            "Predicted translation: the korea times reports the united nations have been spotlighted as a day after wwii , and the korea times reports the united nations have been spotlighted as a day after wwii , and the korea times reports the united \n"
          ]
        },
        {
          "output_type": "display_data",
          "data": {
            "text/plain": [
              "<Figure size 576x576 with 1 Axes>"
            ],
            "image/png": "[encoded data removed]"
          },
          "metadata": {
            "needs_background": "light"
          }
        },
        {
          "output_type": "stream",
          "name": "stdout",
          "text": [
            "None\n",
            "Input: 서울지방경찰청 외사과는 의뢰인들이 자신의 자식들이 캐나다에서 공부할 때 학비를 면제받으려는 의도로 이 같은 행위를 저질렀다고 밝혔다 .\n",
            "Predicted translation: it s not a big time <end> \n"
          ]
        },
        {
          "output_type": "display_data",
          "data": {
            "text/plain": [
              "<Figure size 576x576 with 1 Axes>"
            ],
            "image/png": "[encoded data removed]"
          },
          "metadata": {
            "needs_background": "light"
          }
        },
        {
          "output_type": "stream",
          "name": "stdout",
          "text": [
            "None\n"
          ]
        }
      ]
    },
    {
      "cell_type": "markdown",
      "source": [
        "# 추가적으로 해볼 수 있는 작업\n",
        "\n",
        "1. 기계 번역에 대한 성능을 측정하는 Bleu score 사용해보기\n",
        "\n",
        "[BLEU Score 소개](https://jrc-park.tistory.com/273)\n",
        "\n",
        "BLEU Score란?\n",
        "- Bilingual Evaluation Understudy의 약자로 생성된 번역문이 정답 문장이랑 단어가 어느정도 일치하는지 알 수 있는 것입니다. 기계 번역 task에서 자주 사용하는 평가 지표이다.\n",
        "\n",
        "![](https://img1.daumcdn.net/thumb/R1280x0/?scode=mtistory2&fname=https%3A%2F%2Fblog.kakaocdn.net%2Fdn%2FRCtWU%2FbtraiwW4bMF%2FryKJRXq2ArpFVvxBOeunr0%2Fimg.png)\n",
        "<center>BLEU설명</center>\n",
        "\n",
        "![]()\n",
        "<center></center>"
      ],
      "metadata": {
        "id": "O-H1zRabxHoy"
      }
    },
    {
      "cell_type": "code",
      "source": [
        "# BLEU score 라이브러리 불러오기\n",
        "\n",
        "from nltk.translate.bleu_score import sentence_bleu\n",
        "from nltk.translate.bleu_score import corpus_bleu"
      ],
      "metadata": {
        "id": "GTQDASmpzqnm"
      },
      "execution_count": null,
      "outputs": []
    },
    {
      "cell_type": "code",
      "source": [
        "# BLEU score 예시\n",
        "# reference : 실제 문장\n",
        "# candidate : 모델이 번역한 문장\n",
        "\n",
        "# 모든 문장을 split한다.\n",
        "\n",
        "reference = ['i took a hard test yesterday', 'yesterday i took a trcky test']\n",
        "reference = [s.split(' ') for s in reference]\n",
        "candidate = 'i took a difficult test yesterday'.split(' ')\n",
        "\n",
        "bleu_1gram = sentence_bleu(reference, candidate, weights=(1, 0, 0, 0))\n",
        "bleu_2gram = sentence_bleu(reference, candidate, weights=(0, 1, 0, 0))\n",
        "bleu_3gram = sentence_bleu(reference, candidate, weights=(0, 0, 1, 0))\n",
        "bleu_4gram = sentence_bleu(reference, candidate, weights=(0, 0, 0, 1))\n",
        "\n",
        "print(f'reference: {reference}')\n",
        "print(f'candidate: {candidate}')\n",
        "print(f'1-Gram BLEU: {bleu_1gram:.2f}')\n",
        "print(f'2-Gram BLEU: {bleu_2gram:.2f}')\n",
        "print(f'3-Gram BLEU: {bleu_3gram:.2f}')\n",
        "print(f'4-Gram BLEU: {bleu_4gram:.2f}')\n",
        "\n",
        "# 1-Gram BLEU을 해석해보면 candidate에서 reference와 겹치는 단어는 difficult를 제외한 전부이다.\n",
        "# 그러므로 일치하는 단어 / 기계 번역 전체 단어이므로 5/6 = 0.83이다."
      ],
      "metadata": {
        "colab": {
          "base_uri": "https://localhost:8080/"
        },
        "id": "LR3sImPzAYbZ",
        "outputId": "a2b601ee-3400-4002-fb34-9e6b94c4fa54"
      },
      "execution_count": null,
      "outputs": [
        {
          "output_type": "stream",
          "name": "stdout",
          "text": [
            "reference: [['i', 'took', 'a', 'hard', 'test', 'yesterday'], ['yesterday', 'i', 'took', 'a', 'trcky', 'test']]\n",
            "candidate: ['i', 'took', 'a', 'difficult', 'test', 'yesterday']\n",
            "1-Gram BLEU: 0.83\n",
            "2-Gram BLEU: 0.60\n",
            "3-Gram BLEU: 0.25\n",
            "4-Gram BLEU: 0.00\n"
          ]
        }
      ]
    },
    {
      "cell_type": "code",
      "source": [
        "# Attention Map 시각화를 제외하고 기계 번역 결과만 출력\n",
        "def translate_result_eng(sentence, encoder, decdoer):\n",
        "  result, sentence, attention = evaluate(sentence, encoder, decdoer)\n",
        "  # print('Predicted translation: {}'.format(result.split()))\n",
        "  return result.split()"
      ],
      "metadata": {
        "id": "h6iRcpHE987U"
      },
      "execution_count": null,
      "outputs": []
    },
    {
      "cell_type": "code",
      "source": [
        "# 번역 결과 출력\n",
        "gen_sentence = []\n",
        "test = enc_corpus[:10000]\n",
        "\n",
        "for i in test:\n",
        " gen_sentence.append(translate_result_eng(i, encoder, decoder))"
      ],
      "metadata": {
        "id": "ZKyXKDnd46D1"
      },
      "execution_count": null,
      "outputs": []
    },
    {
      "cell_type": "code",
      "source": [
        "# 생성 문장과 실제 문장 저장하기\n",
        "# 영어 문장은 전부 띄어쓰기를 기준으로 split된 것을 사용한다.\n",
        "\n",
        "real_sentence = sen_eng[:10000]\n",
        "bleu = corpus_bleu(real_sentence, gen_sentence, weights=(1,0,0,0))\n",
        "\n",
        "print(f'BLEU: {bleu_1gram:.4f}')\n",
        "\n",
        "# 점수를 해석하면 기계 번역과 실제 문장의 유사서을 약 11%라고 해석할 수 있다."
      ],
      "metadata": {
        "colab": {
          "base_uri": "https://localhost:8080/"
        },
        "id": "vKhHEG3wzweN",
        "outputId": "a81f8648-6554-409d-e2db-5ca8975c2885"
      },
      "execution_count": null,
      "outputs": [
        {
          "output_type": "stream",
          "name": "stdout",
          "text": [
            "BLEU: 0.1114\n"
          ]
        }
      ]
    },
    {
      "cell_type": "markdown",
      "source": [
        "# 회고"
      ],
      "metadata": {
        "id": "lX7qGW4XKysW"
      }
    },
    {
      "cell_type": "markdown",
      "source": [
        "1. 이번 프로젝트에서 어려웠던 점\n",
        " \n",
        " (1) 한국어 형태소를 문장에 적용하는 방법이 낯설어 힘들었습니다.\n",
        " - 매번 짜여진 코드를 쓰거나 keras.tokenizer를 쓰다보니 간단하게 한국어 형태소 분석기를 적용할 때 약간 어려움을 느꼈습니다.\n",
        "\n",
        " (2) 정교한 모델이 아니었기에 번역결과가 유사한 부분이 거의 없었습니다. \n",
        "- 문장을 일부만 추출하여 bleu score를 사용해보아지만 여전히 약 0.11이라는 낮은 점수를 보였습니다."
      ],
      "metadata": {
        "id": "ojmxzLRyK1cS"
      }
    },
    {
      "cell_type": "markdown",
      "source": [
        "2. 프로젝트를 진행하면서 알게된 부분 또는 아직 이해하지 못한 부분\n",
        "\n",
        "(1) 좀 더 다양한 정규표현식 방법을 사용하게됐습니다.\n",
        "- 이전에 했던 내용에 더해서 http 링크, 유니코드, 특정 문자가 포함된 전체 문장 삭제 등 정규표현식을 사용하여 시도했습니다.\n",
        "- 이번 분석에는 사용하지 않았지만 중국어 및 일본어만 삭제하는 정규표현식도 알게 됐습니다.\n",
        "\n",
        "(2) 자연어처리 평가지표 : Bleu score\n",
        "- 저번에 사용한 Rouge socre말고 이번에는 Bleu score를 사용해보았습니다.\n",
        "- 기계 번역에서 모델이 번역한 문장과 실제 번역문을 단어 단위로 나눠 어느정도의 유사성을 가지고 있는지 알 수 있는 방식입니다.\n",
        "\n",
        "\n",
        "\n",
        "\n",
        "\n",
        "\n",
        "\n"
      ],
      "metadata": {
        "id": "cMgNvnfQLhyy"
      }
    },
    {
      "cell_type": "markdown",
      "source": [
        "참조\n",
        "\n",
        "(1) [BLEU score 참고 1](http://incredible.ai/nlp/2020/02/29/BLEU/)\n",
        "\n",
        "(2) [BLEU score 참고 2](https://jrc-park.tistory.com/273)\n",
        "\n"
      ],
      "metadata": {
        "id": "xWtviva-f2gG"
      }
    }
  ]
}