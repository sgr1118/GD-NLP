{
  "nbformat": 4,
  "nbformat_minor": 0,
  "metadata": {
    "colab": {
      "provenance": [],
      "collapsed_sections": [],
      "machine_shape": "hm",
      "authorship_tag": "ABX9TyMoC5QQ6kfzOtzYwUMFQXNs",
      "include_colab_link": true
    },
    "kernelspec": {
      "name": "python3",
      "display_name": "Python 3"
    },
    "language_info": {
      "name": "python"
    },
    "accelerator": "GPU"
  },
  "cells": [
    {
      "cell_type": "markdown",
      "metadata": {
        "id": "view-in-github",
        "colab_type": "text"
      },
      "source": [
        "<a href=\"https://colab.research.google.com/github/sgr1118/GD-NLP/blob/main/%5BGD2_Use_SentencePiece%5D.ipynb\" target=\"_parent\"><img src=\"https://colab.research.google.com/assets/colab-badge.svg\" alt=\"Open In Colab\"/></a>"
      ]
    },
    {
      "cell_type": "markdown",
      "source": [
        "# 2-5. 프로젝트: SentencePiece 사용하기"
      ],
      "metadata": {
        "id": "yWcuRbb9eSo2"
      }
    },
    {
      "cell_type": "code",
      "source": [
        "from google.colab import drive\n",
        "drive.mount('/content/drive')"
      ],
      "metadata": {
        "colab": {
          "base_uri": "https://localhost:8080/"
        },
        "id": "CHaPzOWm7JLK",
        "outputId": "160dfd9e-98dc-42fb-b608-578956642fbf"
      },
      "execution_count": 251,
      "outputs": [
        {
          "output_type": "stream",
          "name": "stdout",
          "text": [
            "Mounted at /content/drive\n"
          ]
        }
      ]
    },
    {
      "cell_type": "markdown",
      "source": [
        "# 네이버 영화리뷰 감정 분석 문제에 SentencePiece 적용해 보기\n",
        "\n",
        "[**네이버 영화리뷰 감정 분석 태스크**](https://github.com/e9t/nsmc/)가 있습니다. 한국어로 된 corpus를 다루어야 하므로 주로 KoNLPy에서 제공하는 형태소 분석기를 사용하여 텍스트를 전처리해서 RNN 모델을 분류기로 사용하게 되는데요.\n",
        "\n",
        "만약 이 문제에서 tokenizer를 SentencePiece로 바꾸어 다시 풀어본다면 더 성능이 좋아질까요? KoNLPy에 있는 Mecab, kkma, Okt 등과 비교해보세요.\n",
        "\n",
        "- 네이버 영화리뷰 감정 분석 코퍼스에 SentencePiece를 적용시킨 모델 학습하기\n",
        "- 학습된 모델로 sp_tokenize() 메소드 구현하기\n",
        "- 구현된 토크나이저를 적용하여 네이버 영화리뷰 감정 분석 모델을 재학습하기\n",
        "- KoNLPy 형태소 분석기를 사용한 모델과 성능 비교하기\n",
        "- SentencePiece 모델의 model_type, vocab_size 등을 변경해 가면서 성능 개선 여부 확인하기\n",
        "\n",
        "Word Vector는 활용할 필요가 없습니다. 활용이 가능하지도 않을 것입니다."
      ],
      "metadata": {
        "id": "svlj3usdJS2p"
      }
    },
    {
      "cell_type": "code",
      "source": [
        "!curl -s https://raw.githubusercontent.com/teddylee777/machine-learning/master/99-Misc/01-Colab/mecab-colab.sh | bash"
      ],
      "metadata": {
        "id": "4rJxwhwL8wad"
      },
      "execution_count": null,
      "outputs": []
    },
    {
      "cell_type": "code",
      "source": [
        "# 필요한 라이브러리 및 데이터 불러오기\n",
        "import pandas as pd\n",
        "import konlpy\n",
        "import re\n",
        "import matplotlib.pyplot as plt\n",
        "import urllib.request\n",
        "import numpy as np\n",
        "\n",
        "%matplotlib inline\n",
        "\n",
        "urllib.request.urlretrieve(\"https://raw.githubusercontent.com/e9t/nsmc/master/ratings.txt\", filename=\"ratings.txt\")\n",
        "df = pd.read_table('ratings.txt')\n",
        "df.head()"
      ],
      "metadata": {
        "colab": {
          "base_uri": "https://localhost:8080/",
          "height": 206
        },
        "id": "NreRDMpJdc-p",
        "outputId": "771bd0c8-8c72-4bc3-b839-52431310ed6c"
      },
      "execution_count": 232,
      "outputs": [
        {
          "output_type": "execute_result",
          "data": {
            "text/plain": [
              "         id                                           document  label\n",
              "0   8112052                                어릴때보고 지금다시봐도 재밌어요ㅋㅋ      1\n",
              "1   8132799  디자인을 배우는 학생으로, 외국디자이너와 그들이 일군 전통을 통해 발전해가는 문화산...      1\n",
              "2   4655635               폴리스스토리 시리즈는 1부터 뉴까지 버릴께 하나도 없음.. 최고.      1\n",
              "3   9251303  와.. 연기가 진짜 개쩔구나.. 지루할거라고 생각했는데 몰입해서 봤다.. 그래 이런...      1\n",
              "4  10067386                        안개 자욱한 밤하늘에 떠 있는 초승달 같은 영화.      1"
            ],
            "text/html": [
              "\n",
              "  <div id=\"df-9d9aada5-916e-4992-9bd2-94da1b36343f\">\n",
              "    <div class=\"colab-df-container\">\n",
              "      <div>\n",
              "<style scoped>\n",
              "    .dataframe tbody tr th:only-of-type {\n",
              "        vertical-align: middle;\n",
              "    }\n",
              "\n",
              "    .dataframe tbody tr th {\n",
              "        vertical-align: top;\n",
              "    }\n",
              "\n",
              "    .dataframe thead th {\n",
              "        text-align: right;\n",
              "    }\n",
              "</style>\n",
              "<table border=\"1\" class=\"dataframe\">\n",
              "  <thead>\n",
              "    <tr style=\"text-align: right;\">\n",
              "      <th></th>\n",
              "      <th>id</th>\n",
              "      <th>document</th>\n",
              "      <th>label</th>\n",
              "    </tr>\n",
              "  </thead>\n",
              "  <tbody>\n",
              "    <tr>\n",
              "      <th>0</th>\n",
              "      <td>8112052</td>\n",
              "      <td>어릴때보고 지금다시봐도 재밌어요ㅋㅋ</td>\n",
              "      <td>1</td>\n",
              "    </tr>\n",
              "    <tr>\n",
              "      <th>1</th>\n",
              "      <td>8132799</td>\n",
              "      <td>디자인을 배우는 학생으로, 외국디자이너와 그들이 일군 전통을 통해 발전해가는 문화산...</td>\n",
              "      <td>1</td>\n",
              "    </tr>\n",
              "    <tr>\n",
              "      <th>2</th>\n",
              "      <td>4655635</td>\n",
              "      <td>폴리스스토리 시리즈는 1부터 뉴까지 버릴께 하나도 없음.. 최고.</td>\n",
              "      <td>1</td>\n",
              "    </tr>\n",
              "    <tr>\n",
              "      <th>3</th>\n",
              "      <td>9251303</td>\n",
              "      <td>와.. 연기가 진짜 개쩔구나.. 지루할거라고 생각했는데 몰입해서 봤다.. 그래 이런...</td>\n",
              "      <td>1</td>\n",
              "    </tr>\n",
              "    <tr>\n",
              "      <th>4</th>\n",
              "      <td>10067386</td>\n",
              "      <td>안개 자욱한 밤하늘에 떠 있는 초승달 같은 영화.</td>\n",
              "      <td>1</td>\n",
              "    </tr>\n",
              "  </tbody>\n",
              "</table>\n",
              "</div>\n",
              "      <button class=\"colab-df-convert\" onclick=\"convertToInteractive('df-9d9aada5-916e-4992-9bd2-94da1b36343f')\"\n",
              "              title=\"Convert this dataframe to an interactive table.\"\n",
              "              style=\"display:none;\">\n",
              "        \n",
              "  <svg xmlns=\"http://www.w3.org/2000/svg\" height=\"24px\"viewBox=\"0 0 24 24\"\n",
              "       width=\"24px\">\n",
              "    <path d=\"M0 0h24v24H0V0z\" fill=\"none\"/>\n",
              "    <path d=\"M18.56 5.44l.94 2.06.94-2.06 2.06-.94-2.06-.94-.94-2.06-.94 2.06-2.06.94zm-11 1L8.5 8.5l.94-2.06 2.06-.94-2.06-.94L8.5 2.5l-.94 2.06-2.06.94zm10 10l.94 2.06.94-2.06 2.06-.94-2.06-.94-.94-2.06-.94 2.06-2.06.94z\"/><path d=\"M17.41 7.96l-1.37-1.37c-.4-.4-.92-.59-1.43-.59-.52 0-1.04.2-1.43.59L10.3 9.45l-7.72 7.72c-.78.78-.78 2.05 0 2.83L4 21.41c.39.39.9.59 1.41.59.51 0 1.02-.2 1.41-.59l7.78-7.78 2.81-2.81c.8-.78.8-2.07 0-2.86zM5.41 20L4 18.59l7.72-7.72 1.47 1.35L5.41 20z\"/>\n",
              "  </svg>\n",
              "      </button>\n",
              "      \n",
              "  <style>\n",
              "    .colab-df-container {\n",
              "      display:flex;\n",
              "      flex-wrap:wrap;\n",
              "      gap: 12px;\n",
              "    }\n",
              "\n",
              "    .colab-df-convert {\n",
              "      background-color: #E8F0FE;\n",
              "      border: none;\n",
              "      border-radius: 50%;\n",
              "      cursor: pointer;\n",
              "      display: none;\n",
              "      fill: #1967D2;\n",
              "      height: 32px;\n",
              "      padding: 0 0 0 0;\n",
              "      width: 32px;\n",
              "    }\n",
              "\n",
              "    .colab-df-convert:hover {\n",
              "      background-color: #E2EBFA;\n",
              "      box-shadow: 0px 1px 2px rgba(60, 64, 67, 0.3), 0px 1px 3px 1px rgba(60, 64, 67, 0.15);\n",
              "      fill: #174EA6;\n",
              "    }\n",
              "\n",
              "    [theme=dark] .colab-df-convert {\n",
              "      background-color: #3B4455;\n",
              "      fill: #D2E3FC;\n",
              "    }\n",
              "\n",
              "    [theme=dark] .colab-df-convert:hover {\n",
              "      background-color: #434B5C;\n",
              "      box-shadow: 0px 1px 3px 1px rgba(0, 0, 0, 0.15);\n",
              "      filter: drop-shadow(0px 1px 2px rgba(0, 0, 0, 0.3));\n",
              "      fill: #FFFFFF;\n",
              "    }\n",
              "  </style>\n",
              "\n",
              "      <script>\n",
              "        const buttonEl =\n",
              "          document.querySelector('#df-9d9aada5-916e-4992-9bd2-94da1b36343f button.colab-df-convert');\n",
              "        buttonEl.style.display =\n",
              "          google.colab.kernel.accessAllowed ? 'block' : 'none';\n",
              "\n",
              "        async function convertToInteractive(key) {\n",
              "          const element = document.querySelector('#df-9d9aada5-916e-4992-9bd2-94da1b36343f');\n",
              "          const dataTable =\n",
              "            await google.colab.kernel.invokeFunction('convertToInteractive',\n",
              "                                                     [key], {});\n",
              "          if (!dataTable) return;\n",
              "\n",
              "          const docLinkHtml = 'Like what you see? Visit the ' +\n",
              "            '<a target=\"_blank\" href=https://colab.research.google.com/notebooks/data_table.ipynb>data table notebook</a>'\n",
              "            + ' to learn more about interactive tables.';\n",
              "          element.innerHTML = '';\n",
              "          dataTable['output_type'] = 'display_data';\n",
              "          await google.colab.output.renderOutput(dataTable, element);\n",
              "          const docLink = document.createElement('div');\n",
              "          docLink.innerHTML = docLinkHtml;\n",
              "          element.appendChild(docLink);\n",
              "        }\n",
              "      </script>\n",
              "    </div>\n",
              "  </div>\n",
              "  "
            ]
          },
          "metadata": {},
          "execution_count": 232
        }
      ]
    },
    {
      "cell_type": "code",
      "source": [
        "df.loc[143498]"
      ],
      "metadata": {
        "colab": {
          "base_uri": "https://localhost:8080/"
        },
        "id": "Yfc8S8gsHS-R",
        "outputId": "3e47a9b9-3522-4efc-c7cc-24d8db947412"
      },
      "execution_count": 233,
      "outputs": [
        {
          "output_type": "execute_result",
          "data": {
            "text/plain": [
              "id                                                    7029559\n",
              "document    후................................................\n",
              "label                                                       0\n",
              "Name: 143498, dtype: object"
            ]
          },
          "metadata": {},
          "execution_count": 233
        }
      ]
    },
    {
      "cell_type": "code",
      "source": [
        "df.sample(10)"
      ],
      "metadata": {
        "colab": {
          "base_uri": "https://localhost:8080/",
          "height": 363
        },
        "id": "jZzww6GN35Ob",
        "outputId": "37c8a543-7acd-4290-b737-574ea97dd108"
      },
      "execution_count": 196,
      "outputs": [
        {
          "output_type": "execute_result",
          "data": {
            "text/plain": [
              "              id                                           document  label\n",
              "173727   8309267  안봐도 내용뻔히보이는막장드라마~!! 이드라마보다가 며칠안보고있는데~은희수 OOOO~...      0\n",
              "52978    8054922  개인적으로 손빈이라는 인물을 존경하기도 하고, 배우들이 인물들을 잘 표현해줘서 재밌...      1\n",
              "149149   7412584                        이거 왜이러케 평점이 높냐 말도안되게 짜 맞췄던데      0\n",
              "86779    5427082                     어느 OO들이 이거 보면서 초딩만화라고 욕하냐 OO들이      1\n",
              "74084    9859888  다른 사람으로 살고 싶다는 생각을 저도 참 많이 했어서 그런지 간만에 집중해서 본 ...      1\n",
              "94779   10178774                         마지막에 성모 마리아를 찾아내는 장면은 정말..      1\n",
              "66457    9692838                                      영화 잘 만들었네요...      1\n",
              "34911    9464344                    끝난지 오래 되었지만..아직까지 헤어나오지 못한 1인..      1\n",
              "176125   8512096  83분동안 개콘 홍보영화 봤다 그리고 김원효 너는 만화 더빙 진짜 그만둬라 벌써 3...      0\n",
              "113340   6736228  댓글 두번째인가.. 이 영화 전쟁씬 대박임 꼭 보셈 무슨 지적장애아들 모아놓고 전쟁...      0"
            ],
            "text/html": [
              "\n",
              "  <div id=\"df-e1041609-b8e6-4d4b-9715-f32e30b8f902\">\n",
              "    <div class=\"colab-df-container\">\n",
              "      <div>\n",
              "<style scoped>\n",
              "    .dataframe tbody tr th:only-of-type {\n",
              "        vertical-align: middle;\n",
              "    }\n",
              "\n",
              "    .dataframe tbody tr th {\n",
              "        vertical-align: top;\n",
              "    }\n",
              "\n",
              "    .dataframe thead th {\n",
              "        text-align: right;\n",
              "    }\n",
              "</style>\n",
              "<table border=\"1\" class=\"dataframe\">\n",
              "  <thead>\n",
              "    <tr style=\"text-align: right;\">\n",
              "      <th></th>\n",
              "      <th>id</th>\n",
              "      <th>document</th>\n",
              "      <th>label</th>\n",
              "    </tr>\n",
              "  </thead>\n",
              "  <tbody>\n",
              "    <tr>\n",
              "      <th>173727</th>\n",
              "      <td>8309267</td>\n",
              "      <td>안봐도 내용뻔히보이는막장드라마~!! 이드라마보다가 며칠안보고있는데~은희수 OOOO~...</td>\n",
              "      <td>0</td>\n",
              "    </tr>\n",
              "    <tr>\n",
              "      <th>52978</th>\n",
              "      <td>8054922</td>\n",
              "      <td>개인적으로 손빈이라는 인물을 존경하기도 하고, 배우들이 인물들을 잘 표현해줘서 재밌...</td>\n",
              "      <td>1</td>\n",
              "    </tr>\n",
              "    <tr>\n",
              "      <th>149149</th>\n",
              "      <td>7412584</td>\n",
              "      <td>이거 왜이러케 평점이 높냐 말도안되게 짜 맞췄던데</td>\n",
              "      <td>0</td>\n",
              "    </tr>\n",
              "    <tr>\n",
              "      <th>86779</th>\n",
              "      <td>5427082</td>\n",
              "      <td>어느 OO들이 이거 보면서 초딩만화라고 욕하냐 OO들이</td>\n",
              "      <td>1</td>\n",
              "    </tr>\n",
              "    <tr>\n",
              "      <th>74084</th>\n",
              "      <td>9859888</td>\n",
              "      <td>다른 사람으로 살고 싶다는 생각을 저도 참 많이 했어서 그런지 간만에 집중해서 본 ...</td>\n",
              "      <td>1</td>\n",
              "    </tr>\n",
              "    <tr>\n",
              "      <th>94779</th>\n",
              "      <td>10178774</td>\n",
              "      <td>마지막에 성모 마리아를 찾아내는 장면은 정말..</td>\n",
              "      <td>1</td>\n",
              "    </tr>\n",
              "    <tr>\n",
              "      <th>66457</th>\n",
              "      <td>9692838</td>\n",
              "      <td>영화 잘 만들었네요...</td>\n",
              "      <td>1</td>\n",
              "    </tr>\n",
              "    <tr>\n",
              "      <th>34911</th>\n",
              "      <td>9464344</td>\n",
              "      <td>끝난지 오래 되었지만..아직까지 헤어나오지 못한 1인..</td>\n",
              "      <td>1</td>\n",
              "    </tr>\n",
              "    <tr>\n",
              "      <th>176125</th>\n",
              "      <td>8512096</td>\n",
              "      <td>83분동안 개콘 홍보영화 봤다 그리고 김원효 너는 만화 더빙 진짜 그만둬라 벌써 3...</td>\n",
              "      <td>0</td>\n",
              "    </tr>\n",
              "    <tr>\n",
              "      <th>113340</th>\n",
              "      <td>6736228</td>\n",
              "      <td>댓글 두번째인가.. 이 영화 전쟁씬 대박임 꼭 보셈 무슨 지적장애아들 모아놓고 전쟁...</td>\n",
              "      <td>0</td>\n",
              "    </tr>\n",
              "  </tbody>\n",
              "</table>\n",
              "</div>\n",
              "      <button class=\"colab-df-convert\" onclick=\"convertToInteractive('df-e1041609-b8e6-4d4b-9715-f32e30b8f902')\"\n",
              "              title=\"Convert this dataframe to an interactive table.\"\n",
              "              style=\"display:none;\">\n",
              "        \n",
              "  <svg xmlns=\"http://www.w3.org/2000/svg\" height=\"24px\"viewBox=\"0 0 24 24\"\n",
              "       width=\"24px\">\n",
              "    <path d=\"M0 0h24v24H0V0z\" fill=\"none\"/>\n",
              "    <path d=\"M18.56 5.44l.94 2.06.94-2.06 2.06-.94-2.06-.94-.94-2.06-.94 2.06-2.06.94zm-11 1L8.5 8.5l.94-2.06 2.06-.94-2.06-.94L8.5 2.5l-.94 2.06-2.06.94zm10 10l.94 2.06.94-2.06 2.06-.94-2.06-.94-.94-2.06-.94 2.06-2.06.94z\"/><path d=\"M17.41 7.96l-1.37-1.37c-.4-.4-.92-.59-1.43-.59-.52 0-1.04.2-1.43.59L10.3 9.45l-7.72 7.72c-.78.78-.78 2.05 0 2.83L4 21.41c.39.39.9.59 1.41.59.51 0 1.02-.2 1.41-.59l7.78-7.78 2.81-2.81c.8-.78.8-2.07 0-2.86zM5.41 20L4 18.59l7.72-7.72 1.47 1.35L5.41 20z\"/>\n",
              "  </svg>\n",
              "      </button>\n",
              "      \n",
              "  <style>\n",
              "    .colab-df-container {\n",
              "      display:flex;\n",
              "      flex-wrap:wrap;\n",
              "      gap: 12px;\n",
              "    }\n",
              "\n",
              "    .colab-df-convert {\n",
              "      background-color: #E8F0FE;\n",
              "      border: none;\n",
              "      border-radius: 50%;\n",
              "      cursor: pointer;\n",
              "      display: none;\n",
              "      fill: #1967D2;\n",
              "      height: 32px;\n",
              "      padding: 0 0 0 0;\n",
              "      width: 32px;\n",
              "    }\n",
              "\n",
              "    .colab-df-convert:hover {\n",
              "      background-color: #E2EBFA;\n",
              "      box-shadow: 0px 1px 2px rgba(60, 64, 67, 0.3), 0px 1px 3px 1px rgba(60, 64, 67, 0.15);\n",
              "      fill: #174EA6;\n",
              "    }\n",
              "\n",
              "    [theme=dark] .colab-df-convert {\n",
              "      background-color: #3B4455;\n",
              "      fill: #D2E3FC;\n",
              "    }\n",
              "\n",
              "    [theme=dark] .colab-df-convert:hover {\n",
              "      background-color: #434B5C;\n",
              "      box-shadow: 0px 1px 3px 1px rgba(0, 0, 0, 0.15);\n",
              "      filter: drop-shadow(0px 1px 2px rgba(0, 0, 0, 0.3));\n",
              "      fill: #FFFFFF;\n",
              "    }\n",
              "  </style>\n",
              "\n",
              "      <script>\n",
              "        const buttonEl =\n",
              "          document.querySelector('#df-e1041609-b8e6-4d4b-9715-f32e30b8f902 button.colab-df-convert');\n",
              "        buttonEl.style.display =\n",
              "          google.colab.kernel.accessAllowed ? 'block' : 'none';\n",
              "\n",
              "        async function convertToInteractive(key) {\n",
              "          const element = document.querySelector('#df-e1041609-b8e6-4d4b-9715-f32e30b8f902');\n",
              "          const dataTable =\n",
              "            await google.colab.kernel.invokeFunction('convertToInteractive',\n",
              "                                                     [key], {});\n",
              "          if (!dataTable) return;\n",
              "\n",
              "          const docLinkHtml = 'Like what you see? Visit the ' +\n",
              "            '<a target=\"_blank\" href=https://colab.research.google.com/notebooks/data_table.ipynb>data table notebook</a>'\n",
              "            + ' to learn more about interactive tables.';\n",
              "          element.innerHTML = '';\n",
              "          dataTable['output_type'] = 'display_data';\n",
              "          await google.colab.output.renderOutput(dataTable, element);\n",
              "          const docLink = document.createElement('div');\n",
              "          docLink.innerHTML = docLinkHtml;\n",
              "          element.appendChild(docLink);\n",
              "        }\n",
              "      </script>\n",
              "    </div>\n",
              "  </div>\n",
              "  "
            ]
          },
          "metadata": {},
          "execution_count": 196
        }
      ]
    },
    {
      "cell_type": "markdown",
      "source": [
        "# 전처리 수행\n",
        "\n",
        "1. 결측치, 중복값 확인 후 제거\n",
        "\n",
        "2. 정규표현식을 사용하여 문장 데이터 전처리\n",
        "\n",
        "3. df의 ducument column의 데이터 길이 분포 확인\n",
        " - 너무 짧은 리뷰는 추출 후 삭제"
      ],
      "metadata": {
        "id": "6GNr7_QVe6xD"
      }
    },
    {
      "cell_type": "markdown",
      "source": [
        "1. 결측치, 중복값 확인 후 제거"
      ],
      "metadata": {
        "id": "fRvtkSSTqXpq"
      }
    },
    {
      "cell_type": "code",
      "source": [
        "# 데이터 결측치 확인\n",
        "print(df.isnull().sum())"
      ],
      "metadata": {
        "colab": {
          "base_uri": "https://localhost:8080/"
        },
        "id": "pEirrHelfIxT",
        "outputId": "f1ab3ad5-ab78-4068-c0ca-57883b628eef"
      },
      "execution_count": 197,
      "outputs": [
        {
          "output_type": "stream",
          "name": "stdout",
          "text": [
            "id          0\n",
            "document    8\n",
            "label       0\n",
            "dtype: int64\n"
          ]
        }
      ]
    },
    {
      "cell_type": "code",
      "source": [
        "# 데이터 중복값 확인\n",
        "print(df.duplicated(subset='document', keep='first').sum())\n",
        "# keep = 'first'는 중복이 있으면 처음과 마지막 값 중 처음값을 남긴다."
      ],
      "metadata": {
        "colab": {
          "base_uri": "https://localhost:8080/"
        },
        "id": "Egj-GA3Rfmfz",
        "outputId": "3411ff4f-7806-4f0a-ca79-aa2ea71966ec"
      },
      "execution_count": 234,
      "outputs": [
        {
          "output_type": "stream",
          "name": "stdout",
          "text": [
            "5456\n"
          ]
        }
      ]
    },
    {
      "cell_type": "code",
      "source": [
        "# 결측치, 중복값 제거\n",
        "def preprocessing(df):\n",
        "  df.drop_duplicates(subset=['document'], inplace=True)\n",
        "  df = df.dropna(how = 'any', inplace=True)\n",
        "\n",
        "preprocessing(df)"
      ],
      "metadata": {
        "id": "doeq6RQHltlo"
      },
      "execution_count": 235,
      "outputs": []
    },
    {
      "cell_type": "code",
      "source": [
        "# 전처리 결과 확인\n",
        "print(df.isnull().sum())\n",
        "print(df.duplicated(subset='document', keep='first').sum())\n",
        "print(len(df))"
      ],
      "metadata": {
        "colab": {
          "base_uri": "https://localhost:8080/"
        },
        "id": "8fhGoyqHmEiQ",
        "outputId": "db113f58-efad-46ca-d13e-05ab1e789882"
      },
      "execution_count": 200,
      "outputs": [
        {
          "output_type": "stream",
          "name": "stdout",
          "text": [
            "id          0\n",
            "document    0\n",
            "label       0\n",
            "dtype: int64\n",
            "0\n",
            "194543\n"
          ]
        }
      ]
    },
    {
      "cell_type": "markdown",
      "source": [
        "2. 정규표현식을 사용하여 문장 데이터 전처리"
      ],
      "metadata": {
        "id": "78S2aNCwqbrs"
      }
    },
    {
      "cell_type": "code",
      "source": [
        "# df로부터 document추출\n",
        "df_review = df['document']"
      ],
      "metadata": {
        "id": "7OVIjpEUmfp6"
      },
      "execution_count": 236,
      "outputs": []
    },
    {
      "cell_type": "code",
      "source": [
        "def preprocess_sentence(sentence):\n",
        "  sentence = sentence.str.lower() # 텍스트 소문자화\n",
        "  sentence = sentence.str.replace(pat=r'[ㄱ-ㅎㅏ-ㅣa-z?.!,¿]{1}', repl=' ', regex=True) # 연속적인 구두점, 자음, 알파벳 지우기\n",
        "  sentence = sentence.str.replace(pat= r'([?.!,¿])', repl=r' \\1', regex=True) #  구두점 분리\n",
        "  sentence = sentence.str.replace(pat=r'[^ㄱ-ㅎㅏ-ㅣ가-힣0-9a-z!.?]+', repl =\" \",regex=True) # 0-9ㄱ-ㅎㅏ-ㅣ가-힣a-z!.?가 아닌 모든 문자를 하나의 공백으로 바꿉니다\n",
        "  #sentence = sentence.str.replace(pat=r'[ㄱ-ㅎㅏ-ㅣ!?.a-z]{1}', repl=' ', regex=True) \n",
        "  \n",
        "  return sentence"
      ],
      "metadata": {
        "id": "Y37e4N9gqVIv"
      },
      "execution_count": 237,
      "outputs": []
    },
    {
      "cell_type": "code",
      "source": [
        "df['document'] = preprocess_sentence(df_review)"
      ],
      "metadata": {
        "id": "gq_A6FJUrlgU"
      },
      "execution_count": 238,
      "outputs": []
    },
    {
      "cell_type": "code",
      "source": [
        "# 결과확인\n",
        "df.sample(10)"
      ],
      "metadata": {
        "colab": {
          "base_uri": "https://localhost:8080/",
          "height": 363
        },
        "id": "nUXzA5hir1uO",
        "outputId": "6bf45ab4-9804-4251-cfde-2fc970901100"
      },
      "execution_count": 228,
      "outputs": [
        {
          "output_type": "execute_result",
          "data": {
            "text/plain": [
              "             id                                 document  label\n",
              "41957   9082146  처음엔 못 미덥던 사람들이 신조를 잇고 철옹성같던 사람들은 약해지네요       1\n",
              "119112  8700636          내용이 너무 지루해요 7살아듵과 봤는데 재미없다고 하네요      0\n",
              "49565   9087505            캐러비안의 해적을 중심으로 모든 해적물은 비교받게된다      1\n",
              "51301   1999985                  앤디가르시아의 눈물 맥라이언의 사랑스러움       1\n",
              "190056  6845230                     멍청이들 땜에 짜증나서 스킵해서 봤다      0\n",
              "15611   7868198                                               1\n",
              "192198  8212516                         별로 최악의 영화다 보지 말길      0\n",
              "100482  2417339     새로운 척 하지만 식상해 표피만 있는 겉멋용 영화 이젠 정말 싫다      0\n",
              "101679  7617855                                       허접      0\n",
              "122359  3246673                   영화는 정말 짧지만 지루하기만 했던 시간      0"
            ],
            "text/html": [
              "\n",
              "  <div id=\"df-4afdf802-d763-45be-8fb5-01a60111c6b7\">\n",
              "    <div class=\"colab-df-container\">\n",
              "      <div>\n",
              "<style scoped>\n",
              "    .dataframe tbody tr th:only-of-type {\n",
              "        vertical-align: middle;\n",
              "    }\n",
              "\n",
              "    .dataframe tbody tr th {\n",
              "        vertical-align: top;\n",
              "    }\n",
              "\n",
              "    .dataframe thead th {\n",
              "        text-align: right;\n",
              "    }\n",
              "</style>\n",
              "<table border=\"1\" class=\"dataframe\">\n",
              "  <thead>\n",
              "    <tr style=\"text-align: right;\">\n",
              "      <th></th>\n",
              "      <th>id</th>\n",
              "      <th>document</th>\n",
              "      <th>label</th>\n",
              "    </tr>\n",
              "  </thead>\n",
              "  <tbody>\n",
              "    <tr>\n",
              "      <th>41957</th>\n",
              "      <td>9082146</td>\n",
              "      <td>처음엔 못 미덥던 사람들이 신조를 잇고 철옹성같던 사람들은 약해지네요</td>\n",
              "      <td>1</td>\n",
              "    </tr>\n",
              "    <tr>\n",
              "      <th>119112</th>\n",
              "      <td>8700636</td>\n",
              "      <td>내용이 너무 지루해요 7살아듵과 봤는데 재미없다고 하네요</td>\n",
              "      <td>0</td>\n",
              "    </tr>\n",
              "    <tr>\n",
              "      <th>49565</th>\n",
              "      <td>9087505</td>\n",
              "      <td>캐러비안의 해적을 중심으로 모든 해적물은 비교받게된다</td>\n",
              "      <td>1</td>\n",
              "    </tr>\n",
              "    <tr>\n",
              "      <th>51301</th>\n",
              "      <td>1999985</td>\n",
              "      <td>앤디가르시아의 눈물 맥라이언의 사랑스러움</td>\n",
              "      <td>1</td>\n",
              "    </tr>\n",
              "    <tr>\n",
              "      <th>190056</th>\n",
              "      <td>6845230</td>\n",
              "      <td>멍청이들 땜에 짜증나서 스킵해서 봤다</td>\n",
              "      <td>0</td>\n",
              "    </tr>\n",
              "    <tr>\n",
              "      <th>15611</th>\n",
              "      <td>7868198</td>\n",
              "      <td></td>\n",
              "      <td>1</td>\n",
              "    </tr>\n",
              "    <tr>\n",
              "      <th>192198</th>\n",
              "      <td>8212516</td>\n",
              "      <td>별로 최악의 영화다 보지 말길</td>\n",
              "      <td>0</td>\n",
              "    </tr>\n",
              "    <tr>\n",
              "      <th>100482</th>\n",
              "      <td>2417339</td>\n",
              "      <td>새로운 척 하지만 식상해 표피만 있는 겉멋용 영화 이젠 정말 싫다</td>\n",
              "      <td>0</td>\n",
              "    </tr>\n",
              "    <tr>\n",
              "      <th>101679</th>\n",
              "      <td>7617855</td>\n",
              "      <td>허접</td>\n",
              "      <td>0</td>\n",
              "    </tr>\n",
              "    <tr>\n",
              "      <th>122359</th>\n",
              "      <td>3246673</td>\n",
              "      <td>영화는 정말 짧지만 지루하기만 했던 시간</td>\n",
              "      <td>0</td>\n",
              "    </tr>\n",
              "  </tbody>\n",
              "</table>\n",
              "</div>\n",
              "      <button class=\"colab-df-convert\" onclick=\"convertToInteractive('df-4afdf802-d763-45be-8fb5-01a60111c6b7')\"\n",
              "              title=\"Convert this dataframe to an interactive table.\"\n",
              "              style=\"display:none;\">\n",
              "        \n",
              "  <svg xmlns=\"http://www.w3.org/2000/svg\" height=\"24px\"viewBox=\"0 0 24 24\"\n",
              "       width=\"24px\">\n",
              "    <path d=\"M0 0h24v24H0V0z\" fill=\"none\"/>\n",
              "    <path d=\"M18.56 5.44l.94 2.06.94-2.06 2.06-.94-2.06-.94-.94-2.06-.94 2.06-2.06.94zm-11 1L8.5 8.5l.94-2.06 2.06-.94-2.06-.94L8.5 2.5l-.94 2.06-2.06.94zm10 10l.94 2.06.94-2.06 2.06-.94-2.06-.94-.94-2.06-.94 2.06-2.06.94z\"/><path d=\"M17.41 7.96l-1.37-1.37c-.4-.4-.92-.59-1.43-.59-.52 0-1.04.2-1.43.59L10.3 9.45l-7.72 7.72c-.78.78-.78 2.05 0 2.83L4 21.41c.39.39.9.59 1.41.59.51 0 1.02-.2 1.41-.59l7.78-7.78 2.81-2.81c.8-.78.8-2.07 0-2.86zM5.41 20L4 18.59l7.72-7.72 1.47 1.35L5.41 20z\"/>\n",
              "  </svg>\n",
              "      </button>\n",
              "      \n",
              "  <style>\n",
              "    .colab-df-container {\n",
              "      display:flex;\n",
              "      flex-wrap:wrap;\n",
              "      gap: 12px;\n",
              "    }\n",
              "\n",
              "    .colab-df-convert {\n",
              "      background-color: #E8F0FE;\n",
              "      border: none;\n",
              "      border-radius: 50%;\n",
              "      cursor: pointer;\n",
              "      display: none;\n",
              "      fill: #1967D2;\n",
              "      height: 32px;\n",
              "      padding: 0 0 0 0;\n",
              "      width: 32px;\n",
              "    }\n",
              "\n",
              "    .colab-df-convert:hover {\n",
              "      background-color: #E2EBFA;\n",
              "      box-shadow: 0px 1px 2px rgba(60, 64, 67, 0.3), 0px 1px 3px 1px rgba(60, 64, 67, 0.15);\n",
              "      fill: #174EA6;\n",
              "    }\n",
              "\n",
              "    [theme=dark] .colab-df-convert {\n",
              "      background-color: #3B4455;\n",
              "      fill: #D2E3FC;\n",
              "    }\n",
              "\n",
              "    [theme=dark] .colab-df-convert:hover {\n",
              "      background-color: #434B5C;\n",
              "      box-shadow: 0px 1px 3px 1px rgba(0, 0, 0, 0.15);\n",
              "      filter: drop-shadow(0px 1px 2px rgba(0, 0, 0, 0.3));\n",
              "      fill: #FFFFFF;\n",
              "    }\n",
              "  </style>\n",
              "\n",
              "      <script>\n",
              "        const buttonEl =\n",
              "          document.querySelector('#df-4afdf802-d763-45be-8fb5-01a60111c6b7 button.colab-df-convert');\n",
              "        buttonEl.style.display =\n",
              "          google.colab.kernel.accessAllowed ? 'block' : 'none';\n",
              "\n",
              "        async function convertToInteractive(key) {\n",
              "          const element = document.querySelector('#df-4afdf802-d763-45be-8fb5-01a60111c6b7');\n",
              "          const dataTable =\n",
              "            await google.colab.kernel.invokeFunction('convertToInteractive',\n",
              "                                                     [key], {});\n",
              "          if (!dataTable) return;\n",
              "\n",
              "          const docLinkHtml = 'Like what you see? Visit the ' +\n",
              "            '<a target=\"_blank\" href=https://colab.research.google.com/notebooks/data_table.ipynb>data table notebook</a>'\n",
              "            + ' to learn more about interactive tables.';\n",
              "          element.innerHTML = '';\n",
              "          dataTable['output_type'] = 'display_data';\n",
              "          await google.colab.output.renderOutput(dataTable, element);\n",
              "          const docLink = document.createElement('div');\n",
              "          docLink.innerHTML = docLinkHtml;\n",
              "          element.appendChild(docLink);\n",
              "        }\n",
              "      </script>\n",
              "    </div>\n",
              "  </div>\n",
              "  "
            ]
          },
          "metadata": {},
          "execution_count": 228
        }
      ]
    },
    {
      "cell_type": "markdown",
      "source": [
        "3. df의 ducument column의 데이터 길이 분포 확인\n",
        " - 너무 짧은 리뷰는 추출 후 삭제"
      ],
      "metadata": {
        "id": "xWlA5Dn2xmN3"
      }
    },
    {
      "cell_type": "code",
      "source": [
        "df_review = df['document']"
      ],
      "metadata": {
        "id": "vL5zqRjzztrf"
      },
      "execution_count": 239,
      "outputs": []
    },
    {
      "cell_type": "code",
      "source": [
        "min_len = 999\n",
        "max_len = 0\n",
        "sum_len = 0\n",
        "\n",
        "for sen in df_review:\n",
        "  length = len(sen)\n",
        "  if min_len > length: min_len = length\n",
        "  if max_len < length: max_len = length\n",
        "  sum_len += length\n",
        "\n",
        "print('문장의 최단 길이:', min_len)\n",
        "print('문장의 최장 길이:', max_len)\n",
        "print('문장의 평균 길이:', sum_len // len(df_review))\n",
        "\n",
        "sentence_length = np.zeros((max_len), dtype = np.int64)\n",
        "\n",
        "for sen in df_review:\n",
        "  sentence_length[len(sen)-1] += 1\n",
        "\n",
        "plt.bar(range(max_len), sentence_length, width = 1.0)\n",
        "plt.title('Sentence Length Distribition')\n",
        "plt.show()\n",
        "\n",
        "# 문장 분포에서 길이가 1이지만 1000개의 row가 있는것이 확인되었다.\n",
        "# 문장을 확이해보는것이 필요하다."
      ],
      "metadata": {
        "colab": {
          "base_uri": "https://localhost:8080/",
          "height": 335
        },
        "id": "foduQGiWxpIj",
        "outputId": "b20dabae-88c0-4af7-9b0e-69b6d2ae3321"
      },
      "execution_count": 240,
      "outputs": [
        {
          "output_type": "stream",
          "name": "stdout",
          "text": [
            "문장의 최단 길이: 1\n",
            "문장의 최장 길이: 140\n",
            "문장의 평균 길이: 33\n"
          ]
        },
        {
          "output_type": "display_data",
          "data": {
            "text/plain": [
              "<Figure size 432x288 with 1 Axes>"
            ],
            "image/png": "[encoded data removed]"
          },
          "metadata": {
            "needs_background": "light"
          }
        }
      ]
    },
    {
      "cell_type": "code",
      "source": [
        "# 길이가 1인 데이터 출력\n",
        "df[df['document'].str.len() == 1]\n",
        "# 공백이 문장으로 남아있는 현상이 발생하였다.\n",
        "# 전처리 후 생긴 문제인거같다."
      ],
      "metadata": {
        "colab": {
          "base_uri": "https://localhost:8080/",
          "height": 424
        },
        "id": "PvjMwXrj1PhH",
        "outputId": "2364747a-a360-4ec5-9014-eadbcc2e5d4e"
      },
      "execution_count": 241,
      "outputs": [
        {
          "output_type": "execute_result",
          "data": {
            "text/plain": [
              "              id document  label\n",
              "8        7477618        굿      1\n",
              "106      5458245        핡      1\n",
              "111      6906147               1\n",
              "190      7059515               1\n",
              "203     10216462               1\n",
              "...          ...      ...    ...\n",
              "199271   4852134               0\n",
              "199297   9233162               0\n",
              "199321   4602734        2      0\n",
              "199581   2259844               0\n",
              "199848   7727438               0\n",
              "\n",
              "[1149 rows x 3 columns]"
            ],
            "text/html": [
              "\n",
              "  <div id=\"df-68169559-9130-41af-8ae5-4ef0a268db03\">\n",
              "    <div class=\"colab-df-container\">\n",
              "      <div>\n",
              "<style scoped>\n",
              "    .dataframe tbody tr th:only-of-type {\n",
              "        vertical-align: middle;\n",
              "    }\n",
              "\n",
              "    .dataframe tbody tr th {\n",
              "        vertical-align: top;\n",
              "    }\n",
              "\n",
              "    .dataframe thead th {\n",
              "        text-align: right;\n",
              "    }\n",
              "</style>\n",
              "<table border=\"1\" class=\"dataframe\">\n",
              "  <thead>\n",
              "    <tr style=\"text-align: right;\">\n",
              "      <th></th>\n",
              "      <th>id</th>\n",
              "      <th>document</th>\n",
              "      <th>label</th>\n",
              "    </tr>\n",
              "  </thead>\n",
              "  <tbody>\n",
              "    <tr>\n",
              "      <th>8</th>\n",
              "      <td>7477618</td>\n",
              "      <td>굿</td>\n",
              "      <td>1</td>\n",
              "    </tr>\n",
              "    <tr>\n",
              "      <th>106</th>\n",
              "      <td>5458245</td>\n",
              "      <td>핡</td>\n",
              "      <td>1</td>\n",
              "    </tr>\n",
              "    <tr>\n",
              "      <th>111</th>\n",
              "      <td>6906147</td>\n",
              "      <td></td>\n",
              "      <td>1</td>\n",
              "    </tr>\n",
              "    <tr>\n",
              "      <th>190</th>\n",
              "      <td>7059515</td>\n",
              "      <td></td>\n",
              "      <td>1</td>\n",
              "    </tr>\n",
              "    <tr>\n",
              "      <th>203</th>\n",
              "      <td>10216462</td>\n",
              "      <td></td>\n",
              "      <td>1</td>\n",
              "    </tr>\n",
              "    <tr>\n",
              "      <th>...</th>\n",
              "      <td>...</td>\n",
              "      <td>...</td>\n",
              "      <td>...</td>\n",
              "    </tr>\n",
              "    <tr>\n",
              "      <th>199271</th>\n",
              "      <td>4852134</td>\n",
              "      <td></td>\n",
              "      <td>0</td>\n",
              "    </tr>\n",
              "    <tr>\n",
              "      <th>199297</th>\n",
              "      <td>9233162</td>\n",
              "      <td></td>\n",
              "      <td>0</td>\n",
              "    </tr>\n",
              "    <tr>\n",
              "      <th>199321</th>\n",
              "      <td>4602734</td>\n",
              "      <td>2</td>\n",
              "      <td>0</td>\n",
              "    </tr>\n",
              "    <tr>\n",
              "      <th>199581</th>\n",
              "      <td>2259844</td>\n",
              "      <td></td>\n",
              "      <td>0</td>\n",
              "    </tr>\n",
              "    <tr>\n",
              "      <th>199848</th>\n",
              "      <td>7727438</td>\n",
              "      <td></td>\n",
              "      <td>0</td>\n",
              "    </tr>\n",
              "  </tbody>\n",
              "</table>\n",
              "<p>1149 rows × 3 columns</p>\n",
              "</div>\n",
              "      <button class=\"colab-df-convert\" onclick=\"convertToInteractive('df-68169559-9130-41af-8ae5-4ef0a268db03')\"\n",
              "              title=\"Convert this dataframe to an interactive table.\"\n",
              "              style=\"display:none;\">\n",
              "        \n",
              "  <svg xmlns=\"http://www.w3.org/2000/svg\" height=\"24px\"viewBox=\"0 0 24 24\"\n",
              "       width=\"24px\">\n",
              "    <path d=\"M0 0h24v24H0V0z\" fill=\"none\"/>\n",
              "    <path d=\"M18.56 5.44l.94 2.06.94-2.06 2.06-.94-2.06-.94-.94-2.06-.94 2.06-2.06.94zm-11 1L8.5 8.5l.94-2.06 2.06-.94-2.06-.94L8.5 2.5l-.94 2.06-2.06.94zm10 10l.94 2.06.94-2.06 2.06-.94-2.06-.94-.94-2.06-.94 2.06-2.06.94z\"/><path d=\"M17.41 7.96l-1.37-1.37c-.4-.4-.92-.59-1.43-.59-.52 0-1.04.2-1.43.59L10.3 9.45l-7.72 7.72c-.78.78-.78 2.05 0 2.83L4 21.41c.39.39.9.59 1.41.59.51 0 1.02-.2 1.41-.59l7.78-7.78 2.81-2.81c.8-.78.8-2.07 0-2.86zM5.41 20L4 18.59l7.72-7.72 1.47 1.35L5.41 20z\"/>\n",
              "  </svg>\n",
              "      </button>\n",
              "      \n",
              "  <style>\n",
              "    .colab-df-container {\n",
              "      display:flex;\n",
              "      flex-wrap:wrap;\n",
              "      gap: 12px;\n",
              "    }\n",
              "\n",
              "    .colab-df-convert {\n",
              "      background-color: #E8F0FE;\n",
              "      border: none;\n",
              "      border-radius: 50%;\n",
              "      cursor: pointer;\n",
              "      display: none;\n",
              "      fill: #1967D2;\n",
              "      height: 32px;\n",
              "      padding: 0 0 0 0;\n",
              "      width: 32px;\n",
              "    }\n",
              "\n",
              "    .colab-df-convert:hover {\n",
              "      background-color: #E2EBFA;\n",
              "      box-shadow: 0px 1px 2px rgba(60, 64, 67, 0.3), 0px 1px 3px 1px rgba(60, 64, 67, 0.15);\n",
              "      fill: #174EA6;\n",
              "    }\n",
              "\n",
              "    [theme=dark] .colab-df-convert {\n",
              "      background-color: #3B4455;\n",
              "      fill: #D2E3FC;\n",
              "    }\n",
              "\n",
              "    [theme=dark] .colab-df-convert:hover {\n",
              "      background-color: #434B5C;\n",
              "      box-shadow: 0px 1px 3px 1px rgba(0, 0, 0, 0.15);\n",
              "      filter: drop-shadow(0px 1px 2px rgba(0, 0, 0, 0.3));\n",
              "      fill: #FFFFFF;\n",
              "    }\n",
              "  </style>\n",
              "\n",
              "      <script>\n",
              "        const buttonEl =\n",
              "          document.querySelector('#df-68169559-9130-41af-8ae5-4ef0a268db03 button.colab-df-convert');\n",
              "        buttonEl.style.display =\n",
              "          google.colab.kernel.accessAllowed ? 'block' : 'none';\n",
              "\n",
              "        async function convertToInteractive(key) {\n",
              "          const element = document.querySelector('#df-68169559-9130-41af-8ae5-4ef0a268db03');\n",
              "          const dataTable =\n",
              "            await google.colab.kernel.invokeFunction('convertToInteractive',\n",
              "                                                     [key], {});\n",
              "          if (!dataTable) return;\n",
              "\n",
              "          const docLinkHtml = 'Like what you see? Visit the ' +\n",
              "            '<a target=\"_blank\" href=https://colab.research.google.com/notebooks/data_table.ipynb>data table notebook</a>'\n",
              "            + ' to learn more about interactive tables.';\n",
              "          element.innerHTML = '';\n",
              "          dataTable['output_type'] = 'display_data';\n",
              "          await google.colab.output.renderOutput(dataTable, element);\n",
              "          const docLink = document.createElement('div');\n",
              "          docLink.innerHTML = docLinkHtml;\n",
              "          element.appendChild(docLink);\n",
              "        }\n",
              "      </script>\n",
              "    </div>\n",
              "  </div>\n",
              "  "
            ]
          },
          "metadata": {},
          "execution_count": 241
        }
      ]
    },
    {
      "cell_type": "code",
      "source": [
        "df['document'].iloc[111]\n",
        "# 특정행을 출력해보니 ' '인 것을 확인하였다.\n",
        "# 이런 데이터는 전부 지워주도록 해야겠다."
      ],
      "metadata": {
        "colab": {
          "base_uri": "https://localhost:8080/",
          "height": 35
        },
        "id": "gJgckHwr1_P8",
        "outputId": "a22e14fd-f998-4d48-c285-61e465aff340"
      },
      "execution_count": 242,
      "outputs": [
        {
          "output_type": "execute_result",
          "data": {
            "text/plain": [
              "' '"
            ],
            "application/vnd.google.colaboratory.intrinsic+json": {
              "type": "string"
            }
          },
          "metadata": {},
          "execution_count": 242
        }
      ]
    },
    {
      "cell_type": "code",
      "source": [
        "# 삭제할 조건 지정 후 삭제\n",
        "index = df[df['document'] == ' '].index\n",
        "df.drop(index, inplace = True)"
      ],
      "metadata": {
        "id": "vaAkC_vt5B4D"
      },
      "execution_count": 243,
      "outputs": []
    },
    {
      "cell_type": "code",
      "source": [
        "df_review = df['document']"
      ],
      "metadata": {
        "id": "wAzzCnN56Ceg"
      },
      "execution_count": 244,
      "outputs": []
    },
    {
      "cell_type": "code",
      "source": [
        "min_len = 999\n",
        "max_len = 0\n",
        "sum_len = 0\n",
        "\n",
        "for sen in df_review:\n",
        "  length = len(sen)\n",
        "  if min_len > length: min_len = length\n",
        "  if max_len < length: max_len = length\n",
        "  sum_len += length\n",
        "\n",
        "print('문장의 최단 길이:', min_len)\n",
        "print('문장의 최장 길이:', max_len)\n",
        "print('문장의 평균 길이:', sum_len // len(df))\n",
        "\n",
        "sentence_length = np.zeros((max_len), dtype = np.int64)\n",
        "\n",
        "for sen in df_review:\n",
        "  sentence_length[len(sen)-1] += 1\n",
        "\n",
        "plt.bar(range(max_len), sentence_length, width = 1.0)\n",
        "plt.title('Sentence Length Distribition')\n",
        "plt.show()\n",
        "\n",
        "# 문장 분포에서 길이가 1이지만 1000개의 row가 있는것이 확인되었다.\n",
        "# 문장을 확이해보는것이 필요하다."
      ],
      "metadata": {
        "colab": {
          "base_uri": "https://localhost:8080/",
          "height": 335
        },
        "id": "ruW9vEjb5-og",
        "outputId": "b846ea9d-c7df-458f-8f8c-b43409e70dd7"
      },
      "execution_count": 245,
      "outputs": [
        {
          "output_type": "stream",
          "name": "stdout",
          "text": [
            "문장의 최단 길이: 1\n",
            "문장의 최장 길이: 140\n",
            "문장의 평균 길이: 33\n"
          ]
        },
        {
          "output_type": "display_data",
          "data": {
            "text/plain": [
              "<Figure size 432x288 with 1 Axes>"
            ],
            "image/png": "[encoded data removed]"
          },
          "metadata": {
            "needs_background": "light"
          }
        }
      ]
    },
    {
      "cell_type": "code",
      "source": [
        "# 샘플 길이에따른 데이터 분포 확인\n",
        "def below_threshold_len(max_len, nested_list):\n",
        "  cnt = 0\n",
        "  for s in nested_list:\n",
        "    if(len(s) <= max_len):\n",
        "      cnt = cnt + 1\n",
        "  print('전체 샘플 중 길이가 %s 이하인 샘플의 비율: %s'%(max_len, (cnt / len(nested_list))))"
      ],
      "metadata": {
        "id": "-yCd798372SY"
      },
      "execution_count": 246,
      "outputs": []
    },
    {
      "cell_type": "code",
      "source": [
        "below_threshold_len(33, df_review) # 평균\n",
        "below_threshold_len(150, df_review) # 최대\n",
        "below_threshold_len(40, df_review) # 임의 지정1\n",
        "below_threshold_len(60, df_review) # 임의 지정2\n",
        "below_threshold_len(80, df_review) # 임의 지정2"
      ],
      "metadata": {
        "colab": {
          "base_uri": "https://localhost:8080/"
        },
        "id": "A9GQ54iW79hW",
        "outputId": "64b4d3de-d87f-4cd0-dc9f-ff3dd668986f"
      },
      "execution_count": 247,
      "outputs": [
        {
          "output_type": "stream",
          "name": "stdout",
          "text": [
            "전체 샘플 중 길이가 33 이하인 샘플의 비율: 0.6526510022018462\n",
            "전체 샘플 중 길이가 150 이하인 샘플의 비율: 1.0\n",
            "전체 샘플 중 길이가 40 이하인 샘플의 비율: 0.7503127035157179\n",
            "전체 샘플 중 길이가 60 이하인 샘플의 비율: 0.8691658827542719\n",
            "전체 샘플 중 길이가 80 이하인 샘플의 비율: 0.9168415394316549\n"
          ]
        }
      ]
    },
    {
      "cell_type": "code",
      "source": [
        "# 일정 길이의 데이터 제외시키기\n",
        "# 문장길이는 최대 60, 최소 5로 지정한다.\n",
        "\n",
        "max_len = 60\n",
        "min_len = 5\n",
        "\n",
        "# 길이 조건에 맞는 문장만 선택합니다.\n",
        "filtered_corpus = [s for s in df_review if (len(s) < max_len) & (len(s) >= min_len)]\n",
        "\n",
        "# 분포도를 다시 그려봅니다.\n",
        "sentence_length = np.zeros((max_len), dtype = np.int64)\n",
        "\n",
        "for sen in filtered_corpus:\n",
        "  sentence_length[len(sen)-1] += 1\n",
        "\n",
        "plt.bar(range(max_len), sentence_length, width=1.0)\n",
        "plt.title(\"Sentence Length Distribution\")\n",
        "plt.show()"
      ],
      "metadata": {
        "colab": {
          "base_uri": "https://localhost:8080/",
          "height": 281
        },
        "id": "FKKwvSr16f_F",
        "outputId": "56b23c9c-6e99-41b1-fe7a-5f5341cf3fd2"
      },
      "execution_count": 248,
      "outputs": [
        {
          "output_type": "display_data",
          "data": {
            "text/plain": [
              "<Figure size 432x288 with 1 Axes>"
            ],
            "image/png": "[encoded data removed]"
          },
          "metadata": {
            "needs_background": "light"
          }
        }
      ]
    },
    {
      "cell_type": "markdown",
      "source": [
        "# Step 1. SentencePiece 설치하기\n",
        "\n",
        "SentencePiece는 Google에서 제공하는 오픈소스 기반 Sentence Tokenizer/Detokenizer 로서, BPE와 unigram 2가지 subword 토크나이징 모델 중 하나를 선택해서 사용할 수 있도록 패키징한 것입니다. 아래 링크의 페이지에서 상세한 내용을 파악할 수 있습니다.\n",
        "\n",
        "[google/sentencepiece](https://github.com/google/sentencepiece)\n",
        "\n",
        "위 페이지의 서두에서도 언급하고 있듯, SentencePiece는 딥러닝 자연어처리 모델의 앞부분에 사용할 목적으로 최적화되어 있는데, 최근 pretrained model들이 거의 대부분 SentencePiece를 tokenizer로 채용하면서 사실상 표준의 역할을 하고 있습니다.\n",
        "\n",
        "다음과 같이 설치를 진행합니다. SentencePiece는 python에서 쓰라고 만들어진 라이브러리는 아니지만 편리한 파이썬 wrapper를 아래와 같이 제공하고 있습니다."
      ],
      "metadata": {
        "id": "bSfQN4Sg9Zzv"
      }
    },
    {
      "cell_type": "code",
      "execution_count": 262,
      "metadata": {
        "id": "tLfRFkan6IoI",
        "colab": {
          "base_uri": "https://localhost:8080/",
          "height": 226
        },
        "outputId": "da969265-fb63-445a-994b-d142f31b08f0"
      },
      "outputs": [
        {
          "output_type": "error",
          "ename": "FileExistsError",
          "evalue": "ignored",
          "traceback": [
            "\u001b[0;31m---------------------------------------------------------------------------\u001b[0m",
            "\u001b[0;31mFileExistsError\u001b[0m                           Traceback (most recent call last)",
            "\u001b[0;32m<ipython-input-262-320dc7b696dc>\u001b[0m in \u001b[0;36m<module>\u001b[0;34m\u001b[0m\n\u001b[1;32m      3\u001b[0m \u001b[0mmy_path\u001b[0m \u001b[0;34m=\u001b[0m \u001b[0;34m'/content/drive'\u001b[0m\u001b[0;34m\u001b[0m\u001b[0;34m\u001b[0m\u001b[0m\n\u001b[1;32m      4\u001b[0m \u001b[0;31m# Colab Notebooks 안에 my_env 폴더에 패키지 저장\u001b[0m\u001b[0;34m\u001b[0m\u001b[0;34m\u001b[0m\u001b[0;34m\u001b[0m\u001b[0m\n\u001b[0;32m----> 5\u001b[0;31m \u001b[0mos\u001b[0m\u001b[0;34m.\u001b[0m\u001b[0msymlink\u001b[0m\u001b[0;34m(\u001b[0m\u001b[0;34m'/content/drive/MyDrive/Colab Notebooks/sentencepiece'\u001b[0m\u001b[0;34m,\u001b[0m \u001b[0mmy_path\u001b[0m\u001b[0;34m)\u001b[0m\u001b[0;34m\u001b[0m\u001b[0;34m\u001b[0m\u001b[0m\n\u001b[0m\u001b[1;32m      6\u001b[0m \u001b[0msys\u001b[0m\u001b[0;34m.\u001b[0m\u001b[0mpath\u001b[0m\u001b[0;34m.\u001b[0m\u001b[0minsert\u001b[0m\u001b[0;34m(\u001b[0m\u001b[0;36m0\u001b[0m\u001b[0;34m,\u001b[0m \u001b[0mmy_path\u001b[0m\u001b[0;34m)\u001b[0m\u001b[0;34m\u001b[0m\u001b[0;34m\u001b[0m\u001b[0m\n",
            "\u001b[0;31mFileExistsError\u001b[0m: [Errno 17] File exists: '/content/drive/MyDrive/Colab Notebooks/sentencepiece' -> '/content/drive'"
          ]
        }
      ],
      "source": [
        "import os, sys\n",
        "\n",
        "my_path = '/content/drive'\n",
        "# Colab Notebooks 안에 my_env 폴더에 패키지 저장\n",
        "os.symlink('/content/drive/MyDrive/Colab Notebooks/sentencepiece', my_path)\n",
        "sys.path.insert(0, my_path)"
      ]
    },
    {
      "cell_type": "code",
      "source": [
        "!pip install --target=$my_path sentencepiece"
      ],
      "metadata": {
        "colab": {
          "base_uri": "https://localhost:8080/"
        },
        "id": "lZQhPoLc73Sk",
        "outputId": "44b90776-5555-4cbf-82c9-a57587b931f1"
      },
      "execution_count": null,
      "outputs": [
        {
          "output_type": "stream",
          "name": "stdout",
          "text": [
            "Looking in indexes: https://pypi.org/simple, https://us-python.pkg.dev/colab-wheels/public/simple/\n",
            "Collecting sentencepiece\n",
            "  Downloading sentencepiece-0.1.97-cp37-cp37m-manylinux_2_17_x86_64.manylinux2014_x86_64.whl (1.3 MB)\n",
            "\u001b[K     |████████████████████████████████| 1.3 MB 3.7 MB/s \n",
            "\u001b[?25hInstalling collected packages: sentencepiece\n",
            "Successfully installed sentencepiece-0.1.97\n"
          ]
        }
      ]
    },
    {
      "cell_type": "code",
      "source": [
        "!pip install sentencepiece"
      ],
      "metadata": {
        "colab": {
          "base_uri": "https://localhost:8080/"
        },
        "id": "HatWRyIQVJRN",
        "outputId": "013697bd-3e18-4e57-b711-e600bc617fc4"
      },
      "execution_count": 264,
      "outputs": [
        {
          "output_type": "stream",
          "name": "stdout",
          "text": [
            "Looking in indexes: https://pypi.org/simple, https://us-python.pkg.dev/colab-wheels/public/simple/\n",
            "Collecting sentencepiece\n",
            "  Downloading sentencepiece-0.1.97-cp37-cp37m-manylinux_2_17_x86_64.manylinux2014_x86_64.whl (1.3 MB)\n",
            "\u001b[K     |████████████████████████████████| 1.3 MB 4.0 MB/s \n",
            "\u001b[?25hInstalling collected packages: sentencepiece\n",
            "Successfully installed sentencepiece-0.1.97\n"
          ]
        }
      ]
    },
    {
      "cell_type": "markdown",
      "source": [
        "Step 2. SentencePiece 모델 학습\n",
        "\n",
        "[SentencePiece 보충 학습](https://paul-hyun.github.io/vocab-with-sentencepiece/)\n",
        "\n",
        "- input: 입력 corpus\n",
        "- prefix: 저장할 모델 이름\n",
        "- vocab_size: vocab 개수 (기본 8,000에 스페셜 토큰 7개를 더해서 8,007개)\n",
        "- max_sentence_length: 문장의 최대 길이\n",
        "- pad_id, pad_piece: pad token id, 값\n",
        "- unk_id, unk_piece: unknown token id, 값\n",
        "- bos_id, bos_piece: begin of sentence token id, 값\n",
        "- eos_id, eos_piece: end of sequence token id, 값\n",
        "- user_defined_symbols: 사용자 정의 토큰\n"
      ],
      "metadata": {
        "id": "N7dEUL8v_lli"
      }
    },
    {
      "cell_type": "code",
      "source": [
        "import sentencepiece as spm\n",
        "\n",
        "temp_file = '/content/drive/MyDrive/Aiffel/GD_project/GD2_file/korean-english-park.train.ko.temp'\n",
        "\n",
        "vocab_size = 8000\n",
        "\n",
        "with open(temp_file, 'w') as f:\n",
        "  for row in filtered_corpus: # 이전 스텝에서 정제했던 corpus를 활용합니다.\n",
        "    f.write(str(row) + '\\n')\n",
        "\n",
        "spm.SentencePieceTrainer.Train(\n",
        "    '--input={} --model_prefix=korean_spm --vocab_size={}'.format(temp_file, vocab_size))\n",
        "\n",
        "# 위 Train에서  --model_type = 'unigram'이 디폴트 적용되어 있습니다. \n",
        "# --model_type = 'bpe' 로 옵션을 주어 변경할 수 있습니다."
      ],
      "metadata": {
        "id": "GVtISZH2EWb5"
      },
      "execution_count": 277,
      "outputs": []
    },
    {
      "cell_type": "code",
      "source": [
        "!ls -l korean_spm*"
      ],
      "metadata": {
        "colab": {
          "base_uri": "https://localhost:8080/"
        },
        "id": "Ja_Qu9I9_YQs",
        "outputId": "05c58204-306f-441c-c23e-5aaa5508a645"
      },
      "execution_count": 278,
      "outputs": [
        {
          "output_type": "stream",
          "name": "stdout",
          "text": [
            "-rw-r--r-- 1 root root 378855 Sep 23 03:29 korean_spm.model\n",
            "-rw-r--r-- 1 root root 148313 Sep 23 03:29 korean_spm.vocab\n"
          ]
        }
      ]
    },
    {
      "cell_type": "code",
      "source": [
        "# SentencePiece 모델 테스트하기\n",
        "s = spm.SentencePieceProcessor()\n",
        "s.Load('korean_spm.model')\n",
        "\n",
        "# SentencePiece를 활용한 sentence -> encoding\n",
        "tokensIDs = s.EncodeAsIds('아버지가방에들어가신다.')\n",
        "print(tokensIDs)\n",
        "\n",
        "# SentencePiece를 활용한 sentence -> encoded pieces\n",
        "print(s.SampleEncodeAsPieces('아버지가방에들어가신다.',-1, 0.0))\n",
        "\n",
        "# SentencePiece를 활용한 encoding -> sentence 복원\n",
        "print(s.DecodeIds(tokensIDs))"
      ],
      "metadata": {
        "id": "y8ucdWFA9TEg",
        "colab": {
          "base_uri": "https://localhost:8080/"
        },
        "outputId": "918e9541-32c9-4c35-b759-33f4db1d929b"
      },
      "execution_count": 279,
      "outputs": [
        {
          "output_type": "stream",
          "name": "stdout",
          "text": [
            "[1377, 7, 437, 13, 1274, 7, 164, 11, 0]\n",
            "['▁아', '버', '지', '가', '방', '에', '들', '어', '가', '신', '다', '.']\n",
            "아버지가방에들어가신다 ⁇ \n"
          ]
        }
      ]
    },
    {
      "cell_type": "markdown",
      "source": [
        "# Step 3. Tokenizer 함수 작성\n",
        "\n",
        "우리는 위에서 훈련시킨 SentencePiece를 활용하여 위 함수와 유사한 기능을 하는 sp_tokenize()\n",
        "함수를 정의할 겁니다. 하지만 SentencePiece가 동작하는 방식이 단순 토큰화와는 달라 완전히 동일하게는 정의하기 어렵습니다. 그러니 아래 조건을 만족하는 함수를 정의하도록 하습니다.\n",
        "\n",
        "1. 매개변수로 토큰화된 문장의 list를 전달하는 대신 온전한 문장의 list 를 전달합니다.\n",
        "\n",
        "2. 생성된 vocab 파일을 읽어와 { <word> : <idx> } 형태를 가지는 word_index 사전과 { <idx> : <word>} 형태를 가지는 index_word 사전을 생성하고 함께 반환합니다.\n",
        "\n",
        "3. 리턴값인 tensor 는 앞의 함수와 동일하게 토큰화한 후 Encoding된 문장입니다. 바로 학습에 사용할 수 있게 Padding은 당연히 해야겠죠?\n",
        "\n"
      ],
      "metadata": {
        "id": "cFABMXHaK8R4"
      }
    },
    {
      "cell_type": "code",
      "source": [
        "def sp_tokenize(s, corpus):\n",
        "\n",
        "    tensor = []\n",
        "\n",
        "    for sen in corpus:\n",
        "        tensor.append(s.EncodeAsIds(sen))\n",
        "\n",
        "    with open(\"./korean_spm.vocab\", 'r') as f:\n",
        "        vocab = f.readlines()\n",
        "\n",
        "    word_index = {}\n",
        "    index_word = {}\n",
        "\n",
        "    for idx, line in enumerate(vocab):\n",
        "        word = line.split(\"\\t\")[0]\n",
        "\n",
        "        word_index.update({word:idx})\n",
        "        index_word.update({idx:word})\n",
        "\n",
        "    tensor = tf.keras.preprocessing.sequence.pad_sequences(tensor, padding='post')\n",
        "\n",
        "    return tensor, word_index, index_word"
      ],
      "metadata": {
        "id": "Iuozn2VvLTE0"
      },
      "execution_count": 275,
      "outputs": []
    },
    {
      "cell_type": "code",
      "source": [
        "import tensorflow as tf"
      ],
      "metadata": {
        "id": "xli7CBZIY5fc"
      },
      "execution_count": 272,
      "outputs": []
    },
    {
      "cell_type": "code",
      "source": [
        "#sp_tokenize(s, corpus) 사용예제\n",
        "\n",
        "s = spm.SentencePieceProcessor()\n",
        "s.Load('korean_spm.model') \n",
        "\n",
        "my_corpus = ['나는 밥을 먹었습니다.', '그러나 여전히 ㅠㅠ 배가 고픕니다...']\n",
        "tensor, word_index, index_word = sp_tokenize(s, my_corpus)\n",
        "print(tensor)"
      ],
      "metadata": {
        "id": "uXXafdUs9UlH",
        "colab": {
          "base_uri": "https://localhost:8080/"
        },
        "outputId": "3d6931ae-05ce-46d6-f7c4-48a2232c4b55"
      },
      "execution_count": 281,
      "outputs": [
        {
          "output_type": "stream",
          "name": "stdout",
          "text": [
            "[[ 440 2821   10 1005 2421    0    0    0    0    0    0]\n",
            " [1145 1858    3    0  532    7    3   12 7901  650    0]]\n"
          ]
        }
      ]
    },
    {
      "cell_type": "markdown",
      "source": [
        " # Step4 모델 생성"
      ],
      "metadata": {
        "id": "uudSjTXKeIFK"
      }
    },
    {
      "cell_type": "code",
      "source": [
        "# 텐서와 단어 사전 나누기 \n",
        "tensor, word_index, index_word = sp_tokenize(s, df['document'])"
      ],
      "metadata": {
        "id": "TZqsgbUIaSxF"
      },
      "execution_count": 285,
      "outputs": []
    },
    {
      "cell_type": "code",
      "source": [
        "from sklearn.model_selection import train_test_split\n",
        "\n",
        "filtered_label = np.array(df['label'])\n",
        "x_train, x_val, y_train, y_val = train_test_split(tensor, filtered_label, test_size=0.2)\n",
        "x_train, x_test, y_train, y_test = train_test_split(x_train, y_train, test_size=0.2)"
      ],
      "metadata": {
        "id": "bjsqigwkauB6"
      },
      "execution_count": 286,
      "outputs": []
    },
    {
      "cell_type": "code",
      "source": [
        "print(len(x_train), len(x_test), len(x_val))\n",
        "print(len(y_train), len(y_test), len(y_val))"
      ],
      "metadata": {
        "colab": {
          "base_uri": "https://localhost:8080/"
        },
        "id": "T22NE9UjcHT2",
        "outputId": "027b6f91-8a26-4d02-f773-6094c136d543"
      },
      "execution_count": 287,
      "outputs": [
        {
          "output_type": "stream",
          "name": "stdout",
          "text": [
            "123823 30956 38695\n",
            "123823 30956 38695\n"
          ]
        }
      ]
    },
    {
      "cell_type": "code",
      "source": [
        "from tensorflow.keras.layers import LSTM, Bidirectional\n",
        "from tensorflow import keras\n",
        "from tensorflow.keras.initializers import Constant\n",
        "\n",
        "vocab_size = vocab_size   # 어휘 사전의 크기입니다(10,000개의 단어)\n",
        "word_vector_dim = 32  # 워드 벡터의 차원 수 \n",
        "\n",
        "model_BILSTM = tf.keras.Sequential()\n",
        "model_BILSTM.add(tf.keras.layers.Embedding(vocab_size, \n",
        "                                 word_vector_dim))\n",
        "model_BILSTM.add(keras.layers.Bidirectional(LSTM(64)))\n",
        "model_BILSTM.add(keras.layers.Dense(1, activation='sigmoid'))\n",
        "\n",
        "model_BILSTM.summary()"
      ],
      "metadata": {
        "colab": {
          "base_uri": "https://localhost:8080/"
        },
        "id": "KRbDSR2iaEmI",
        "outputId": "07ca9798-b00a-4e7f-8f5d-b3c880e1c46f"
      },
      "execution_count": 289,
      "outputs": [
        {
          "output_type": "stream",
          "name": "stdout",
          "text": [
            "Model: \"sequential_1\"\n",
            "_________________________________________________________________\n",
            " Layer (type)                Output Shape              Param #   \n",
            "=================================================================\n",
            " embedding_1 (Embedding)     (None, None, 32)          256000    \n",
            "                                                                 \n",
            " bidirectional (Bidirectiona  (None, 128)              49664     \n",
            " l)                                                              \n",
            "                                                                 \n",
            " dense (Dense)               (None, 1)                 129       \n",
            "                                                                 \n",
            "=================================================================\n",
            "Total params: 305,793\n",
            "Trainable params: 305,793\n",
            "Non-trainable params: 0\n",
            "_________________________________________________________________\n"
          ]
        }
      ]
    },
    {
      "cell_type": "code",
      "source": [
        "# 학습 진행하기\n",
        "\n",
        "model_BILSTM.compile(optimizer='adam',\n",
        "              loss='binary_crossentropy',\n",
        "              metrics=['accuracy'])\n",
        "              \n",
        "epochs = 20\n",
        "# 앞선 모델들이 낮은 에포크에서 이미 validation loss가 증가하는 현상을 보여 에포크를 10으로 낮춰서 학습해보기로 결정하였다.\n",
        "\n",
        "history5 = model_BILSTM.fit(x_train, y_train,\n",
        "                    epochs=epochs,\n",
        "                    batch_size=512,\n",
        "                    validation_data=(x_val, y_val),\n",
        "                    verbose=1)"
      ],
      "metadata": {
        "colab": {
          "base_uri": "https://localhost:8080/"
        },
        "id": "VS4O8EB4cfom",
        "outputId": "2145d16d-09a9-4d54-c6ff-1a58dfefcec9"
      },
      "execution_count": 290,
      "outputs": [
        {
          "output_type": "stream",
          "name": "stdout",
          "text": [
            "Epoch 1/20\n",
            "242/242 [==============================] - 18s 35ms/step - loss: 0.4762 - accuracy: 0.7724 - val_loss: 0.3687 - val_accuracy: 0.8441\n",
            "Epoch 2/20\n",
            "242/242 [==============================] - 7s 31ms/step - loss: 0.3326 - accuracy: 0.8598 - val_loss: 0.3494 - val_accuracy: 0.8495\n",
            "Epoch 3/20\n",
            "242/242 [==============================] - 7s 31ms/step - loss: 0.3089 - accuracy: 0.8686 - val_loss: 0.3447 - val_accuracy: 0.8513\n",
            "Epoch 4/20\n",
            "242/242 [==============================] - 7s 31ms/step - loss: 0.2932 - accuracy: 0.8759 - val_loss: 0.3440 - val_accuracy: 0.8522\n",
            "Epoch 5/20\n",
            "242/242 [==============================] - 7s 31ms/step - loss: 0.2782 - accuracy: 0.8816 - val_loss: 0.3459 - val_accuracy: 0.8508\n",
            "Epoch 6/20\n",
            "242/242 [==============================] - 7s 31ms/step - loss: 0.2613 - accuracy: 0.8891 - val_loss: 0.3557 - val_accuracy: 0.8496\n",
            "Epoch 7/20\n",
            "242/242 [==============================] - 7s 31ms/step - loss: 0.2460 - accuracy: 0.8956 - val_loss: 0.3606 - val_accuracy: 0.8497\n",
            "Epoch 8/20\n",
            "242/242 [==============================] - 7s 31ms/step - loss: 0.2307 - accuracy: 0.9026 - val_loss: 0.3679 - val_accuracy: 0.8447\n",
            "Epoch 9/20\n",
            "242/242 [==============================] - 7s 31ms/step - loss: 0.2172 - accuracy: 0.9085 - val_loss: 0.3973 - val_accuracy: 0.8457\n",
            "Epoch 10/20\n",
            "242/242 [==============================] - 7s 31ms/step - loss: 0.2050 - accuracy: 0.9135 - val_loss: 0.4227 - val_accuracy: 0.8428\n",
            "Epoch 11/20\n",
            "242/242 [==============================] - 7s 31ms/step - loss: 0.1920 - accuracy: 0.9187 - val_loss: 0.4188 - val_accuracy: 0.8407\n",
            "Epoch 12/20\n",
            "242/242 [==============================] - 7s 31ms/step - loss: 0.1829 - accuracy: 0.9227 - val_loss: 0.4385 - val_accuracy: 0.8371\n",
            "Epoch 13/20\n",
            "242/242 [==============================] - 7s 31ms/step - loss: 0.1710 - accuracy: 0.9278 - val_loss: 0.4861 - val_accuracy: 0.8355\n",
            "Epoch 14/20\n",
            "242/242 [==============================] - 8s 31ms/step - loss: 0.1604 - accuracy: 0.9319 - val_loss: 0.5219 - val_accuracy: 0.8341\n",
            "Epoch 15/20\n",
            "242/242 [==============================] - 7s 31ms/step - loss: 0.1484 - accuracy: 0.9381 - val_loss: 0.5344 - val_accuracy: 0.8339\n",
            "Epoch 16/20\n",
            "242/242 [==============================] - 7s 31ms/step - loss: 0.1379 - accuracy: 0.9432 - val_loss: 0.6069 - val_accuracy: 0.8313\n",
            "Epoch 17/20\n",
            "242/242 [==============================] - 8s 31ms/step - loss: 0.1276 - accuracy: 0.9479 - val_loss: 0.6491 - val_accuracy: 0.8297\n",
            "Epoch 18/20\n",
            "242/242 [==============================] - 7s 31ms/step - loss: 0.1179 - accuracy: 0.9522 - val_loss: 0.6691 - val_accuracy: 0.8287\n",
            "Epoch 19/20\n",
            "242/242 [==============================] - 7s 31ms/step - loss: 0.1076 - accuracy: 0.9571 - val_loss: 0.7642 - val_accuracy: 0.8234\n",
            "Epoch 20/20\n",
            "242/242 [==============================] - 7s 31ms/step - loss: 0.1000 - accuracy: 0.9604 - val_loss: 0.7433 - val_accuracy: 0.8281\n"
          ]
        }
      ]
    },
    {
      "cell_type": "code",
      "source": [
        "# 그래프 dict_keys\n",
        "\n",
        "history_dict5 = history5.history\n",
        "print(history_dict5.keys()) # epoch에 따른 그래프를 그려볼 수 있는 항목들"
      ],
      "metadata": {
        "colab": {
          "base_uri": "https://localhost:8080/"
        },
        "id": "tDGs2FZJdlcb",
        "outputId": "0cabda22-4aa2-4727-ecf0-39f3dbde9760"
      },
      "execution_count": 291,
      "outputs": [
        {
          "output_type": "stream",
          "name": "stdout",
          "text": [
            "dict_keys(['loss', 'accuracy', 'val_loss', 'val_accuracy'])\n"
          ]
        }
      ]
    },
    {
      "cell_type": "code",
      "source": [
        "import matplotlib.pyplot as plt\n",
        "\n",
        "acc = history_dict5['accuracy']\n",
        "val_acc = history_dict5['val_accuracy']\n",
        "loss = history_dict5['loss']\n",
        "val_loss = history_dict5['val_loss']\n",
        "\n",
        "epochs = range(1, len(acc) + 1)\n",
        "\n",
        "# \"bo\"는 \"파란색 점\"입니다\n",
        "plt.plot(epochs, loss, 'bo', label='Training loss')\n",
        "# r는 \"빨간 실선\"입니다\n",
        "plt.plot(epochs, val_loss, 'r', label='Validation loss')\n",
        "plt.title('Training and validation loss')\n",
        "plt.xlabel('Epochs')\n",
        "plt.ylabel('Loss')\n",
        "plt.legend()\n",
        "\n",
        "plt.show()"
      ],
      "metadata": {
        "colab": {
          "base_uri": "https://localhost:8080/",
          "height": 295
        },
        "id": "RwphhdODdrok",
        "outputId": "85bbd7cc-c9e8-4527-a86d-c8fc2059dbb7"
      },
      "execution_count": 292,
      "outputs": [
        {
          "output_type": "display_data",
          "data": {
            "text/plain": [
              "<Figure size 432x288 with 1 Axes>"
            ],
            "image/png": "[encoded data removed]"
          },
          "metadata": {
            "needs_background": "light"
          }
        }
      ]
    },
    {
      "cell_type": "code",
      "source": [
        "plt.clf()   # 그림을 초기화합니다\n",
        "# \"ro\"는 \"빨간색 점\"입니다\n",
        "plt.plot(epochs, acc, 'ro', label='Training acc')\n",
        "# b는 \"파란 실선\"입니다\n",
        "plt.plot(epochs, val_acc, 'b', label='Validation acc')\n",
        "plt.title('Training and validation accuracy')\n",
        "plt.xlabel('Epochs')\n",
        "plt.ylabel('Accuracy')\n",
        "plt.legend()\n",
        "\n",
        "plt.show()"
      ],
      "metadata": {
        "colab": {
          "base_uri": "https://localhost:8080/",
          "height": 295
        },
        "id": "ctEyQfoUd1Yl",
        "outputId": "4e822562-7db0-428f-a771-49b54dd1cf00"
      },
      "execution_count": 293,
      "outputs": [
        {
          "output_type": "display_data",
          "data": {
            "text/plain": [
              "<Figure size 432x288 with 1 Axes>"
            ],
            "image/png": "[encoded data removed]"
          },
          "metadata": {
            "needs_background": "light"
          }
        }
      ]
    },
    {
      "cell_type": "code",
      "source": [
        "results = model_BILSTM.evaluate(x_test,  y_test, verbose=2)\n",
        "print(results)"
      ],
      "metadata": {
        "colab": {
          "base_uri": "https://localhost:8080/"
        },
        "id": "7jcdDJqmeFI3",
        "outputId": "78afc035-0b12-4c9c-8c32-d87fad895da0"
      },
      "execution_count": 296,
      "outputs": [
        {
          "output_type": "stream",
          "name": "stdout",
          "text": [
            "968/968 - 6s - loss: 0.7314 - accuracy: 0.8296 - 6s/epoch - 6ms/step\n",
            "[0.7314338684082031, 0.8295968174934387]\n"
          ]
        }
      ]
    }
  ]
}